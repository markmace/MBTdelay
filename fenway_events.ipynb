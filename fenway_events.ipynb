{
 "cells": [
  {
   "cell_type": "markdown",
   "metadata": {},
   "source": [
    "Organize events occuring along train line for MBTAdelay\n",
    "Estimate which hours events are occuring at times and fill\n",
    "dataframe for addition to general MBTdelay dataframe\n",
    "\n",
    "Currently only for Green Line D Branch/Fenway Park\n",
    "\n",
    "(C) Mark Mace 2019"
   ]
  },
  {
   "cell_type": "code",
   "execution_count": 1,
   "metadata": {},
   "outputs": [],
   "source": [
    "# BASIC IMPORT\n",
    "import numpy as np\n",
    "import os\n",
    "import matplotlib.pyplot as plt\n",
    "import csv\n",
    "import pandas as pd\n",
    "\n",
    "# FOR DATES AND TIMES #\n",
    "import time\n",
    "import datetime\n",
    "from dateutil import tz\n",
    "from datetime import timedelta\n",
    "import arrow\n",
    "from time import strptime\n",
    "\n",
    "# GENERAL PURPOSE DATE-TIME FUNCTION\n",
    "from date_time_functions import *"
   ]
  },
  {
   "cell_type": "code",
   "execution_count": 2,
   "metadata": {},
   "outputs": [],
   "source": [
    "## SPECIFIC DATE-TIME FUNCTIONS\n",
    "#Apr 11 2016 to 2016-11-06\n",
    "def convert_to_numdate(x):\n",
    "    mon_loc=x[:3]\n",
    "    day_loc=str(int(x[4:6])).zfill(2)\n",
    "    yr_loc=x[len(x)-4:len(x)]\n",
    "    mon_res=str(strptime(str(mon_loc),'%b').tm_mon).zfill(2)\n",
    "    return yr_loc+\"-\"+mon_res+\"-\"+day_loc\n",
    "\n",
    "# FILL IN DATE WITH ZEROS\n",
    "def fixdate_fillzeros(x):\n",
    "    m,d,y=x.split(\"/\")\n",
    "    m=m.zfill(2)\n",
    "    d=d.zfill(2)\n",
    "    return y+\"-\"+m+\"-\"+d\n",
    "\n",
    "# CONVERT HH:MM TO HOURS\n",
    "def to_hours(x):\n",
    "    xh,xm=x.split(':')\n",
    "    return float(xh)+float(xm)/60.0\n",
    "\n"
   ]
  },
  {
   "cell_type": "code",
   "execution_count": 3,
   "metadata": {},
   "outputs": [],
   "source": [
    "# IMPORT REDSOX SCHEDULES\n",
    "rs_raw_2016=pd.read_csv(\"EVENT_SCHED/raw_2016.csv\")\n",
    "rs_raw_2017=pd.read_csv(\"EVENT_SCHED/raw_2017.csv\")\n",
    "rs_raw_2018=pd.read_csv(\"EVENT_SCHED/raw_2018.csv\")\n",
    "rs_raw_2019=pd.read_csv(\"EVENT_SCHED/raw_2019.csv\")\n",
    "\n",
    "# PICK OUT ONLY HOME GAMES, ASSIGN YEAR, AND REDUCE DATAFRAME SIZE\n",
    "rs_2016=rs_raw_2016[rs_raw_2016['At']!=\"@\"]\n",
    "rs_2016=rs_2016.drop('At',axis=1).drop('Bs',axis=1).drop('Gm',axis=1)\n",
    "rs_2016['year']=' 2016'\n",
    "\n",
    "rs_2017=rs_raw_2017[rs_raw_2017['At']!=\"@\"]\n",
    "rs_2017=rs_2017.drop('At',axis=1).drop('Bs',axis=1).drop('Gm',axis=1).drop('OrigScheduled',axis=1)\n",
    "rs_2017['year']=' 2017'\n",
    "\n",
    "rs_2018=rs_raw_2018[rs_raw_2018['At']!=\"@\"]\n",
    "rs_2018=rs_2018.drop('At',axis=1).drop('Bs',axis=1).drop('Gm',axis=1)\n",
    "rs_2018['year']=' 2018'\n",
    "\n",
    "rs_2019=rs_raw_2019[rs_raw_2019['At']!=\"@\"]\n",
    "rs_2019=rs_2019.drop('At',axis=1).drop('Bs',axis=1).drop('Gm',axis=1)\n",
    "rs_2019['year']=' 2019'\n"
   ]
  },
  {
   "cell_type": "code",
   "execution_count": 4,
   "metadata": {},
   "outputs": [],
   "source": [
    "# DETERMINE STARTING AND ENDING TIMES WHEN NOT SUPPLIED\n",
    "\n",
    "# TIME SPAN (LOCAL TIME) ESTIMATES\n",
    "rs_d_start_hour=12 # estimate for start time of day game\n",
    "rs_n_start_hour=19 # estimate for start time of night game\n",
    "co_n_start_hour=18 # estimate for start time of concert\n",
    "co_n_end_hour=23 # estimate for end time of concert\n",
    "\n",
    "def add_time(df):\n",
    "    if df['event']==1: # REDSOX\n",
    "        if df['DN']=='D':\n",
    "            return np.arange(rs_d_start_hour,np.ceil(rs_d_start_hour+1+to_hours(df['length']))+1)\n",
    "        elif df['DN']=='N':\n",
    "            return np.arange(rs_n_start_hour,np.ceil(rs_n_start_hour+1+to_hours(df['length']))+1)\n",
    "        else:\n",
    "            print(\"NO GAME!\")\n",
    "            return [] # NO GAME ?\n",
    "    elif df['event']==2: # CONCERT\n",
    "        if df['DN']=='N':\n",
    "            return np.arange(co_n_start_hour,co_n_end_hour+1)\n",
    "        else: \n",
    "            print(\"NO DAY CONCERTS\")\n",
    "            return [] # NO DAY CONCERTS\n",
    "            \n",
    "    else:\n",
    "        print(\"NOTHING\")\n",
    "        return [] # NOTHING\n",
    "            "
   ]
  },
  {
   "cell_type": "code",
   "execution_count": 5,
   "metadata": {},
   "outputs": [],
   "source": [
    "# CONSIDER ALL BASEBALL GAMES AND ASSIGN TIMES\n",
    "all_rs=[rs_2016,rs_2017,rs_2018,rs_2019]\n",
    "all_rs=pd.concat(all_rs)\n",
    "\n",
    "# MAKE \n",
    "all_rs['fd']=all_rs['Date'].str.cat(all_rs['year']) # FULL DATE\n",
    "all_rs=all_rs.drop('Date',axis=1).drop('year',axis=1) # DROP INDIVIDUAL DATE COLUMNS\n",
    "all_rs['date']=all_rs['fd'].apply(lambda x: convert_to_numdate(x)) # CHANGE FORMAT\n",
    "all_rs=all_rs.drop('fd',axis=1) # DROP fd DATE\n",
    "all_rs=all_rs.rename(columns={'Time': 'length'}) # RENAME\n",
    "\n",
    "all_rs['event']=int(1) # DENOTE AS BASEBALL GAME\n"
   ]
  },
  {
   "cell_type": "code",
   "execution_count": 6,
   "metadata": {},
   "outputs": [],
   "source": [
    "# CONSIDER ALL CONCERTS AND ADD TIMES\n",
    "concerts=pd.read_csv(\"EVENT_SCHED/concerts.csv\")\n",
    "concerts['date']=concerts['date'].apply(lambda x: fixdate_fillzeros(x)) # FIX THE DATE FORMAT\n",
    "concerts['DN']='N' # SPECIFY THAT ALL CONCERTS ARE AT NIGHT -- MATCHING BASEBALL FORMAT\n",
    "concerts['event']=int(2) # DENOTE AS A CONCERT\n"
   ]
  },
  {
   "cell_type": "code",
   "execution_count": 7,
   "metadata": {},
   "outputs": [],
   "source": [
    "# COMBINE BASEBALL GAMES AND CONCERTS\n",
    "all_events=[all_rs,concerts]\n",
    "all_events=pd.concat(all_events,sort=False) # MAKE DF\n",
    "all_events=all_events[['date','event','DN','length']] # SPECIFY COLUMNS\n",
    "all_events=all_events.sort_values(by=['date']) # DATE SORT\n",
    "all_events=all_events.reset_index(drop=True) # RE-INDEX\n",
    "all_events['time']=0.0 # SET ALL FOR HAVE A DUMMY TIME AS 0\n"
   ]
  },
  {
   "cell_type": "code",
   "execution_count": 28,
   "metadata": {},
   "outputs": [],
   "source": [
    "# ADD TIME COMPONENT -- OVERWRITING 0\n",
    "\n",
    "# DETERMINE HOURS OF EVENTS BASED ON ESTIMATED START AND END TIMES\n",
    "time_addition=all_events.apply(lambda row: add_time(row), axis=1) # A LIST OF ALL HOURS\n",
    "\n",
    "# CAST TO LIST\n",
    "all_hours=[]\n",
    "for i in range(len(time_addition)):\n",
    "    for j in range(len(time_addition[i])):\n",
    "        all_hours.append(time_addition[i][j])\n",
    "\n",
    "# GET LIST OF EVENT NUMBERS TO MAP EVENT HOURS TO\n",
    "event_hour_map=[]\n",
    "for j in range(len(all_events)):\n",
    "    for i in range(len(time_addition[j])):\n",
    "        event_hour_map.append(j)\n",
    "\n",
    "# COPY DATAFRAME REPEATING ROWS\n",
    "all_events_wt=all_events.iloc[event_hour_map]\n",
    "\n",
    "# CHECK LENGHTS ARE THE SAME\n",
    "if(len(all_hours)!=len(all_events_wt['time'])):\n",
    "   print(\"!! WARNING -- DIFFERENT TIME ASSIGNMENT LENGTHS !!\")\n",
    "\n",
    "# APPLY HOURS\n",
    "all_events_wt.loc[:,('time')]=all_hours\n"
   ]
  },
  {
   "cell_type": "code",
   "execution_count": null,
   "metadata": {},
   "outputs": [],
   "source": []
  },
  {
   "cell_type": "code",
   "execution_count": 30,
   "metadata": {},
   "outputs": [],
   "source": [
    "# FINAL EVENT SCHEDULE WITH TIMES AND DATES\n",
    "# CHANGE FORMATS\n",
    "all_events_wt=all_events_wt.reset_index(drop=True)\n",
    "all_events_wt[\"period\"]=all_events_wt[\"date\"].map(str)+\" \"+all_events_wt[\"time\"].astype(int).map(str)+\":00\"\n",
    "all_events_wt[\"u_datetime\"]=all_events_wt[\"period\"].apply(lambda x: conv_east_to_unixts_hm(x))\n",
    "\n",
    "header = [\"u_datetime\", \"event\",\"period\",\"DN\"]\n",
    "all_events_wt.to_csv('EVENT_SCHED/all_events.csv',columns=header,index=False)\n"
   ]
  },
  {
   "cell_type": "code",
   "execution_count": null,
   "metadata": {},
   "outputs": [],
   "source": []
  }
 ],
 "metadata": {
  "kernelspec": {
   "display_name": "Python 3",
   "language": "python",
   "name": "python3"
  },
  "language_info": {
   "codemirror_mode": {
    "name": "ipython",
    "version": 3
   },
   "file_extension": ".py",
   "mimetype": "text/x-python",
   "name": "python",
   "nbconvert_exporter": "python",
   "pygments_lexer": "ipython3",
   "version": "3.7.4"
  }
 },
 "nbformat": 4,
 "nbformat_minor": 2
}
