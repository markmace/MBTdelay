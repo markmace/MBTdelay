{
 "cells": [
  {
   "cell_type": "code",
   "execution_count": 1,
   "metadata": {},
   "outputs": [],
   "source": [
    "# SIMPLE LINEAR REGRESSION"
   ]
  },
  {
   "cell_type": "code",
   "execution_count": 2,
   "metadata": {},
   "outputs": [],
   "source": [
    "# GENERAL INCLUSIONS\n",
    "import numpy as np\n",
    "import glob,os\n",
    "import matplotlib.pyplot as plt\n",
    "import csv\n",
    "import pandas as pd\n",
    "import numpy as np\n",
    "import matplotlib.pyplot as plt\n",
    "from scipy import stats\n",
    "\n",
    "import pickle\n",
    "\n",
    "from sklearn import metrics\n",
    "from sklearn.metrics import mean_squared_error, r2_score\n",
    "\n",
    "from sklearn import linear_model\n",
    "from sklearn.linear_model import LinearRegression\n",
    "from sklearn.model_selection import train_test_split\n",
    "from sklearn.model_selection import cross_validate\n",
    "\n",
    "from sklearn.model_selection import cross_val_score, GridSearchCV\n",
    "from sklearn.ensemble import RandomForestRegressor\n",
    "from sklearn.preprocessing import MinMaxScaler\n",
    "from sklearn.preprocessing import StandardScaler\n",
    "from sklearn.preprocessing import RobustScaler\n",
    "from sklearn.model_selection import RandomizedSearchCV\n",
    "\n",
    "from sklearn.pipeline import Pipeline\n",
    "\n",
    "# FOR DATES AND TIMES #\n",
    "import time\n",
    "import datetime\n",
    "from dateutil import tz\n",
    "from datetime import timedelta\n",
    "import arrow"
   ]
  },
  {
   "cell_type": "code",
   "execution_count": 3,
   "metadata": {},
   "outputs": [],
   "source": [
    "# CONVERT UNIX (utc) TIMESTAMP TO YYYY-mm-dd HH:MM:SS (EASTERN)\n",
    "def conv_unixts_to_east_hms(ts):\n",
    "    east=arrow.Arrow.fromtimestamp(ts).to('US/Eastern')\n",
    "    return east.format('YYYY-MM-DD HH:mm:ss')\n",
    "\n",
    "def get_hour(dt_str):\n",
    "    return dt_str[11:13]\n",
    "\n",
    "def get_month_num(dt_str):\n",
    "    return dt_str[5:7]\n",
    "\n",
    "\n",
    "# RETURNS DAY OF WEEK \n",
    "# M-0, Tu-1, W-2, Th-3 F-4 Sa-6 Su-7\n",
    "# TAKES YYYY-MM-DD HH:MM:SS RETURNS Day (IN WHATEVER TIMEZONE)\n",
    "def get_day_of_week(dt):\n",
    "    dtt = arrow.get(dt)\n",
    "    return dtt.weekday()\n",
    "\n",
    "# TAKES UNIX TS RETURNS Day (IN EASTERN/BOSTON)\n",
    "def get_day_of_week_east_unix(ts):\n",
    "    east=conv_unixts_to_east_hms(ts)\n",
    "    return get_day_of_week(east)\n",
    "    \n",
    "# TAKES UNIX TS RETURNS Day (IN UTC)\n",
    "def get_day_of_week_utc_unix(ts):\n",
    "    utc=conv_unixts_to_utc_hms(ts)\n",
    "    return get_day_of_week(utc)\n",
    "    \n"
   ]
  },
  {
   "cell_type": "code",
   "execution_count": 4,
   "metadata": {},
   "outputs": [],
   "source": [
    "### ML SPECIFIC FUNCTIONS\n",
    "### FOR FEATURE ENGINEERING\n",
    "# ONE HOT ENCODE EVENT -- 1--event, 0--no event\n",
    "def bin_event(x):\n",
    "    x=int(x)\n",
    "    if(x!=0):\n",
    "        return 1\n",
    "    else:\n",
    "        return 0\n",
    "\n",
    "# YES OR NO \n",
    "def bin_weather(x):\n",
    "    x=float(x)\n",
    "    if(x>0):\n",
    "        return 1\n",
    "    else:\n",
    "        return 0\n",
    "    \n",
    "# BIN PRECIPITATION TYPE\n",
    "def bin_ptype(x):\n",
    "    if(x==1): # None\n",
    "        return 0\n",
    "    else: # rain, snow or sleet\n",
    "        return 0\n",
    "    \n",
    "# BIN IN d_bin SECONDS\n",
    "d_bin=30\n",
    "def bin_delay(x):\n",
    "    x=float(x)\n",
    "    if(x<=0):\n",
    "        return 0\n",
    "    else:\n",
    "        return int(x/d_bin)\n",
    "    \n",
    "#BIN IN t_bin DEGREES\n",
    "t_bin=10\n",
    "def bin_temp(x):\n",
    "    x=float(x)\n",
    "    if(x<=0):\n",
    "        return 0\n",
    "    else:\n",
    "        return int(x/t_bin)\n",
    "    \n",
    "        \n",
    "# PEAK HOUR BIN\n",
    "def bin_peak(x):\n",
    "    x=float(x)\n",
    "    if(6<=x<=10 or 4<=x<=7):\n",
    "        return 1\n",
    "    else:\n",
    "        return 0\n",
    "           \n",
    "# WEEKDAY BIN\n",
    "def bin_weekday(x):\n",
    "    x=float(x)\n",
    "    if(x<5):\n",
    "        return 1 # WEEKDAY\n",
    "    else:\n",
    "        return 0 # WEEKEND\n",
    "    \n",
    "# SEASON\n",
    "def bin_season(x):\n",
    "    x=float(x)\n",
    "    if(x in {1,2,12}):\n",
    "        return 0 # WINTER\n",
    "    elif(x in {3,4,5}):\n",
    "        return 1 # SPRING\n",
    "    elif(x in {9,10,11}):\n",
    "        return 2 # FALL\n",
    "    elif(x in {6,7,8}):\n",
    "        return 3 # SUMMER\n",
    "    else:\n",
    "        print(\"NOT A VALID MONTH\")\n",
    "        return -1 # WRONG"
   ]
  },
  {
   "cell_type": "code",
   "execution_count": 11,
   "metadata": {},
   "outputs": [],
   "source": [
    "# another self-defined eval metric\n",
    "# f(y_true: array, y_pred: array) -> name: string, eval_result: float, is_higher_better: bool\n",
    "# Relative Absolute Error (RAE)\n",
    "def rae(y_true, y_pred):\n",
    "    return 'RAE', np.sum(np.abs(y_pred - y_true)) / np.sum(np.abs(np.mean(y_true) - y_true)), False\n"
   ]
  },
  {
   "cell_type": "code",
   "execution_count": 5,
   "metadata": {},
   "outputs": [
    {
     "data": {
      "text/plain": [
       "Index(['Unnamed: 0', 'U_DATETIME', 'HEAD_GAP', 'HDW_T', 'BNCH_HDW_T', 'TEMP',\n",
       "       'PRECIP_INT', 'PRECIP_PRO', 'PRECIP_ACC', 'PRECIP_TYP', 'u_datetime',\n",
       "       'event', 'period', 'DN', 'DATETIME', 'HOUR_BIN', 'MONTH_BIN', 'DOW',\n",
       "       'PRECIP_TYP_ENC'],\n",
       "      dtype='object')"
      ]
     },
     "execution_count": 5,
     "metadata": {},
     "output_type": "execute_result"
    }
   ],
   "source": [
    "MBTdelay_df=[]\n",
    "ds_files=glob.glob(\"DS/DS_*.csv\")\n",
    "for ds_f in ds_files:\n",
    "#     print(ds_f)\n",
    "    station_name,station_id=ds_f.replace(\"DS/DS_\",\"\").replace(\".csv\",\"\").split(\"_\")\n",
    "    df_temp=pd.read_csv(ds_f)\n",
    "\n",
    "    MBTdelay_df.append([station_name,station_id,df_temp])\n",
    "    \n",
    "    # ENCODE PRECIP TYPE AS NUMBER\n",
    "MBTdelay_df=np.array(MBTdelay_df)\n",
    "MBTdelay_df[0][2].columns"
   ]
  },
  {
   "cell_type": "code",
   "execution_count": 6,
   "metadata": {},
   "outputs": [],
   "source": [
    "# MBTdelay_df[0][2]['MONTH_BIN'].unique()"
   ]
  },
  {
   "cell_type": "code",
   "execution_count": 17,
   "metadata": {},
   "outputs": [],
   "source": [
    "# RESULTS OF THE FUNCTION BELOW #\n",
    "f_combo_1=[0,0,1,0,1,0,1,0,0]\n",
    "f_combo_2=[0,1,1,0,1,0,1,0,0] # <-- THIS IS THE BEST COMBO\n",
    "\n",
    "# FEATURE ENGINEER DATA AND PERFORM TRAIN-TEST SPLIT\n",
    "def feature_engineer_and_split(loc_df,EVENT_FLAG,SNOW_YN_FLAG,RAIN_YN_FLAG,\n",
    "          WEEKDAY_FLAG,PRECIP_TYP_FLAG,PEAK_FLAG,DELAY_FLAG,SEASON_FLAG,TEMP_FLAG,split_perc,shuffle_flag):\n",
    "    \n",
    "#     print(np.mean(test_df['HEAD_GAP']))\n",
    "    fe_df=loc_df[np.isfinite(loc_df['TEMP'])].copy()\n",
    "\n",
    "    if(EVENT_FLAG==1):\n",
    "        fe_df['event']=fe_df['event'].apply(lambda x: bin_weather(x))\n",
    "\n",
    "    if(SNOW_YN_FLAG==1):\n",
    "        fe_df['PRECIP_ACC']=fe_df['PRECIP_ACC'].apply(lambda x: bin_weather(x))\n",
    "\n",
    "    if(RAIN_YN_FLAG==1):\n",
    "        fe_df['PRECIP_INT']=fe_df['PRECIP_INT'].apply(lambda x: bin_weather(x))\n",
    "\n",
    "    if(WEEKDAY_FLAG==1):\n",
    "        fe_df['DOW']=fe_df['DOW'].apply(lambda x: bin_weekday(x))\n",
    "        \n",
    "    if(PRECIP_TYP_FLAG==1):\n",
    "        fe_df['PRECIP_TYP_ENC']=fe_df['PRECIP_TYP_ENC'].apply(lambda x: bin_ptype(x))\n",
    "\n",
    "    if(PEAK_FLAG==1):\n",
    "        fe_df['HOUR_BIN']=fe_df['HOUR_BIN'].apply(lambda x: bin_peak(x))\n",
    "\n",
    "    if(DELAY_FLAG==1):\n",
    "        fe_df['HEAD_GAP']=fe_df['HEAD_GAP'].apply(lambda x: bin_delay(x))\n",
    "\n",
    "    if(SEASON_FLAG==1):\n",
    "        fe_df['MONTH_BIN']=fe_df['MONTH_BIN'].apply(lambda x: bin_season(x))\n",
    "        \n",
    "    if(TEMP_FLAG==1):\n",
    "        fe_df['TEMP']=fe_df['TEMP'].apply(lambda x: bin_temp(x))\n",
    "\n",
    "\n",
    "    all_x=np.transpose(np.array([fe_df['HOUR_BIN'], fe_df['DOW'], fe_df['MONTH_BIN'],\n",
    "                                fe_df['event'],fe_df['PRECIP_TYP_ENC'],\n",
    "                                fe_df['PRECIP_INT'], fe_df['PRECIP_ACC'], \n",
    "                                fe_df['PRECIP_PRO'], fe_df['TEMP']],dtype=np.float32))\n",
    "\n",
    "    all_y=np.array([fe_df['HEAD_GAP']],dtype=np.float32)[0]\n",
    "\n",
    "\n",
    "    X_train, X_test, y_train, y_test = train_test_split(all_x, all_y, test_size=split_perc, random_state=0,shuffle=shuffle_flag)\n",
    "    \n",
    "    return X_train, X_test, y_train, y_test \n"
   ]
  },
  {
   "cell_type": "code",
   "execution_count": 18,
   "metadata": {},
   "outputs": [
    {
     "name": "stdout",
     "output_type": "stream",
     "text": [
      "Saving model...\n",
      "Starting predicting...\n",
      "The rmse of prediction is: 8.703036021902653\n",
      "The rae of prediction is: 0.87529707\n",
      "Variance score:  -0.10892979856316254\n"
     ]
    }
   ],
   "source": [
    "## THIS IS JUST FOR TESTING ##\n",
    "\n",
    "# TEST STATION NUMBER # \n",
    "station_num_id=3\n",
    "\n",
    "test_size=0.2\n",
    "\n",
    "# LOCAL LOAD DATAFRAME \n",
    "station_name=MBTdelay_df[station_num_id][0]\n",
    "station_id=MBTdelay_df[station_num_id][1]\n",
    "test_df=MBTdelay_df[station_num_id][2].copy()\n",
    "test_df = test_df[np.isfinite(test_df['HEAD_GAP'])]\n",
    "\n",
    "X_train, X_test, y_train, y_test=feature_engineer_and_split(test_df, 0,1,1,0,1,0,1,0,0,test_size,False)\n",
    "# X_train, X_test, y_train, y_test=feature_engineer_and_split(df_loc,0,1,1,0,1,0,1,0,0,0.2) # FEATURE ENGINEERED\n",
    "# Create linear regression object\n",
    "regr = linear_model.LinearRegression()\n",
    "\n",
    "# Train the model using the training sets\n",
    "regr.fit(X_train, y_train)\n",
    "\n",
    "print('Saving model...')\n",
    "# save model to file\n",
    "pickle.dump(regr, open('NEW_LR_MODEL/'+station_name+'_'+station_id+'.pk', 'wb'))\n",
    "    \n",
    "\n",
    "print('Starting predicting...')\n",
    "\n",
    "# Make predictions using the testing set\n",
    "y_pred = regr.predict(X_test)\n",
    "\n",
    "# eval\n",
    "print('The rmse of prediction is:', mean_squared_error(y_test, y_pred) ** 0.5)\n",
    "print('The rae of prediction is:', rae(y_test, y_pred)[1])\n",
    "print('Variance score: ',r2_score(y_test,y_pred))\n"
   ]
  },
  {
   "cell_type": "code",
   "execution_count": 19,
   "metadata": {},
   "outputs": [
    {
     "name": "stdout",
     "output_type": "stream",
     "text": [
      "[1. 6. 4. ... 3. 1. 4.] [2.0542583 1.9745562 2.14776   ... 1.6477038 1.5886531 1.5322828] [ 1.0542583 -4.025444  -1.8522401 ... -1.3522962  0.5886531 -2.4677172]\n"
     ]
    }
   ],
   "source": [
    "print(y_test,y_pred,y_pred-y_test)"
   ]
  },
  {
   "cell_type": "code",
   "execution_count": 15,
   "metadata": {},
   "outputs": [
    {
     "data": {
      "text/plain": [
       "[<matplotlib.lines.Line2D at 0x115b617d0>]"
      ]
     },
     "execution_count": 15,
     "metadata": {},
     "output_type": "execute_result"
    },
    {
     "data": {
      "image/png": "[encoded data removed]",
      "text/plain": [
       "<Figure size 432x288 with 1 Axes>"
      ]
     },
     "metadata": {
      "needs_background": "light"
     },
     "output_type": "display_data"
    }
   ],
   "source": [
    "plt.plot(np.arange(len(y_test)),y_test)\n",
    "plt.plot(np.arange(len(y_pred)),y_pred)"
   ]
  },
  {
   "cell_type": "code",
   "execution_count": 14,
   "metadata": {},
   "outputs": [
    {
     "name": "stdout",
     "output_type": "stream",
     "text": [
      "Saving model...\n",
      "Starting predicting...\n",
      "Saving model...\n",
      "Starting predicting...\n",
      "Saving model...\n",
      "Starting predicting...\n",
      "Saving model...\n",
      "Starting predicting...\n",
      "Saving model...\n",
      "Starting predicting...\n",
      "Saving model...\n",
      "Starting predicting...\n",
      "Saving model...\n",
      "Starting predicting...\n",
      "Saving model...\n",
      "Starting predicting...\n",
      "Saving model...\n",
      "Starting predicting...\n",
      "Saving model...\n",
      "Starting predicting...\n",
      "Saving model...\n",
      "Starting predicting...\n",
      "Saving model...\n",
      "Starting predicting...\n",
      "Saving model...\n",
      "Starting predicting...\n",
      "Saving model...\n",
      "Starting predicting...\n",
      "Saving model...\n",
      "Starting predicting...\n",
      "Saving model...\n",
      "Starting predicting...\n",
      "Saving model...\n",
      "Starting predicting...\n",
      "Saving model...\n",
      "Starting predicting...\n",
      "Saving model...\n",
      "Starting predicting...\n",
      "Saving model...\n",
      "Starting predicting...\n",
      "Saving model...\n",
      "Starting predicting...\n",
      "Saving model...\n",
      "Starting predicting...\n",
      "Saving model...\n",
      "Starting predicting...\n",
      "Saving model...\n",
      "Starting predicting...\n",
      "Saving model...\n",
      "Starting predicting...\n",
      "Saving model...\n",
      "Starting predicting...\n",
      "Saving model...\n",
      "Starting predicting...\n",
      "Saving model...\n",
      "Starting predicting...\n",
      "Saving model...\n",
      "Starting predicting...\n",
      "Saving model...\n",
      "Starting predicting...\n",
      "Saving model...\n",
      "Starting predicting...\n",
      "Saving model...\n",
      "Starting predicting...\n",
      "Saving model...\n",
      "Starting predicting...\n",
      "Saving model...\n",
      "Starting predicting...\n",
      "Saving model...\n",
      "Starting predicting...\n",
      "Saving model...\n",
      "Starting predicting...\n",
      "Saving model...\n",
      "Starting predicting...\n",
      "Saving model...\n",
      "Starting predicting...\n",
      "Saving model...\n",
      "Starting predicting...\n",
      "Saving model...\n",
      "Starting predicting...\n",
      "Saving model...\n",
      "Starting predicting...\n",
      "Saving model...\n",
      "Starting predicting...\n",
      "Saving model...\n",
      "Starting predicting...\n",
      "Saving model...\n",
      "Starting predicting...\n",
      "Saving model...\n",
      "Starting predicting...\n",
      "Saving model...\n",
      "Starting predicting...\n",
      "Saving model...\n",
      "Starting predicting...\n",
      "Saving model...\n",
      "Starting predicting...\n",
      "Saving model...\n",
      "Starting predicting...\n"
     ]
    }
   ],
   "source": [
    "# BUFFERS FOR ANALYTICS\n",
    "data_metrics=[]\n",
    "model_outcomes=[]\n",
    "\n",
    "# TRAIN-TEST SPLIT\n",
    "test_size=0.2\n",
    "\n",
    "# PARAMETERS DETERMINED FROM CV SCAN \n",
    "params_prod = {\n",
    "    'boosting_type': 'gbdt',\n",
    "    'objective': 'regression',\n",
    "    'metric': {'rmse'},\n",
    "    'num_leaves': 8,\n",
    "    'learning_rate': 0.12,\n",
    "    'feature_fraction': 0.9,\n",
    "    'bagging_fraction': 0.8,\n",
    "    'bagging_freq': 5,\n",
    "    'verbose': 0\n",
    "}\n",
    "\n",
    "# RUN MODEL FOR ALL STATIOS AND SAVE TO FILE #\n",
    "for station_num_id in range(len(MBTdelay_df)):\n",
    "    \n",
    "    # LOAD DATAFRAME \n",
    "    station_name=MBTdelay_df[station_num_id][0]\n",
    "    station_id=MBTdelay_df[station_num_id][1]\n",
    "    test_df=MBTdelay_df[station_num_id][2].copy()\n",
    "\n",
    "    # SIMPLE STATS FOR DATA FOR A STATION\n",
    "    gap_mode=stats.mode(test_df['HEAD_GAP'].values)\n",
    "    gap_mean=np.mean(test_df['HEAD_GAP'])\n",
    "    gap_mean_unc=np.std(test_df['HEAD_GAP'])/np.sqrt(len(test_df['HEAD_GAP']))\n",
    "    \n",
    "    # SAVE METRICS TO ARRAY \n",
    "    data_metrics.append([station_name,station_id,\n",
    "                    gap_mode,\n",
    "                    gap_mean,\n",
    "                    gap_mean_unc\n",
    "                    ])\n",
    "    \n",
    "    # GENERATE TEST-TRAIN SPLIT -- USES FEATURE ENGINEERING DETERMINED PREVIOUSLY #\n",
    "    X_train, X_test, y_train, y_test=feature_engineer_and_split(test_df, 0,1,1,0,1,0,1,0,0, test_size)\n",
    "    \n",
    "    # Create linear regression object\n",
    "    regr = linear_model.LinearRegression()\n",
    "\n",
    "    # Train the model using the training sets\n",
    "    regr.fit(X_train, y_train)\n",
    "\n",
    "    print('Saving model...')\n",
    "    # save model to file\n",
    "    pickle.dump(regr, open('NEW_LR_MODEL/'+station_name+'_'+station_id+'.pk', 'wb'))\n",
    "\n",
    "    print('Starting predicting...')\n",
    "\n",
    "    # Make predictions using the testing set\n",
    "    y_pred = regr.predict(X_test)\n",
    "\n",
    "    # EVALUATE METRICS\n",
    "    mae=metrics.mean_absolute_error(y_test, y_pred)\n",
    "    mse=metrics.mean_squared_error(y_test, y_pred)\n",
    "    rmse=np.sqrt(metrics.mean_squared_error(y_test, y_pred))\n",
    "    r2=r2_score(y_test,y_pred)\n",
    "    \n",
    "    # SAVE MODEL METRICS\n",
    "    model_outcomes.append([station_name,station_id,mae,mse,rmse,r2])\n",
    "\n",
    "model_outcomes=np.array(model_outcomes)\n"
   ]
  },
  {
   "cell_type": "code",
   "execution_count": 60,
   "metadata": {},
   "outputs": [
    {
     "name": "stderr",
     "output_type": "stream",
     "text": [
      "/Users/mark/.pyenv/versions/3.7.4/lib/python3.7/site-packages/ipykernel_launcher.py:59: DataConversionWarning: A column-vector y was passed when a 1d array was expected. Please change the shape of y to (n_samples,), for example using ravel().\n"
     ]
    },
    {
     "name": "stdout",
     "output_type": "stream",
     "text": [
      "Mean Absolute Error: 113.16288971331387\n",
      "Mean Squared Error: 34032.9884748534\n",
      "Root Mean Squared Error: 184.4803200204656\n",
      "Variance test: 0.06827464249538695\n"
     ]
    },
    {
     "name": "stderr",
     "output_type": "stream",
     "text": [
      "/Users/mark/.pyenv/versions/3.7.4/lib/python3.7/site-packages/ipykernel_launcher.py:59: DataConversionWarning: A column-vector y was passed when a 1d array was expected. Please change the shape of y to (n_samples,), for example using ravel().\n"
     ]
    },
    {
     "name": "stdout",
     "output_type": "stream",
     "text": [
      "Mean Absolute Error: 113.49300207508955\n",
      "Mean Squared Error: 34216.57531704425\n",
      "Root Mean Squared Error: 184.97722918522769\n",
      "Variance test: 0.06324856268756185\n"
     ]
    },
    {
     "name": "stderr",
     "output_type": "stream",
     "text": [
      "/Users/mark/.pyenv/versions/3.7.4/lib/python3.7/site-packages/ipykernel_launcher.py:59: DataConversionWarning: A column-vector y was passed when a 1d array was expected. Please change the shape of y to (n_samples,), for example using ravel().\n"
     ]
    },
    {
     "name": "stdout",
     "output_type": "stream",
     "text": [
      "Mean Absolute Error: 113.17244915961244\n",
      "Mean Squared Error: 34063.06559268157\n",
      "Root Mean Squared Error: 184.56182051735826\n",
      "Variance test: 0.06745121750049232\n"
     ]
    },
    {
     "name": "stderr",
     "output_type": "stream",
     "text": [
      "/Users/mark/.pyenv/versions/3.7.4/lib/python3.7/site-packages/ipykernel_launcher.py:59: DataConversionWarning: A column-vector y was passed when a 1d array was expected. Please change the shape of y to (n_samples,), for example using ravel().\n"
     ]
    },
    {
     "name": "stdout",
     "output_type": "stream",
     "text": [
      "Mean Absolute Error: 113.53943045515535\n",
      "Mean Squared Error: 34241.83860253966\n",
      "Root Mean Squared Error: 185.04550414030507\n",
      "Variance test: 0.06255692657904466\n"
     ]
    },
    {
     "name": "stderr",
     "output_type": "stream",
     "text": [
      "/Users/mark/.pyenv/versions/3.7.4/lib/python3.7/site-packages/ipykernel_launcher.py:59: DataConversionWarning: A column-vector y was passed when a 1d array was expected. Please change the shape of y to (n_samples,), for example using ravel().\n"
     ]
    },
    {
     "name": "stdout",
     "output_type": "stream",
     "text": [
      "Mean Absolute Error: 115.48400241501132\n",
      "Mean Squared Error: 35266.56900308763\n",
      "Root Mean Squared Error: 187.79395358500665\n",
      "Variance test: 0.03450275497722177\n"
     ]
    },
    {
     "name": "stderr",
     "output_type": "stream",
     "text": [
      "/Users/mark/.pyenv/versions/3.7.4/lib/python3.7/site-packages/ipykernel_launcher.py:59: DataConversionWarning: A column-vector y was passed when a 1d array was expected. Please change the shape of y to (n_samples,), for example using ravel().\n"
     ]
    },
    {
     "name": "stdout",
     "output_type": "stream",
     "text": [
      "Mean Absolute Error: 115.73431249896167\n",
      "Mean Squared Error: 35389.18398677571\n",
      "Root Mean Squared Error: 188.1201317955516\n",
      "Variance test: 0.031145909321524723\n"
     ]
    },
    {
     "name": "stderr",
     "output_type": "stream",
     "text": [
      "/Users/mark/.pyenv/versions/3.7.4/lib/python3.7/site-packages/ipykernel_launcher.py:59: DataConversionWarning: A column-vector y was passed when a 1d array was expected. Please change the shape of y to (n_samples,), for example using ravel().\n"
     ]
    },
    {
     "name": "stdout",
     "output_type": "stream",
     "text": [
      "Mean Absolute Error: 115.49826053068533\n",
      "Mean Squared Error: 35292.315219868724\n",
      "Root Mean Squared Error: 187.86249018861835\n",
      "Variance test: 0.03379789759884355\n"
     ]
    },
    {
     "name": "stderr",
     "output_type": "stream",
     "text": [
      "/Users/mark/.pyenv/versions/3.7.4/lib/python3.7/site-packages/ipykernel_launcher.py:59: DataConversionWarning: A column-vector y was passed when a 1d array was expected. Please change the shape of y to (n_samples,), for example using ravel().\n"
     ]
    },
    {
     "name": "stdout",
     "output_type": "stream",
     "text": [
      "Mean Absolute Error: 115.75418193215687\n",
      "Mean Squared Error: 35400.99145564423\n",
      "Root Mean Squared Error: 188.15151196746794\n",
      "Variance test: 0.030822654778043246\n"
     ]
    },
    {
     "name": "stderr",
     "output_type": "stream",
     "text": [
      "/Users/mark/.pyenv/versions/3.7.4/lib/python3.7/site-packages/ipykernel_launcher.py:59: DataConversionWarning: A column-vector y was passed when a 1d array was expected. Please change the shape of y to (n_samples,), for example using ravel().\n"
     ]
    },
    {
     "name": "stdout",
     "output_type": "stream",
     "text": [
      "Mean Absolute Error: 113.10725158345068\n",
      "Mean Squared Error: 34018.78437617874\n",
      "Root Mean Squared Error: 184.44181840401254\n",
      "Variance test: 0.06866350987109393\n"
     ]
    },
    {
     "name": "stderr",
     "output_type": "stream",
     "text": [
      "/Users/mark/.pyenv/versions/3.7.4/lib/python3.7/site-packages/ipykernel_launcher.py:59: DataConversionWarning: A column-vector y was passed when a 1d array was expected. Please change the shape of y to (n_samples,), for example using ravel().\n"
     ]
    },
    {
     "name": "stdout",
     "output_type": "stream",
     "text": [
      "Mean Absolute Error: 113.46555743483381\n",
      "Mean Squared Error: 34195.44411692263\n",
      "Root Mean Squared Error: 184.9201019817008\n",
      "Variance test: 0.06382707418097255\n"
     ]
    },
    {
     "name": "stderr",
     "output_type": "stream",
     "text": [
      "/Users/mark/.pyenv/versions/3.7.4/lib/python3.7/site-packages/ipykernel_launcher.py:59: DataConversionWarning: A column-vector y was passed when a 1d array was expected. Please change the shape of y to (n_samples,), for example using ravel().\n"
     ]
    },
    {
     "name": "stdout",
     "output_type": "stream",
     "text": [
      "Mean Absolute Error: 113.05104621302212\n",
      "Mean Squared Error: 34008.31350702199\n",
      "Root Mean Squared Error: 184.41343092904592\n",
      "Variance test: 0.0689501721580591\n"
     ]
    },
    {
     "name": "stderr",
     "output_type": "stream",
     "text": [
      "/Users/mark/.pyenv/versions/3.7.4/lib/python3.7/site-packages/ipykernel_launcher.py:59: DataConversionWarning: A column-vector y was passed when a 1d array was expected. Please change the shape of y to (n_samples,), for example using ravel().\n"
     ]
    },
    {
     "name": "stdout",
     "output_type": "stream",
     "text": [
      "Mean Absolute Error: 113.4496192571015\n",
      "Mean Squared Error: 34194.41924587677\n",
      "Root Mean Squared Error: 184.91733084239772\n",
      "Variance test: 0.0638551322030384\n"
     ]
    },
    {
     "name": "stderr",
     "output_type": "stream",
     "text": [
      "/Users/mark/.pyenv/versions/3.7.4/lib/python3.7/site-packages/ipykernel_launcher.py:59: DataConversionWarning: A column-vector y was passed when a 1d array was expected. Please change the shape of y to (n_samples,), for example using ravel().\n"
     ]
    },
    {
     "name": "stdout",
     "output_type": "stream",
     "text": [
      "Mean Absolute Error: 115.48009891832635\n",
      "Mean Squared Error: 35266.4566263944\n",
      "Root Mean Squared Error: 187.79365438266117\n",
      "Variance test: 0.03450583152792641\n"
     ]
    },
    {
     "name": "stderr",
     "output_type": "stream",
     "text": [
      "/Users/mark/.pyenv/versions/3.7.4/lib/python3.7/site-packages/ipykernel_launcher.py:59: DataConversionWarning: A column-vector y was passed when a 1d array was expected. Please change the shape of y to (n_samples,), for example using ravel().\n"
     ]
    },
    {
     "name": "stdout",
     "output_type": "stream",
     "text": [
      "Mean Absolute Error: 115.71267088441101\n",
      "Mean Squared Error: 35389.47782143746\n",
      "Root Mean Squared Error: 188.12091277005186\n",
      "Variance test: 0.03113786497345128\n"
     ]
    },
    {
     "name": "stderr",
     "output_type": "stream",
     "text": [
      "/Users/mark/.pyenv/versions/3.7.4/lib/python3.7/site-packages/ipykernel_launcher.py:59: DataConversionWarning: A column-vector y was passed when a 1d array was expected. Please change the shape of y to (n_samples,), for example using ravel().\n"
     ]
    },
    {
     "name": "stdout",
     "output_type": "stream",
     "text": [
      "Mean Absolute Error: 115.46285659679602\n",
      "Mean Squared Error: 35265.38822373669\n",
      "Root Mean Squared Error: 187.790809742481\n",
      "Variance test: 0.03453508132034311\n"
     ]
    },
    {
     "name": "stderr",
     "output_type": "stream",
     "text": [
      "/Users/mark/.pyenv/versions/3.7.4/lib/python3.7/site-packages/ipykernel_launcher.py:59: DataConversionWarning: A column-vector y was passed when a 1d array was expected. Please change the shape of y to (n_samples,), for example using ravel().\n"
     ]
    },
    {
     "name": "stdout",
     "output_type": "stream",
     "text": [
      "Mean Absolute Error: 115.7430732757779\n",
      "Mean Squared Error: 35397.12900417545\n",
      "Root Mean Squared Error: 188.14124748224523\n",
      "Variance test: 0.030928397592202783\n"
     ]
    },
    {
     "name": "stderr",
     "output_type": "stream",
     "text": [
      "/Users/mark/.pyenv/versions/3.7.4/lib/python3.7/site-packages/ipykernel_launcher.py:59: DataConversionWarning: A column-vector y was passed when a 1d array was expected. Please change the shape of y to (n_samples,), for example using ravel().\n"
     ]
    },
    {
     "name": "stdout",
     "output_type": "stream",
     "text": [
      "Mean Absolute Error: 113.32580751634161\n",
      "Mean Squared Error: 34108.8682751342\n",
      "Root Mean Squared Error: 184.6858637663809\n",
      "Variance test: 0.06619727176738743\n"
     ]
    },
    {
     "name": "stderr",
     "output_type": "stream",
     "text": [
      "/Users/mark/.pyenv/versions/3.7.4/lib/python3.7/site-packages/ipykernel_launcher.py:59: DataConversionWarning: A column-vector y was passed when a 1d array was expected. Please change the shape of y to (n_samples,), for example using ravel().\n"
     ]
    },
    {
     "name": "stdout",
     "output_type": "stream",
     "text": [
      "Mean Absolute Error: 113.74543499962346\n",
      "Mean Squared Error: 34348.43257130686\n",
      "Root Mean Squared Error: 185.33330130148457\n",
      "Variance test: 0.059638690241062275\n"
     ]
    },
    {
     "name": "stderr",
     "output_type": "stream",
     "text": [
      "/Users/mark/.pyenv/versions/3.7.4/lib/python3.7/site-packages/ipykernel_launcher.py:59: DataConversionWarning: A column-vector y was passed when a 1d array was expected. Please change the shape of y to (n_samples,), for example using ravel().\n"
     ]
    },
    {
     "name": "stdout",
     "output_type": "stream",
     "text": [
      "Mean Absolute Error: 113.3184216960243\n",
      "Mean Squared Error: 34117.77388721815\n",
      "Root Mean Squared Error: 184.7099723545487\n",
      "Variance test: 0.06595346171794536\n"
     ]
    },
    {
     "name": "stderr",
     "output_type": "stream",
     "text": [
      "/Users/mark/.pyenv/versions/3.7.4/lib/python3.7/site-packages/ipykernel_launcher.py:59: DataConversionWarning: A column-vector y was passed when a 1d array was expected. Please change the shape of y to (n_samples,), for example using ravel().\n"
     ]
    },
    {
     "name": "stdout",
     "output_type": "stream",
     "text": [
      "Mean Absolute Error: 113.73129660327572\n",
      "Mean Squared Error: 34354.825860234094\n",
      "Root Mean Squared Error: 185.35054858358012\n",
      "Variance test: 0.05946366037509088\n"
     ]
    },
    {
     "name": "stderr",
     "output_type": "stream",
     "text": [
      "/Users/mark/.pyenv/versions/3.7.4/lib/python3.7/site-packages/ipykernel_launcher.py:59: DataConversionWarning: A column-vector y was passed when a 1d array was expected. Please change the shape of y to (n_samples,), for example using ravel().\n"
     ]
    },
    {
     "name": "stdout",
     "output_type": "stream",
     "text": [
      "Mean Absolute Error: 115.43125071237564\n",
      "Mean Squared Error: 35280.598997632995\n",
      "Root Mean Squared Error: 187.83130462634017\n",
      "Variance test: 0.0341186540719125\n"
     ]
    },
    {
     "name": "stderr",
     "output_type": "stream",
     "text": [
      "/Users/mark/.pyenv/versions/3.7.4/lib/python3.7/site-packages/ipykernel_launcher.py:59: DataConversionWarning: A column-vector y was passed when a 1d array was expected. Please change the shape of y to (n_samples,), for example using ravel().\n"
     ]
    },
    {
     "name": "stdout",
     "output_type": "stream",
     "text": [
      "Mean Absolute Error: 115.70156505406624\n",
      "Mean Squared Error: 35420.38364766348\n",
      "Root Mean Squared Error: 188.20303835927697\n",
      "Variance test: 0.03029175232569814\n"
     ]
    },
    {
     "name": "stderr",
     "output_type": "stream",
     "text": [
      "/Users/mark/.pyenv/versions/3.7.4/lib/python3.7/site-packages/ipykernel_launcher.py:59: DataConversionWarning: A column-vector y was passed when a 1d array was expected. Please change the shape of y to (n_samples,), for example using ravel().\n"
     ]
    },
    {
     "name": "stdout",
     "output_type": "stream",
     "text": [
      "Mean Absolute Error: 115.38968787171599\n",
      "Mean Squared Error: 35267.151744873045\n",
      "Root Mean Squared Error: 187.79550512425223\n",
      "Variance test: 0.03448680118289793\n"
     ]
    },
    {
     "name": "stderr",
     "output_type": "stream",
     "text": [
      "/Users/mark/.pyenv/versions/3.7.4/lib/python3.7/site-packages/ipykernel_launcher.py:59: DataConversionWarning: A column-vector y was passed when a 1d array was expected. Please change the shape of y to (n_samples,), for example using ravel().\n"
     ]
    },
    {
     "name": "stdout",
     "output_type": "stream",
     "text": [
      "Mean Absolute Error: 115.68670246800987\n",
      "Mean Squared Error: 35411.40050455091\n",
      "Root Mean Squared Error: 188.17917128245332\n",
      "Variance test: 0.030537684951751687\n"
     ]
    },
    {
     "name": "stderr",
     "output_type": "stream",
     "text": [
      "/Users/mark/.pyenv/versions/3.7.4/lib/python3.7/site-packages/ipykernel_launcher.py:59: DataConversionWarning: A column-vector y was passed when a 1d array was expected. Please change the shape of y to (n_samples,), for example using ravel().\n"
     ]
    },
    {
     "name": "stdout",
     "output_type": "stream",
     "text": [
      "Mean Absolute Error: 113.27318865292128\n",
      "Mean Squared Error: 34105.40536096949\n",
      "Root Mean Squared Error: 184.67648838162776\n",
      "Variance test: 0.06629207639909074\n"
     ]
    },
    {
     "name": "stderr",
     "output_type": "stream",
     "text": [
      "/Users/mark/.pyenv/versions/3.7.4/lib/python3.7/site-packages/ipykernel_launcher.py:59: DataConversionWarning: A column-vector y was passed when a 1d array was expected. Please change the shape of y to (n_samples,), for example using ravel().\n"
     ]
    },
    {
     "name": "stdout",
     "output_type": "stream",
     "text": [
      "Mean Absolute Error: 113.69974504057147\n",
      "Mean Squared Error: 34294.72469187552\n",
      "Root Mean Squared Error: 185.18834923362624\n",
      "Variance test: 0.0611090575348705\n"
     ]
    },
    {
     "name": "stderr",
     "output_type": "stream",
     "text": [
      "/Users/mark/.pyenv/versions/3.7.4/lib/python3.7/site-packages/ipykernel_launcher.py:59: DataConversionWarning: A column-vector y was passed when a 1d array was expected. Please change the shape of y to (n_samples,), for example using ravel().\n"
     ]
    },
    {
     "name": "stdout",
     "output_type": "stream",
     "text": [
      "Mean Absolute Error: 113.32648445501391\n",
      "Mean Squared Error: 34118.49099939805\n",
      "Root Mean Squared Error: 184.71191352860282\n",
      "Variance test: 0.06593382924862301\n"
     ]
    },
    {
     "name": "stderr",
     "output_type": "stream",
     "text": [
      "/Users/mark/.pyenv/versions/3.7.4/lib/python3.7/site-packages/ipykernel_launcher.py:59: DataConversionWarning: A column-vector y was passed when a 1d array was expected. Please change the shape of y to (n_samples,), for example using ravel().\n"
     ]
    },
    {
     "name": "stdout",
     "output_type": "stream",
     "text": [
      "Mean Absolute Error: 113.75541985060903\n",
      "Mean Squared Error: 34332.17317848313\n",
      "Root Mean Squared Error: 185.2894308331782\n",
      "Variance test: 0.0600838256602656\n"
     ]
    },
    {
     "name": "stderr",
     "output_type": "stream",
     "text": [
      "/Users/mark/.pyenv/versions/3.7.4/lib/python3.7/site-packages/ipykernel_launcher.py:59: DataConversionWarning: A column-vector y was passed when a 1d array was expected. Please change the shape of y to (n_samples,), for example using ravel().\n"
     ]
    },
    {
     "name": "stdout",
     "output_type": "stream",
     "text": [
      "Mean Absolute Error: 115.41335132363851\n",
      "Mean Squared Error: 35231.82691909456\n",
      "Root Mean Squared Error: 187.70143025319376\n",
      "Variance test: 0.035453893330905095\n"
     ]
    },
    {
     "name": "stderr",
     "output_type": "stream",
     "text": [
      "/Users/mark/.pyenv/versions/3.7.4/lib/python3.7/site-packages/ipykernel_launcher.py:59: DataConversionWarning: A column-vector y was passed when a 1d array was expected. Please change the shape of y to (n_samples,), for example using ravel().\n"
     ]
    },
    {
     "name": "stdout",
     "output_type": "stream",
     "text": [
      "Mean Absolute Error: 115.69883155714362\n",
      "Mean Squared Error: 35421.74140069166\n",
      "Root Mean Squared Error: 188.20664547430746\n",
      "Variance test: 0.03025458095220801\n"
     ]
    },
    {
     "name": "stderr",
     "output_type": "stream",
     "text": [
      "/Users/mark/.pyenv/versions/3.7.4/lib/python3.7/site-packages/ipykernel_launcher.py:59: DataConversionWarning: A column-vector y was passed when a 1d array was expected. Please change the shape of y to (n_samples,), for example using ravel().\n"
     ]
    },
    {
     "name": "stdout",
     "output_type": "stream",
     "text": [
      "Mean Absolute Error: 115.4053780745691\n",
      "Mean Squared Error: 35266.24098002893\n",
      "Root Mean Squared Error: 187.7930802240299\n",
      "Variance test: 0.034511735305289615\n"
     ]
    },
    {
     "name": "stderr",
     "output_type": "stream",
     "text": [
      "/Users/mark/.pyenv/versions/3.7.4/lib/python3.7/site-packages/ipykernel_launcher.py:59: DataConversionWarning: A column-vector y was passed when a 1d array was expected. Please change the shape of y to (n_samples,), for example using ravel().\n"
     ]
    },
    {
     "name": "stdout",
     "output_type": "stream",
     "text": [
      "Mean Absolute Error: 115.72066381886118\n",
      "Mean Squared Error: 35417.31308093525\n",
      "Root Mean Squared Error: 188.19488059172932\n",
      "Variance test: 0.030375815612844193\n"
     ]
    },
    {
     "name": "stderr",
     "output_type": "stream",
     "text": [
      "/Users/mark/.pyenv/versions/3.7.4/lib/python3.7/site-packages/ipykernel_launcher.py:59: DataConversionWarning: A column-vector y was passed when a 1d array was expected. Please change the shape of y to (n_samples,), for example using ravel().\n"
     ]
    },
    {
     "name": "stdout",
     "output_type": "stream",
     "text": [
      "Mean Absolute Error: 113.0617400060168\n",
      "Mean Squared Error: 33973.59111039726\n",
      "Root Mean Squared Error: 184.31926407838455\n",
      "Variance test: 0.06990077152821106\n"
     ]
    },
    {
     "name": "stderr",
     "output_type": "stream",
     "text": [
      "/Users/mark/.pyenv/versions/3.7.4/lib/python3.7/site-packages/ipykernel_launcher.py:59: DataConversionWarning: A column-vector y was passed when a 1d array was expected. Please change the shape of y to (n_samples,), for example using ravel().\n"
     ]
    },
    {
     "name": "stdout",
     "output_type": "stream",
     "text": [
      "Mean Absolute Error: 113.41368925203658\n",
      "Mean Squared Error: 34182.88589331802\n",
      "Root Mean Squared Error: 184.88614305382117\n",
      "Variance test: 0.06417088223022072\n"
     ]
    },
    {
     "name": "stderr",
     "output_type": "stream",
     "text": [
      "/Users/mark/.pyenv/versions/3.7.4/lib/python3.7/site-packages/ipykernel_launcher.py:59: DataConversionWarning: A column-vector y was passed when a 1d array was expected. Please change the shape of y to (n_samples,), for example using ravel().\n"
     ]
    },
    {
     "name": "stdout",
     "output_type": "stream",
     "text": [
      "Mean Absolute Error: 113.06092545426017\n",
      "Mean Squared Error: 34003.65876260354\n",
      "Root Mean Squared Error: 184.40081009204798\n",
      "Variance test: 0.06907760567482402\n"
     ]
    },
    {
     "name": "stderr",
     "output_type": "stream",
     "text": [
      "/Users/mark/.pyenv/versions/3.7.4/lib/python3.7/site-packages/ipykernel_launcher.py:59: DataConversionWarning: A column-vector y was passed when a 1d array was expected. Please change the shape of y to (n_samples,), for example using ravel().\n"
     ]
    },
    {
     "name": "stdout",
     "output_type": "stream",
     "text": [
      "Mean Absolute Error: 113.45915350325129\n",
      "Mean Squared Error: 34218.01024669995\n",
      "Root Mean Squared Error: 184.98110781023004\n",
      "Variance test: 0.06320927843994284\n"
     ]
    },
    {
     "name": "stderr",
     "output_type": "stream",
     "text": [
      "/Users/mark/.pyenv/versions/3.7.4/lib/python3.7/site-packages/ipykernel_launcher.py:59: DataConversionWarning: A column-vector y was passed when a 1d array was expected. Please change the shape of y to (n_samples,), for example using ravel().\n"
     ]
    },
    {
     "name": "stdout",
     "output_type": "stream",
     "text": [
      "Mean Absolute Error: 115.51747500140159\n",
      "Mean Squared Error: 35194.053790738835\n",
      "Root Mean Squared Error: 187.6007830227231\n",
      "Variance test: 0.03648801296301751\n"
     ]
    },
    {
     "name": "stderr",
     "output_type": "stream",
     "text": [
      "/Users/mark/.pyenv/versions/3.7.4/lib/python3.7/site-packages/ipykernel_launcher.py:59: DataConversionWarning: A column-vector y was passed when a 1d array was expected. Please change the shape of y to (n_samples,), for example using ravel().\n"
     ]
    },
    {
     "name": "stdout",
     "output_type": "stream",
     "text": [
      "Mean Absolute Error: 115.89483497725838\n",
      "Mean Squared Error: 35421.9805786916\n",
      "Root Mean Squared Error: 188.2072808865045\n",
      "Variance test: 0.030248032946361803\n"
     ]
    },
    {
     "name": "stderr",
     "output_type": "stream",
     "text": [
      "/Users/mark/.pyenv/versions/3.7.4/lib/python3.7/site-packages/ipykernel_launcher.py:59: DataConversionWarning: A column-vector y was passed when a 1d array was expected. Please change the shape of y to (n_samples,), for example using ravel().\n"
     ]
    },
    {
     "name": "stdout",
     "output_type": "stream",
     "text": [
      "Mean Absolute Error: 115.59682945261736\n",
      "Mean Squared Error: 35246.52548789712\n",
      "Root Mean Squared Error: 187.74058029072222\n",
      "Variance test: 0.03505148878501907\n"
     ]
    },
    {
     "name": "stderr",
     "output_type": "stream",
     "text": [
      "/Users/mark/.pyenv/versions/3.7.4/lib/python3.7/site-packages/ipykernel_launcher.py:59: DataConversionWarning: A column-vector y was passed when a 1d array was expected. Please change the shape of y to (n_samples,), for example using ravel().\n"
     ]
    },
    {
     "name": "stdout",
     "output_type": "stream",
     "text": [
      "Mean Absolute Error: 115.83553132853525\n",
      "Mean Squared Error: 35415.97358312952\n",
      "Root Mean Squared Error: 188.19132175296903\n",
      "Variance test: 0.030412487210839223\n"
     ]
    },
    {
     "name": "stderr",
     "output_type": "stream",
     "text": [
      "/Users/mark/.pyenv/versions/3.7.4/lib/python3.7/site-packages/ipykernel_launcher.py:59: DataConversionWarning: A column-vector y was passed when a 1d array was expected. Please change the shape of y to (n_samples,), for example using ravel().\n"
     ]
    },
    {
     "name": "stdout",
     "output_type": "stream",
     "text": [
      "Mean Absolute Error: 112.98941791709073\n",
      "Mean Squared Error: 33968.847020196925\n",
      "Root Mean Squared Error: 184.3063944094098\n",
      "Variance test: 0.07003065107555706\n"
     ]
    },
    {
     "name": "stderr",
     "output_type": "stream",
     "text": [
      "/Users/mark/.pyenv/versions/3.7.4/lib/python3.7/site-packages/ipykernel_launcher.py:59: DataConversionWarning: A column-vector y was passed when a 1d array was expected. Please change the shape of y to (n_samples,), for example using ravel().\n"
     ]
    },
    {
     "name": "stdout",
     "output_type": "stream",
     "text": [
      "Mean Absolute Error: 113.37914997723608\n",
      "Mean Squared Error: 34145.07855075961\n",
      "Root Mean Squared Error: 184.78386983381316\n",
      "Variance test: 0.06520593854881473\n"
     ]
    },
    {
     "name": "stderr",
     "output_type": "stream",
     "text": [
      "/Users/mark/.pyenv/versions/3.7.4/lib/python3.7/site-packages/ipykernel_launcher.py:59: DataConversionWarning: A column-vector y was passed when a 1d array was expected. Please change the shape of y to (n_samples,), for example using ravel().\n"
     ]
    },
    {
     "name": "stdout",
     "output_type": "stream",
     "text": [
      "Mean Absolute Error: 112.97445434731397\n",
      "Mean Squared Error: 33956.271309011965\n",
      "Root Mean Squared Error: 184.27227493307822\n",
      "Variance test: 0.07037493788446703\n"
     ]
    },
    {
     "name": "stderr",
     "output_type": "stream",
     "text": [
      "/Users/mark/.pyenv/versions/3.7.4/lib/python3.7/site-packages/ipykernel_launcher.py:59: DataConversionWarning: A column-vector y was passed when a 1d array was expected. Please change the shape of y to (n_samples,), for example using ravel().\n"
     ]
    },
    {
     "name": "stdout",
     "output_type": "stream",
     "text": [
      "Mean Absolute Error: 113.44225742259492\n",
      "Mean Squared Error: 34174.93230965337\n",
      "Root Mean Squared Error: 184.86463239260604\n",
      "Variance test: 0.0643886284792422\n"
     ]
    },
    {
     "name": "stderr",
     "output_type": "stream",
     "text": [
      "/Users/mark/.pyenv/versions/3.7.4/lib/python3.7/site-packages/ipykernel_launcher.py:59: DataConversionWarning: A column-vector y was passed when a 1d array was expected. Please change the shape of y to (n_samples,), for example using ravel().\n"
     ]
    },
    {
     "name": "stdout",
     "output_type": "stream",
     "text": [
      "Mean Absolute Error: 115.48497960641096\n",
      "Mean Squared Error: 35214.43423630826\n",
      "Root Mean Squared Error: 187.65509381924133\n",
      "Variance test: 0.03593005497033919\n"
     ]
    },
    {
     "name": "stderr",
     "output_type": "stream",
     "text": [
      "/Users/mark/.pyenv/versions/3.7.4/lib/python3.7/site-packages/ipykernel_launcher.py:59: DataConversionWarning: A column-vector y was passed when a 1d array was expected. Please change the shape of y to (n_samples,), for example using ravel().\n"
     ]
    },
    {
     "name": "stdout",
     "output_type": "stream",
     "text": [
      "Mean Absolute Error: 115.84698487848506\n",
      "Mean Squared Error: 35397.80493799391\n",
      "Root Mean Squared Error: 188.14304382037065\n",
      "Variance test: 0.03090989246800202\n"
     ]
    },
    {
     "name": "stderr",
     "output_type": "stream",
     "text": [
      "/Users/mark/.pyenv/versions/3.7.4/lib/python3.7/site-packages/ipykernel_launcher.py:59: DataConversionWarning: A column-vector y was passed when a 1d array was expected. Please change the shape of y to (n_samples,), for example using ravel().\n"
     ]
    },
    {
     "name": "stdout",
     "output_type": "stream",
     "text": [
      "Mean Absolute Error: 115.52965526992072\n",
      "Mean Squared Error: 35223.53140946641\n",
      "Root Mean Squared Error: 187.67933133263878\n",
      "Variance test: 0.03568100052954781\n"
     ]
    },
    {
     "name": "stderr",
     "output_type": "stream",
     "text": [
      "/Users/mark/.pyenv/versions/3.7.4/lib/python3.7/site-packages/ipykernel_launcher.py:59: DataConversionWarning: A column-vector y was passed when a 1d array was expected. Please change the shape of y to (n_samples,), for example using ravel().\n"
     ]
    },
    {
     "name": "stdout",
     "output_type": "stream",
     "text": [
      "Mean Absolute Error: 115.88192842357655\n",
      "Mean Squared Error: 35437.31254823212\n",
      "Root Mean Squared Error: 188.2480080856956\n",
      "Variance test: 0.029828287709708468\n"
     ]
    },
    {
     "name": "stderr",
     "output_type": "stream",
     "text": [
      "/Users/mark/.pyenv/versions/3.7.4/lib/python3.7/site-packages/ipykernel_launcher.py:59: DataConversionWarning: A column-vector y was passed when a 1d array was expected. Please change the shape of y to (n_samples,), for example using ravel().\n"
     ]
    },
    {
     "name": "stdout",
     "output_type": "stream",
     "text": [
      "Mean Absolute Error: 113.26258945911394\n",
      "Mean Squared Error: 34076.774875966934\n",
      "Root Mean Squared Error: 184.59895686586893\n",
      "Variance test: 0.06707589674722869\n"
     ]
    },
    {
     "name": "stderr",
     "output_type": "stream",
     "text": [
      "/Users/mark/.pyenv/versions/3.7.4/lib/python3.7/site-packages/ipykernel_launcher.py:59: DataConversionWarning: A column-vector y was passed when a 1d array was expected. Please change the shape of y to (n_samples,), for example using ravel().\n"
     ]
    },
    {
     "name": "stdout",
     "output_type": "stream",
     "text": [
      "Mean Absolute Error: 113.72401176142894\n",
      "Mean Squared Error: 34326.00867259957\n",
      "Root Mean Squared Error: 185.2727952846817\n",
      "Variance test: 0.060252592104400815\n"
     ]
    },
    {
     "name": "stderr",
     "output_type": "stream",
     "text": [
      "/Users/mark/.pyenv/versions/3.7.4/lib/python3.7/site-packages/ipykernel_launcher.py:59: DataConversionWarning: A column-vector y was passed when a 1d array was expected. Please change the shape of y to (n_samples,), for example using ravel().\n"
     ]
    },
    {
     "name": "stdout",
     "output_type": "stream",
     "text": [
      "Mean Absolute Error: 113.25010841999412\n",
      "Mean Squared Error: 34033.662085379816\n",
      "Root Mean Squared Error: 184.48214570895422\n",
      "Variance test: 0.06825620097624141\n"
     ]
    },
    {
     "name": "stderr",
     "output_type": "stream",
     "text": [
      "/Users/mark/.pyenv/versions/3.7.4/lib/python3.7/site-packages/ipykernel_launcher.py:59: DataConversionWarning: A column-vector y was passed when a 1d array was expected. Please change the shape of y to (n_samples,), for example using ravel().\n"
     ]
    },
    {
     "name": "stdout",
     "output_type": "stream",
     "text": [
      "Mean Absolute Error: 113.68887435984847\n",
      "Mean Squared Error: 34308.450216213954\n",
      "Root Mean Squared Error: 185.22540380901847\n",
      "Variance test: 0.06073329214827761\n"
     ]
    },
    {
     "name": "stderr",
     "output_type": "stream",
     "text": [
      "/Users/mark/.pyenv/versions/3.7.4/lib/python3.7/site-packages/ipykernel_launcher.py:59: DataConversionWarning: A column-vector y was passed when a 1d array was expected. Please change the shape of y to (n_samples,), for example using ravel().\n"
     ]
    },
    {
     "name": "stdout",
     "output_type": "stream",
     "text": [
      "Mean Absolute Error: 115.40588841296051\n",
      "Mean Squared Error: 35210.402126977446\n",
      "Root Mean Squared Error: 187.64435010673103\n",
      "Variance test: 0.03604044252888472\n"
     ]
    },
    {
     "name": "stderr",
     "output_type": "stream",
     "text": [
      "/Users/mark/.pyenv/versions/3.7.4/lib/python3.7/site-packages/ipykernel_launcher.py:59: DataConversionWarning: A column-vector y was passed when a 1d array was expected. Please change the shape of y to (n_samples,), for example using ravel().\n"
     ]
    },
    {
     "name": "stdout",
     "output_type": "stream",
     "text": [
      "Mean Absolute Error: 115.95118643067336\n",
      "Mean Squared Error: 35467.94039113006\n",
      "Root Mean Squared Error: 188.32934022910518\n",
      "Variance test: 0.02898978544609543\n"
     ]
    },
    {
     "name": "stderr",
     "output_type": "stream",
     "text": [
      "/Users/mark/.pyenv/versions/3.7.4/lib/python3.7/site-packages/ipykernel_launcher.py:59: DataConversionWarning: A column-vector y was passed when a 1d array was expected. Please change the shape of y to (n_samples,), for example using ravel().\n"
     ]
    },
    {
     "name": "stdout",
     "output_type": "stream",
     "text": [
      "Mean Absolute Error: 115.39008337260084\n",
      "Mean Squared Error: 35217.062069918364\n",
      "Root Mean Squared Error: 187.66209545328635\n",
      "Variance test: 0.03585811244282233\n"
     ]
    },
    {
     "name": "stderr",
     "output_type": "stream",
     "text": [
      "/Users/mark/.pyenv/versions/3.7.4/lib/python3.7/site-packages/ipykernel_launcher.py:59: DataConversionWarning: A column-vector y was passed when a 1d array was expected. Please change the shape of y to (n_samples,), for example using ravel().\n"
     ]
    },
    {
     "name": "stdout",
     "output_type": "stream",
     "text": [
      "Mean Absolute Error: 115.96997470914778\n",
      "Mean Squared Error: 35469.03128172175\n",
      "Root Mean Squared Error: 188.33223643795492\n",
      "Variance test: 0.028959919998713723\n"
     ]
    },
    {
     "name": "stderr",
     "output_type": "stream",
     "text": [
      "/Users/mark/.pyenv/versions/3.7.4/lib/python3.7/site-packages/ipykernel_launcher.py:59: DataConversionWarning: A column-vector y was passed when a 1d array was expected. Please change the shape of y to (n_samples,), for example using ravel().\n"
     ]
    },
    {
     "name": "stdout",
     "output_type": "stream",
     "text": [
      "Mean Absolute Error: 113.19590520582327\n",
      "Mean Squared Error: 34023.643115278064\n",
      "Root Mean Squared Error: 184.45498940196242\n",
      "Variance test: 0.06853049156658364\n"
     ]
    },
    {
     "name": "stderr",
     "output_type": "stream",
     "text": [
      "/Users/mark/.pyenv/versions/3.7.4/lib/python3.7/site-packages/ipykernel_launcher.py:59: DataConversionWarning: A column-vector y was passed when a 1d array was expected. Please change the shape of y to (n_samples,), for example using ravel().\n"
     ]
    },
    {
     "name": "stdout",
     "output_type": "stream",
     "text": [
      "Mean Absolute Error: 113.6785981002365\n",
      "Mean Squared Error: 34288.34395334007\n",
      "Root Mean Squared Error: 185.17112073252693\n",
      "Variance test: 0.06128374380720547\n"
     ]
    },
    {
     "name": "stderr",
     "output_type": "stream",
     "text": [
      "/Users/mark/.pyenv/versions/3.7.4/lib/python3.7/site-packages/ipykernel_launcher.py:59: DataConversionWarning: A column-vector y was passed when a 1d array was expected. Please change the shape of y to (n_samples,), for example using ravel().\n"
     ]
    },
    {
     "name": "stdout",
     "output_type": "stream",
     "text": [
      "Mean Absolute Error: 113.22171577783253\n",
      "Mean Squared Error: 34022.45798219465\n",
      "Root Mean Squared Error: 184.4517768474857\n",
      "Variance test: 0.06856293710238048\n"
     ]
    },
    {
     "name": "stderr",
     "output_type": "stream",
     "text": [
      "/Users/mark/.pyenv/versions/3.7.4/lib/python3.7/site-packages/ipykernel_launcher.py:59: DataConversionWarning: A column-vector y was passed when a 1d array was expected. Please change the shape of y to (n_samples,), for example using ravel().\n"
     ]
    },
    {
     "name": "stdout",
     "output_type": "stream",
     "text": [
      "Mean Absolute Error: 113.70047115553659\n",
      "Mean Squared Error: 34285.86401995799\n",
      "Root Mean Squared Error: 185.16442428273848\n",
      "Variance test: 0.06135163725178827\n"
     ]
    },
    {
     "name": "stderr",
     "output_type": "stream",
     "text": [
      "/Users/mark/.pyenv/versions/3.7.4/lib/python3.7/site-packages/ipykernel_launcher.py:59: DataConversionWarning: A column-vector y was passed when a 1d array was expected. Please change the shape of y to (n_samples,), for example using ravel().\n"
     ]
    },
    {
     "name": "stdout",
     "output_type": "stream",
     "text": [
      "Mean Absolute Error: 115.3157939634882\n",
      "Mean Squared Error: 35163.54748454657\n",
      "Root Mean Squared Error: 187.51945894905566\n",
      "Variance test: 0.03732318790112599\n"
     ]
    },
    {
     "name": "stderr",
     "output_type": "stream",
     "text": [
      "/Users/mark/.pyenv/versions/3.7.4/lib/python3.7/site-packages/ipykernel_launcher.py:59: DataConversionWarning: A column-vector y was passed when a 1d array was expected. Please change the shape of y to (n_samples,), for example using ravel().\n"
     ]
    },
    {
     "name": "stdout",
     "output_type": "stream",
     "text": [
      "Mean Absolute Error: 115.95641234647273\n",
      "Mean Squared Error: 35475.59591945336\n",
      "Root Mean Squared Error: 188.34966397488836\n",
      "Variance test: 0.028780199095217784\n"
     ]
    },
    {
     "name": "stderr",
     "output_type": "stream",
     "text": [
      "/Users/mark/.pyenv/versions/3.7.4/lib/python3.7/site-packages/ipykernel_launcher.py:59: DataConversionWarning: A column-vector y was passed when a 1d array was expected. Please change the shape of y to (n_samples,), for example using ravel().\n"
     ]
    },
    {
     "name": "stdout",
     "output_type": "stream",
     "text": [
      "Mean Absolute Error: 115.34385767281803\n",
      "Mean Squared Error: 35170.844376628294\n",
      "Root Mean Squared Error: 187.53891429948158\n",
      "Variance test: 0.03712341997923041\n"
     ]
    },
    {
     "name": "stderr",
     "output_type": "stream",
     "text": [
      "/Users/mark/.pyenv/versions/3.7.4/lib/python3.7/site-packages/ipykernel_launcher.py:59: DataConversionWarning: A column-vector y was passed when a 1d array was expected. Please change the shape of y to (n_samples,), for example using ravel().\n"
     ]
    },
    {
     "name": "stdout",
     "output_type": "stream",
     "text": [
      "Mean Absolute Error: 115.95573256169234\n",
      "Mean Squared Error: 35470.73772394475\n",
      "Root Mean Squared Error: 188.33676678743518\n",
      "Variance test: 0.02891320251777707\n"
     ]
    },
    {
     "name": "stderr",
     "output_type": "stream",
     "text": [
      "/Users/mark/.pyenv/versions/3.7.4/lib/python3.7/site-packages/ipykernel_launcher.py:59: DataConversionWarning: A column-vector y was passed when a 1d array was expected. Please change the shape of y to (n_samples,), for example using ravel().\n"
     ]
    },
    {
     "name": "stdout",
     "output_type": "stream",
     "text": [
      "Mean Absolute Error: 113.12543534698845\n",
      "Mean Squared Error: 34011.483341585794\n",
      "Root Mean Squared Error: 184.4220250989176\n",
      "Variance test: 0.06886339120303431\n"
     ]
    },
    {
     "name": "stderr",
     "output_type": "stream",
     "text": [
      "/Users/mark/.pyenv/versions/3.7.4/lib/python3.7/site-packages/ipykernel_launcher.py:59: DataConversionWarning: A column-vector y was passed when a 1d array was expected. Please change the shape of y to (n_samples,), for example using ravel().\n"
     ]
    },
    {
     "name": "stdout",
     "output_type": "stream",
     "text": [
      "Mean Absolute Error: 113.51098233643694\n",
      "Mean Squared Error: 34206.28599945819\n",
      "Root Mean Squared Error: 184.94941470428662\n",
      "Variance test: 0.06353025461460005\n"
     ]
    },
    {
     "name": "stderr",
     "output_type": "stream",
     "text": [
      "/Users/mark/.pyenv/versions/3.7.4/lib/python3.7/site-packages/ipykernel_launcher.py:59: DataConversionWarning: A column-vector y was passed when a 1d array was expected. Please change the shape of y to (n_samples,), for example using ravel().\n"
     ]
    },
    {
     "name": "stdout",
     "output_type": "stream",
     "text": [
      "Mean Absolute Error: 113.12919759570424\n",
      "Mean Squared Error: 34009.532887046174\n",
      "Root Mean Squared Error: 184.41673700357615\n",
      "Variance test: 0.06891678903950593\n"
     ]
    },
    {
     "name": "stderr",
     "output_type": "stream",
     "text": [
      "/Users/mark/.pyenv/versions/3.7.4/lib/python3.7/site-packages/ipykernel_launcher.py:59: DataConversionWarning: A column-vector y was passed when a 1d array was expected. Please change the shape of y to (n_samples,), for example using ravel().\n"
     ]
    },
    {
     "name": "stdout",
     "output_type": "stream",
     "text": [
      "Mean Absolute Error: 113.53706722847589\n",
      "Mean Squared Error: 34212.907201620204\n",
      "Root Mean Squared Error: 184.96731387361444\n",
      "Variance test: 0.06334898513965881\n"
     ]
    },
    {
     "name": "stderr",
     "output_type": "stream",
     "text": [
      "/Users/mark/.pyenv/versions/3.7.4/lib/python3.7/site-packages/ipykernel_launcher.py:59: DataConversionWarning: A column-vector y was passed when a 1d array was expected. Please change the shape of y to (n_samples,), for example using ravel().\n"
     ]
    },
    {
     "name": "stdout",
     "output_type": "stream",
     "text": [
      "Mean Absolute Error: 115.45591588958379\n",
      "Mean Squared Error: 35206.23232945842\n",
      "Root Mean Squared Error: 187.63323887163068\n",
      "Variance test: 0.03615459959408085\n"
     ]
    },
    {
     "name": "stderr",
     "output_type": "stream",
     "text": [
      "/Users/mark/.pyenv/versions/3.7.4/lib/python3.7/site-packages/ipykernel_launcher.py:59: DataConversionWarning: A column-vector y was passed when a 1d array was expected. Please change the shape of y to (n_samples,), for example using ravel().\n"
     ]
    },
    {
     "name": "stdout",
     "output_type": "stream",
     "text": [
      "Mean Absolute Error: 115.73662020176829\n",
      "Mean Squared Error: 35351.69523129621\n",
      "Root Mean Squared Error: 188.02046492681643\n",
      "Variance test: 0.03217224364204274\n"
     ]
    },
    {
     "name": "stderr",
     "output_type": "stream",
     "text": [
      "/Users/mark/.pyenv/versions/3.7.4/lib/python3.7/site-packages/ipykernel_launcher.py:59: DataConversionWarning: A column-vector y was passed when a 1d array was expected. Please change the shape of y to (n_samples,), for example using ravel().\n"
     ]
    },
    {
     "name": "stdout",
     "output_type": "stream",
     "text": [
      "Mean Absolute Error: 115.47980845049608\n",
      "Mean Squared Error: 35235.50830266029\n",
      "Root Mean Squared Error: 187.71123648482072\n",
      "Variance test: 0.03535310763524324\n"
     ]
    },
    {
     "name": "stderr",
     "output_type": "stream",
     "text": [
      "/Users/mark/.pyenv/versions/3.7.4/lib/python3.7/site-packages/ipykernel_launcher.py:59: DataConversionWarning: A column-vector y was passed when a 1d array was expected. Please change the shape of y to (n_samples,), for example using ravel().\n"
     ]
    },
    {
     "name": "stdout",
     "output_type": "stream",
     "text": [
      "Mean Absolute Error: 115.75880541866789\n",
      "Mean Squared Error: 35347.52710404107\n",
      "Root Mean Squared Error: 188.00938036183481\n",
      "Variance test: 0.03228635498021637\n"
     ]
    },
    {
     "name": "stderr",
     "output_type": "stream",
     "text": [
      "/Users/mark/.pyenv/versions/3.7.4/lib/python3.7/site-packages/ipykernel_launcher.py:59: DataConversionWarning: A column-vector y was passed when a 1d array was expected. Please change the shape of y to (n_samples,), for example using ravel().\n"
     ]
    },
    {
     "name": "stdout",
     "output_type": "stream",
     "text": [
      "Mean Absolute Error: 113.10380657391401\n",
      "Mean Squared Error: 33973.7871873082\n",
      "Root Mean Squared Error: 184.3197959724028\n",
      "Variance test: 0.06989540350623813\n"
     ]
    },
    {
     "name": "stderr",
     "output_type": "stream",
     "text": [
      "/Users/mark/.pyenv/versions/3.7.4/lib/python3.7/site-packages/ipykernel_launcher.py:59: DataConversionWarning: A column-vector y was passed when a 1d array was expected. Please change the shape of y to (n_samples,), for example using ravel().\n"
     ]
    },
    {
     "name": "stdout",
     "output_type": "stream",
     "text": [
      "Mean Absolute Error: 113.51715516093573\n",
      "Mean Squared Error: 34191.00974890356\n",
      "Root Mean Squared Error: 184.90811163630318\n",
      "Variance test: 0.06394847442564766\n"
     ]
    },
    {
     "name": "stderr",
     "output_type": "stream",
     "text": [
      "/Users/mark/.pyenv/versions/3.7.4/lib/python3.7/site-packages/ipykernel_launcher.py:59: DataConversionWarning: A column-vector y was passed when a 1d array was expected. Please change the shape of y to (n_samples,), for example using ravel().\n"
     ]
    },
    {
     "name": "stdout",
     "output_type": "stream",
     "text": [
      "Mean Absolute Error: 113.0907503168703\n",
      "Mean Squared Error: 33965.292946282214\n",
      "Root Mean Squared Error: 184.29675240297158\n",
      "Variance test: 0.07012795139907191\n"
     ]
    },
    {
     "name": "stderr",
     "output_type": "stream",
     "text": [
      "/Users/mark/.pyenv/versions/3.7.4/lib/python3.7/site-packages/ipykernel_launcher.py:59: DataConversionWarning: A column-vector y was passed when a 1d array was expected. Please change the shape of y to (n_samples,), for example using ravel().\n"
     ]
    },
    {
     "name": "stdout",
     "output_type": "stream",
     "text": [
      "Mean Absolute Error: 113.50948201333898\n",
      "Mean Squared Error: 34177.22199342568\n",
      "Root Mean Squared Error: 184.87082515482447\n",
      "Variance test: 0.0643259435218837\n"
     ]
    },
    {
     "name": "stderr",
     "output_type": "stream",
     "text": [
      "/Users/mark/.pyenv/versions/3.7.4/lib/python3.7/site-packages/ipykernel_launcher.py:59: DataConversionWarning: A column-vector y was passed when a 1d array was expected. Please change the shape of y to (n_samples,), for example using ravel().\n"
     ]
    },
    {
     "name": "stdout",
     "output_type": "stream",
     "text": [
      "Mean Absolute Error: 115.4699140722212\n",
      "Mean Squared Error: 35204.816362942554\n",
      "Root Mean Squared Error: 187.6294656042663\n",
      "Variance test: 0.03619336468546219\n"
     ]
    },
    {
     "name": "stderr",
     "output_type": "stream",
     "text": [
      "/Users/mark/.pyenv/versions/3.7.4/lib/python3.7/site-packages/ipykernel_launcher.py:59: DataConversionWarning: A column-vector y was passed when a 1d array was expected. Please change the shape of y to (n_samples,), for example using ravel().\n"
     ]
    },
    {
     "name": "stdout",
     "output_type": "stream",
     "text": [
      "Mean Absolute Error: 115.73162670007264\n",
      "Mean Squared Error: 35353.60440270075\n",
      "Root Mean Squared Error: 188.02554188912939\n",
      "Variance test: 0.03211997601909378\n"
     ]
    },
    {
     "name": "stderr",
     "output_type": "stream",
     "text": [
      "/Users/mark/.pyenv/versions/3.7.4/lib/python3.7/site-packages/ipykernel_launcher.py:59: DataConversionWarning: A column-vector y was passed when a 1d array was expected. Please change the shape of y to (n_samples,), for example using ravel().\n"
     ]
    },
    {
     "name": "stdout",
     "output_type": "stream",
     "text": [
      "Mean Absolute Error: 115.48835661353965\n",
      "Mean Squared Error: 35213.5820903924\n",
      "Root Mean Squared Error: 187.65282329448817\n",
      "Variance test: 0.03595338427504258\n"
     ]
    },
    {
     "name": "stderr",
     "output_type": "stream",
     "text": [
      "/Users/mark/.pyenv/versions/3.7.4/lib/python3.7/site-packages/ipykernel_launcher.py:59: DataConversionWarning: A column-vector y was passed when a 1d array was expected. Please change the shape of y to (n_samples,), for example using ravel().\n"
     ]
    },
    {
     "name": "stdout",
     "output_type": "stream",
     "text": [
      "Mean Absolute Error: 115.75243808001592\n",
      "Mean Squared Error: 35347.9105233663\n",
      "Root Mean Squared Error: 188.01040004044006\n",
      "Variance test: 0.032275858061671214\n"
     ]
    },
    {
     "name": "stderr",
     "output_type": "stream",
     "text": [
      "/Users/mark/.pyenv/versions/3.7.4/lib/python3.7/site-packages/ipykernel_launcher.py:59: DataConversionWarning: A column-vector y was passed when a 1d array was expected. Please change the shape of y to (n_samples,), for example using ravel().\n"
     ]
    },
    {
     "name": "stdout",
     "output_type": "stream",
     "text": [
      "Mean Absolute Error: 113.30009149326125\n",
      "Mean Squared Error: 34060.877521093986\n",
      "Root Mean Squared Error: 184.55589267507548\n",
      "Variance test: 0.067511120608434\n"
     ]
    },
    {
     "name": "stderr",
     "output_type": "stream",
     "text": [
      "/Users/mark/.pyenv/versions/3.7.4/lib/python3.7/site-packages/ipykernel_launcher.py:59: DataConversionWarning: A column-vector y was passed when a 1d array was expected. Please change the shape of y to (n_samples,), for example using ravel().\n"
     ]
    },
    {
     "name": "stdout",
     "output_type": "stream",
     "text": [
      "Mean Absolute Error: 113.73504940272\n",
      "Mean Squared Error: 34324.937046395746\n",
      "Root Mean Squared Error: 185.2699032395595\n",
      "Variance test: 0.06028193014824057\n"
     ]
    },
    {
     "name": "stderr",
     "output_type": "stream",
     "text": [
      "/Users/mark/.pyenv/versions/3.7.4/lib/python3.7/site-packages/ipykernel_launcher.py:59: DataConversionWarning: A column-vector y was passed when a 1d array was expected. Please change the shape of y to (n_samples,), for example using ravel().\n"
     ]
    },
    {
     "name": "stdout",
     "output_type": "stream",
     "text": [
      "Mean Absolute Error: 113.27575537250249\n",
      "Mean Squared Error: 34056.14669147803\n",
      "Root Mean Squared Error: 184.54307543627323\n",
      "Variance test: 0.06764063711911228\n"
     ]
    },
    {
     "name": "stderr",
     "output_type": "stream",
     "text": [
      "/Users/mark/.pyenv/versions/3.7.4/lib/python3.7/site-packages/ipykernel_launcher.py:59: DataConversionWarning: A column-vector y was passed when a 1d array was expected. Please change the shape of y to (n_samples,), for example using ravel().\n"
     ]
    },
    {
     "name": "stdout",
     "output_type": "stream",
     "text": [
      "Mean Absolute Error: 113.71273616459835\n",
      "Mean Squared Error: 34313.49727792438\n",
      "Root Mean Squared Error: 185.2390274157268\n",
      "Variance test: 0.06059511811222529\n"
     ]
    },
    {
     "name": "stderr",
     "output_type": "stream",
     "text": [
      "/Users/mark/.pyenv/versions/3.7.4/lib/python3.7/site-packages/ipykernel_launcher.py:59: DataConversionWarning: A column-vector y was passed when a 1d array was expected. Please change the shape of y to (n_samples,), for example using ravel().\n"
     ]
    },
    {
     "name": "stdout",
     "output_type": "stream",
     "text": [
      "Mean Absolute Error: 115.34277637600532\n",
      "Mean Squared Error: 35188.15041434062\n",
      "Root Mean Squared Error: 187.58504848292313\n",
      "Variance test: 0.03664963043276093\n"
     ]
    },
    {
     "name": "stderr",
     "output_type": "stream",
     "text": [
      "/Users/mark/.pyenv/versions/3.7.4/lib/python3.7/site-packages/ipykernel_launcher.py:59: DataConversionWarning: A column-vector y was passed when a 1d array was expected. Please change the shape of y to (n_samples,), for example using ravel().\n"
     ]
    },
    {
     "name": "stdout",
     "output_type": "stream",
     "text": [
      "Mean Absolute Error: 115.73022285156269\n",
      "Mean Squared Error: 35395.27060631468\n",
      "Root Mean Squared Error: 188.13630858054668\n",
      "Variance test: 0.030979275181530208\n"
     ]
    },
    {
     "name": "stderr",
     "output_type": "stream",
     "text": [
      "/Users/mark/.pyenv/versions/3.7.4/lib/python3.7/site-packages/ipykernel_launcher.py:59: DataConversionWarning: A column-vector y was passed when a 1d array was expected. Please change the shape of y to (n_samples,), for example using ravel().\n"
     ]
    },
    {
     "name": "stdout",
     "output_type": "stream",
     "text": [
      "Mean Absolute Error: 115.35559194800182\n",
      "Mean Squared Error: 35203.684028986376\n",
      "Root Mean Squared Error: 187.62644810630076\n",
      "Variance test: 0.03622436473298707\n"
     ]
    },
    {
     "name": "stderr",
     "output_type": "stream",
     "text": [
      "/Users/mark/.pyenv/versions/3.7.4/lib/python3.7/site-packages/ipykernel_launcher.py:59: DataConversionWarning: A column-vector y was passed when a 1d array was expected. Please change the shape of y to (n_samples,), for example using ravel().\n"
     ]
    },
    {
     "name": "stdout",
     "output_type": "stream",
     "text": [
      "Mean Absolute Error: 115.70536446097351\n",
      "Mean Squared Error: 35378.761868721\n",
      "Root Mean Squared Error: 188.09242905742113\n",
      "Variance test: 0.03143123694350691\n"
     ]
    },
    {
     "name": "stderr",
     "output_type": "stream",
     "text": [
      "/Users/mark/.pyenv/versions/3.7.4/lib/python3.7/site-packages/ipykernel_launcher.py:59: DataConversionWarning: A column-vector y was passed when a 1d array was expected. Please change the shape of y to (n_samples,), for example using ravel().\n"
     ]
    },
    {
     "name": "stdout",
     "output_type": "stream",
     "text": [
      "Mean Absolute Error: 113.24500944179947\n",
      "Mean Squared Error: 34043.87605424453\n",
      "Root Mean Squared Error: 184.50982644359223\n",
      "Variance test: 0.06797657188051709\n"
     ]
    },
    {
     "name": "stderr",
     "output_type": "stream",
     "text": [
      "/Users/mark/.pyenv/versions/3.7.4/lib/python3.7/site-packages/ipykernel_launcher.py:59: DataConversionWarning: A column-vector y was passed when a 1d array was expected. Please change the shape of y to (n_samples,), for example using ravel().\n"
     ]
    },
    {
     "name": "stdout",
     "output_type": "stream",
     "text": [
      "Mean Absolute Error: 113.73039602805342\n",
      "Mean Squared Error: 34256.41201328689\n",
      "Root Mean Squared Error: 185.08487786225783\n",
      "Variance test: 0.06215794850080281\n"
     ]
    },
    {
     "name": "stderr",
     "output_type": "stream",
     "text": [
      "/Users/mark/.pyenv/versions/3.7.4/lib/python3.7/site-packages/ipykernel_launcher.py:59: DataConversionWarning: A column-vector y was passed when a 1d array was expected. Please change the shape of y to (n_samples,), for example using ravel().\n"
     ]
    },
    {
     "name": "stdout",
     "output_type": "stream",
     "text": [
      "Mean Absolute Error: 113.27458042928268\n",
      "Mean Squared Error: 34050.984183874156\n",
      "Root Mean Squared Error: 184.52908763626985\n",
      "Variance test: 0.06778197173174538\n"
     ]
    },
    {
     "name": "stderr",
     "output_type": "stream",
     "text": [
      "/Users/mark/.pyenv/versions/3.7.4/lib/python3.7/site-packages/ipykernel_launcher.py:59: DataConversionWarning: A column-vector y was passed when a 1d array was expected. Please change the shape of y to (n_samples,), for example using ravel().\n"
     ]
    },
    {
     "name": "stdout",
     "output_type": "stream",
     "text": [
      "Mean Absolute Error: 113.7010143418806\n",
      "Mean Squared Error: 34289.34199757112\n",
      "Root Mean Squared Error: 185.17381563701474\n",
      "Variance test: 0.06125642022618427\n"
     ]
    },
    {
     "name": "stderr",
     "output_type": "stream",
     "text": [
      "/Users/mark/.pyenv/versions/3.7.4/lib/python3.7/site-packages/ipykernel_launcher.py:59: DataConversionWarning: A column-vector y was passed when a 1d array was expected. Please change the shape of y to (n_samples,), for example using ravel().\n"
     ]
    },
    {
     "name": "stdout",
     "output_type": "stream",
     "text": [
      "Mean Absolute Error: 115.31732707050507\n",
      "Mean Squared Error: 35180.87906743365\n",
      "Root Mean Squared Error: 187.56566601442185\n",
      "Variance test: 0.03684869900123078\n"
     ]
    },
    {
     "name": "stderr",
     "output_type": "stream",
     "text": [
      "/Users/mark/.pyenv/versions/3.7.4/lib/python3.7/site-packages/ipykernel_launcher.py:59: DataConversionWarning: A column-vector y was passed when a 1d array was expected. Please change the shape of y to (n_samples,), for example using ravel().\n"
     ]
    },
    {
     "name": "stdout",
     "output_type": "stream",
     "text": [
      "Mean Absolute Error: 115.74027070642903\n",
      "Mean Squared Error: 35383.54738159313\n",
      "Root Mean Squared Error: 188.10514980083116\n",
      "Variance test: 0.03130022336252414\n"
     ]
    },
    {
     "name": "stderr",
     "output_type": "stream",
     "text": [
      "/Users/mark/.pyenv/versions/3.7.4/lib/python3.7/site-packages/ipykernel_launcher.py:59: DataConversionWarning: A column-vector y was passed when a 1d array was expected. Please change the shape of y to (n_samples,), for example using ravel().\n"
     ]
    },
    {
     "name": "stdout",
     "output_type": "stream",
     "text": [
      "Mean Absolute Error: 115.33665012936677\n",
      "Mean Squared Error: 35184.34291996621\n",
      "Root Mean Squared Error: 187.57489949341894\n",
      "Variance test: 0.036753868679713975\n"
     ]
    },
    {
     "name": "stderr",
     "output_type": "stream",
     "text": [
      "/Users/mark/.pyenv/versions/3.7.4/lib/python3.7/site-packages/ipykernel_launcher.py:59: DataConversionWarning: A column-vector y was passed when a 1d array was expected. Please change the shape of y to (n_samples,), for example using ravel().\n"
     ]
    },
    {
     "name": "stdout",
     "output_type": "stream",
     "text": [
      "Mean Absolute Error: 115.70834607982289\n",
      "Mean Squared Error: 35368.4932196569\n",
      "Root Mean Squared Error: 188.06513025985677\n",
      "Variance test: 0.03171236302584923\n"
     ]
    },
    {
     "name": "stderr",
     "output_type": "stream",
     "text": [
      "/Users/mark/.pyenv/versions/3.7.4/lib/python3.7/site-packages/ipykernel_launcher.py:59: DataConversionWarning: A column-vector y was passed when a 1d array was expected. Please change the shape of y to (n_samples,), for example using ravel().\n"
     ]
    },
    {
     "name": "stdout",
     "output_type": "stream",
     "text": [
      "Mean Absolute Error: 113.11422257735099\n",
      "Mean Squared Error: 33946.684739730335\n",
      "Root Mean Squared Error: 184.2462611282257\n",
      "Variance test: 0.0706373905837876\n"
     ]
    },
    {
     "name": "stderr",
     "output_type": "stream",
     "text": [
      "/Users/mark/.pyenv/versions/3.7.4/lib/python3.7/site-packages/ipykernel_launcher.py:59: DataConversionWarning: A column-vector y was passed when a 1d array was expected. Please change the shape of y to (n_samples,), for example using ravel().\n"
     ]
    },
    {
     "name": "stdout",
     "output_type": "stream",
     "text": [
      "Mean Absolute Error: 113.53747291712797\n",
      "Mean Squared Error: 34207.65116845529\n",
      "Root Mean Squared Error: 184.95310532255274\n",
      "Variance test: 0.06349288021320643\n"
     ]
    },
    {
     "name": "stderr",
     "output_type": "stream",
     "text": [
      "/Users/mark/.pyenv/versions/3.7.4/lib/python3.7/site-packages/ipykernel_launcher.py:59: DataConversionWarning: A column-vector y was passed when a 1d array was expected. Please change the shape of y to (n_samples,), for example using ravel().\n"
     ]
    },
    {
     "name": "stdout",
     "output_type": "stream",
     "text": [
      "Mean Absolute Error: 113.0905355683545\n",
      "Mean Squared Error: 33939.06696460981\n",
      "Root Mean Squared Error: 184.22558716044253\n",
      "Variance test: 0.07084594336053851\n"
     ]
    },
    {
     "name": "stderr",
     "output_type": "stream",
     "text": [
      "/Users/mark/.pyenv/versions/3.7.4/lib/python3.7/site-packages/ipykernel_launcher.py:59: DataConversionWarning: A column-vector y was passed when a 1d array was expected. Please change the shape of y to (n_samples,), for example using ravel().\n"
     ]
    },
    {
     "name": "stdout",
     "output_type": "stream",
     "text": [
      "Mean Absolute Error: 113.49094587566871\n",
      "Mean Squared Error: 34197.94320059016\n",
      "Root Mean Squared Error: 184.9268590567367\n",
      "Variance test: 0.06375865645664336\n"
     ]
    },
    {
     "name": "stderr",
     "output_type": "stream",
     "text": [
      "/Users/mark/.pyenv/versions/3.7.4/lib/python3.7/site-packages/ipykernel_launcher.py:59: DataConversionWarning: A column-vector y was passed when a 1d array was expected. Please change the shape of y to (n_samples,), for example using ravel().\n"
     ]
    },
    {
     "name": "stdout",
     "output_type": "stream",
     "text": [
      "Mean Absolute Error: 115.62765771816052\n",
      "Mean Squared Error: 35208.76552036125\n",
      "Root Mean Squared Error: 187.63998912907996\n",
      "Variance test: 0.03608524811172964\n"
     ]
    },
    {
     "name": "stderr",
     "output_type": "stream",
     "text": [
      "/Users/mark/.pyenv/versions/3.7.4/lib/python3.7/site-packages/ipykernel_launcher.py:59: DataConversionWarning: A column-vector y was passed when a 1d array was expected. Please change the shape of y to (n_samples,), for example using ravel().\n"
     ]
    },
    {
     "name": "stdout",
     "output_type": "stream",
     "text": [
      "Mean Absolute Error: 115.9736239058007\n",
      "Mean Squared Error: 35406.61330522244\n",
      "Root Mean Squared Error: 188.16645106187883\n",
      "Variance test: 0.03066874470305936\n"
     ]
    },
    {
     "name": "stderr",
     "output_type": "stream",
     "text": [
      "/Users/mark/.pyenv/versions/3.7.4/lib/python3.7/site-packages/ipykernel_launcher.py:59: DataConversionWarning: A column-vector y was passed when a 1d array was expected. Please change the shape of y to (n_samples,), for example using ravel().\n"
     ]
    },
    {
     "name": "stdout",
     "output_type": "stream",
     "text": [
      "Mean Absolute Error: 115.61048416058588\n",
      "Mean Squared Error: 35201.38337996007\n",
      "Root Mean Squared Error: 187.62031707669632\n",
      "Variance test: 0.036287349887467735\n"
     ]
    },
    {
     "name": "stderr",
     "output_type": "stream",
     "text": [
      "/Users/mark/.pyenv/versions/3.7.4/lib/python3.7/site-packages/ipykernel_launcher.py:59: DataConversionWarning: A column-vector y was passed when a 1d array was expected. Please change the shape of y to (n_samples,), for example using ravel().\n"
     ]
    },
    {
     "name": "stdout",
     "output_type": "stream",
     "text": [
      "Mean Absolute Error: 115.98785672991029\n",
      "Mean Squared Error: 35401.62422716294\n",
      "Root Mean Squared Error: 188.15319350774502\n",
      "Variance test: 0.030805331313489837\n"
     ]
    },
    {
     "name": "stderr",
     "output_type": "stream",
     "text": [
      "/Users/mark/.pyenv/versions/3.7.4/lib/python3.7/site-packages/ipykernel_launcher.py:59: DataConversionWarning: A column-vector y was passed when a 1d array was expected. Please change the shape of y to (n_samples,), for example using ravel().\n"
     ]
    },
    {
     "name": "stdout",
     "output_type": "stream",
     "text": [
      "Mean Absolute Error: 113.09269398792961\n",
      "Mean Squared Error: 33932.05378454928\n",
      "Root Mean Squared Error: 184.2065519587978\n",
      "Variance test: 0.07103794406315\n"
     ]
    },
    {
     "name": "stderr",
     "output_type": "stream",
     "text": [
      "/Users/mark/.pyenv/versions/3.7.4/lib/python3.7/site-packages/ipykernel_launcher.py:59: DataConversionWarning: A column-vector y was passed when a 1d array was expected. Please change the shape of y to (n_samples,), for example using ravel().\n"
     ]
    },
    {
     "name": "stdout",
     "output_type": "stream",
     "text": [
      "Mean Absolute Error: 113.52231883371715\n",
      "Mean Squared Error: 34195.966002135014\n",
      "Root Mean Squared Error: 184.92151308632268\n",
      "Variance test: 0.06381278646461619\n"
     ]
    },
    {
     "name": "stderr",
     "output_type": "stream",
     "text": [
      "/Users/mark/.pyenv/versions/3.7.4/lib/python3.7/site-packages/ipykernel_launcher.py:59: DataConversionWarning: A column-vector y was passed when a 1d array was expected. Please change the shape of y to (n_samples,), for example using ravel().\n"
     ]
    },
    {
     "name": "stdout",
     "output_type": "stream",
     "text": [
      "Mean Absolute Error: 113.04218363675515\n",
      "Mean Squared Error: 33914.39865399079\n",
      "Root Mean Squared Error: 184.1586236210262\n",
      "Variance test: 0.07152129076787883\n"
     ]
    },
    {
     "name": "stderr",
     "output_type": "stream",
     "text": [
      "/Users/mark/.pyenv/versions/3.7.4/lib/python3.7/site-packages/ipykernel_launcher.py:59: DataConversionWarning: A column-vector y was passed when a 1d array was expected. Please change the shape of y to (n_samples,), for example using ravel().\n"
     ]
    },
    {
     "name": "stdout",
     "output_type": "stream",
     "text": [
      "Mean Absolute Error: 113.50007031641906\n",
      "Mean Squared Error: 34195.363599710494\n",
      "Root Mean Squared Error: 184.91988427346178\n",
      "Variance test: 0.06382927851070141\n"
     ]
    },
    {
     "name": "stderr",
     "output_type": "stream",
     "text": [
      "/Users/mark/.pyenv/versions/3.7.4/lib/python3.7/site-packages/ipykernel_launcher.py:59: DataConversionWarning: A column-vector y was passed when a 1d array was expected. Please change the shape of y to (n_samples,), for example using ravel().\n"
     ]
    },
    {
     "name": "stdout",
     "output_type": "stream",
     "text": [
      "Mean Absolute Error: 115.55821126560025\n",
      "Mean Squared Error: 35158.22625172883\n",
      "Root Mean Squared Error: 187.5052699305511\n",
      "Variance test: 0.037468867953676765\n"
     ]
    },
    {
     "name": "stderr",
     "output_type": "stream",
     "text": [
      "/Users/mark/.pyenv/versions/3.7.4/lib/python3.7/site-packages/ipykernel_launcher.py:59: DataConversionWarning: A column-vector y was passed when a 1d array was expected. Please change the shape of y to (n_samples,), for example using ravel().\n"
     ]
    },
    {
     "name": "stdout",
     "output_type": "stream",
     "text": [
      "Mean Absolute Error: 116.06820045230283\n",
      "Mean Squared Error: 35431.553328942304\n",
      "Root Mean Squared Error: 188.23271057109682\n",
      "Variance test: 0.029985958572369187\n"
     ]
    },
    {
     "name": "stderr",
     "output_type": "stream",
     "text": [
      "/Users/mark/.pyenv/versions/3.7.4/lib/python3.7/site-packages/ipykernel_launcher.py:59: DataConversionWarning: A column-vector y was passed when a 1d array was expected. Please change the shape of y to (n_samples,), for example using ravel().\n"
     ]
    },
    {
     "name": "stdout",
     "output_type": "stream",
     "text": [
      "Mean Absolute Error: 115.64220956503736\n",
      "Mean Squared Error: 35182.184681495215\n",
      "Root Mean Squared Error: 187.56914640072128\n",
      "Variance test: 0.0368129550427132\n"
     ]
    },
    {
     "name": "stderr",
     "output_type": "stream",
     "text": [
      "/Users/mark/.pyenv/versions/3.7.4/lib/python3.7/site-packages/ipykernel_launcher.py:59: DataConversionWarning: A column-vector y was passed when a 1d array was expected. Please change the shape of y to (n_samples,), for example using ravel().\n"
     ]
    },
    {
     "name": "stdout",
     "output_type": "stream",
     "text": [
      "Mean Absolute Error: 116.04370931226079\n",
      "Mean Squared Error: 35426.024709536665\n",
      "Root Mean Squared Error: 188.21802440132205\n",
      "Variance test: 0.0301373162733255\n"
     ]
    },
    {
     "name": "stderr",
     "output_type": "stream",
     "text": [
      "/Users/mark/.pyenv/versions/3.7.4/lib/python3.7/site-packages/ipykernel_launcher.py:59: DataConversionWarning: A column-vector y was passed when a 1d array was expected. Please change the shape of y to (n_samples,), for example using ravel().\n"
     ]
    },
    {
     "name": "stdout",
     "output_type": "stream",
     "text": [
      "Mean Absolute Error: 113.35121022506085\n",
      "Mean Squared Error: 34049.693216019834\n",
      "Root Mean Squared Error: 184.5255895967273\n",
      "Variance test: 0.06781731471922592\n"
     ]
    },
    {
     "name": "stderr",
     "output_type": "stream",
     "text": [
      "/Users/mark/.pyenv/versions/3.7.4/lib/python3.7/site-packages/ipykernel_launcher.py:59: DataConversionWarning: A column-vector y was passed when a 1d array was expected. Please change the shape of y to (n_samples,), for example using ravel().\n"
     ]
    },
    {
     "name": "stdout",
     "output_type": "stream",
     "text": [
      "Mean Absolute Error: 113.84300874967123\n",
      "Mean Squared Error: 34347.573280378005\n",
      "Root Mean Squared Error: 185.33098305566182\n",
      "Variance test: 0.059662215155674936\n"
     ]
    },
    {
     "name": "stderr",
     "output_type": "stream",
     "text": [
      "/Users/mark/.pyenv/versions/3.7.4/lib/python3.7/site-packages/ipykernel_launcher.py:59: DataConversionWarning: A column-vector y was passed when a 1d array was expected. Please change the shape of y to (n_samples,), for example using ravel().\n"
     ]
    },
    {
     "name": "stdout",
     "output_type": "stream",
     "text": [
      "Mean Absolute Error: 113.31993742093067\n",
      "Mean Squared Error: 34047.494546072056\n",
      "Root Mean Squared Error: 184.51963187171185\n",
      "Variance test: 0.06787750797979264\n"
     ]
    },
    {
     "name": "stderr",
     "output_type": "stream",
     "text": [
      "/Users/mark/.pyenv/versions/3.7.4/lib/python3.7/site-packages/ipykernel_launcher.py:59: DataConversionWarning: A column-vector y was passed when a 1d array was expected. Please change the shape of y to (n_samples,), for example using ravel().\n"
     ]
    },
    {
     "name": "stdout",
     "output_type": "stream",
     "text": [
      "Mean Absolute Error: 113.80919810474573\n",
      "Mean Squared Error: 34337.13145911535\n",
      "Root Mean Squared Error: 185.3028101759802\n",
      "Variance test: 0.059948082194831165\n"
     ]
    },
    {
     "name": "stderr",
     "output_type": "stream",
     "text": [
      "/Users/mark/.pyenv/versions/3.7.4/lib/python3.7/site-packages/ipykernel_launcher.py:59: DataConversionWarning: A column-vector y was passed when a 1d array was expected. Please change the shape of y to (n_samples,), for example using ravel().\n"
     ]
    },
    {
     "name": "stdout",
     "output_type": "stream",
     "text": [
      "Mean Absolute Error: 115.49658044494016\n",
      "Mean Squared Error: 35189.24942467368\n",
      "Root Mean Squared Error: 187.58797782553572\n",
      "Variance test: 0.03661954269020984\n"
     ]
    },
    {
     "name": "stderr",
     "output_type": "stream",
     "text": [
      "/Users/mark/.pyenv/versions/3.7.4/lib/python3.7/site-packages/ipykernel_launcher.py:59: DataConversionWarning: A column-vector y was passed when a 1d array was expected. Please change the shape of y to (n_samples,), for example using ravel().\n"
     ]
    },
    {
     "name": "stdout",
     "output_type": "stream",
     "text": [
      "Mean Absolute Error: 116.141422220134\n",
      "Mean Squared Error: 35480.906923254\n",
      "Root Mean Squared Error: 188.36376223481523\n",
      "Variance test: 0.028634799083740003\n"
     ]
    },
    {
     "name": "stderr",
     "output_type": "stream",
     "text": [
      "/Users/mark/.pyenv/versions/3.7.4/lib/python3.7/site-packages/ipykernel_launcher.py:59: DataConversionWarning: A column-vector y was passed when a 1d array was expected. Please change the shape of y to (n_samples,), for example using ravel().\n"
     ]
    },
    {
     "name": "stdout",
     "output_type": "stream",
     "text": [
      "Mean Absolute Error: 115.47876808834789\n",
      "Mean Squared Error: 35195.28527369026\n",
      "Root Mean Squared Error: 187.60406518434044\n",
      "Variance test: 0.036454298501120586\n"
     ]
    },
    {
     "name": "stderr",
     "output_type": "stream",
     "text": [
      "/Users/mark/.pyenv/versions/3.7.4/lib/python3.7/site-packages/ipykernel_launcher.py:59: DataConversionWarning: A column-vector y was passed when a 1d array was expected. Please change the shape of y to (n_samples,), for example using ravel().\n"
     ]
    },
    {
     "name": "stdout",
     "output_type": "stream",
     "text": [
      "Mean Absolute Error: 116.1289126321376\n",
      "Mean Squared Error: 35486.57265509439\n",
      "Root Mean Squared Error: 188.37880097052957\n",
      "Variance test: 0.028479687638607643\n"
     ]
    },
    {
     "name": "stderr",
     "output_type": "stream",
     "text": [
      "/Users/mark/.pyenv/versions/3.7.4/lib/python3.7/site-packages/ipykernel_launcher.py:59: DataConversionWarning: A column-vector y was passed when a 1d array was expected. Please change the shape of y to (n_samples,), for example using ravel().\n"
     ]
    },
    {
     "name": "stdout",
     "output_type": "stream",
     "text": [
      "Mean Absolute Error: 113.30772584769957\n",
      "Mean Squared Error: 34014.83280245081\n",
      "Root Mean Squared Error: 184.4311058429429\n",
      "Variance test: 0.0687716925964248\n"
     ]
    },
    {
     "name": "stderr",
     "output_type": "stream",
     "text": [
      "/Users/mark/.pyenv/versions/3.7.4/lib/python3.7/site-packages/ipykernel_launcher.py:59: DataConversionWarning: A column-vector y was passed when a 1d array was expected. Please change the shape of y to (n_samples,), for example using ravel().\n"
     ]
    },
    {
     "name": "stdout",
     "output_type": "stream",
     "text": [
      "Mean Absolute Error: 113.88521430686461\n",
      "Mean Squared Error: 34337.496027415335\n",
      "Root Mean Squared Error: 185.3037938829514\n",
      "Variance test: 0.059938101363148144\n"
     ]
    },
    {
     "name": "stderr",
     "output_type": "stream",
     "text": [
      "/Users/mark/.pyenv/versions/3.7.4/lib/python3.7/site-packages/ipykernel_launcher.py:59: DataConversionWarning: A column-vector y was passed when a 1d array was expected. Please change the shape of y to (n_samples,), for example using ravel().\n"
     ]
    },
    {
     "name": "stdout",
     "output_type": "stream",
     "text": [
      "Mean Absolute Error: 113.37814511757792\n",
      "Mean Squared Error: 34039.57837173544\n",
      "Root Mean Squared Error: 184.49817986022367\n",
      "Variance test: 0.06809423006898863\n"
     ]
    },
    {
     "name": "stderr",
     "output_type": "stream",
     "text": [
      "/Users/mark/.pyenv/versions/3.7.4/lib/python3.7/site-packages/ipykernel_launcher.py:59: DataConversionWarning: A column-vector y was passed when a 1d array was expected. Please change the shape of y to (n_samples,), for example using ravel().\n"
     ]
    },
    {
     "name": "stdout",
     "output_type": "stream",
     "text": [
      "Mean Absolute Error: 113.84021934008673\n",
      "Mean Squared Error: 34346.36523869488\n",
      "Root Mean Squared Error: 185.32772388041374\n",
      "Variance test: 0.05969528786305478\n"
     ]
    },
    {
     "name": "stderr",
     "output_type": "stream",
     "text": [
      "/Users/mark/.pyenv/versions/3.7.4/lib/python3.7/site-packages/ipykernel_launcher.py:59: DataConversionWarning: A column-vector y was passed when a 1d array was expected. Please change the shape of y to (n_samples,), for example using ravel().\n"
     ]
    },
    {
     "name": "stdout",
     "output_type": "stream",
     "text": [
      "Mean Absolute Error: 115.39305076315114\n",
      "Mean Squared Error: 35139.84155086917\n",
      "Root Mean Squared Error: 187.45623902892422\n",
      "Variance test: 0.0379721881952636\n"
     ]
    },
    {
     "name": "stderr",
     "output_type": "stream",
     "text": [
      "/Users/mark/.pyenv/versions/3.7.4/lib/python3.7/site-packages/ipykernel_launcher.py:59: DataConversionWarning: A column-vector y was passed when a 1d array was expected. Please change the shape of y to (n_samples,), for example using ravel().\n"
     ]
    },
    {
     "name": "stdout",
     "output_type": "stream",
     "text": [
      "Mean Absolute Error: 116.12850099299772\n",
      "Mean Squared Error: 35480.34813618049\n",
      "Root Mean Squared Error: 188.36227896312067\n",
      "Variance test: 0.02865009706693722\n"
     ]
    },
    {
     "name": "stderr",
     "output_type": "stream",
     "text": [
      "/Users/mark/.pyenv/versions/3.7.4/lib/python3.7/site-packages/ipykernel_launcher.py:59: DataConversionWarning: A column-vector y was passed when a 1d array was expected. Please change the shape of y to (n_samples,), for example using ravel().\n"
     ]
    },
    {
     "name": "stdout",
     "output_type": "stream",
     "text": [
      "Mean Absolute Error: 115.38307479182569\n",
      "Mean Squared Error: 35126.912607864724\n",
      "Root Mean Squared Error: 187.4217506264007\n",
      "Variance test: 0.0383261454756203\n"
     ]
    },
    {
     "name": "stderr",
     "output_type": "stream",
     "text": [
      "/Users/mark/.pyenv/versions/3.7.4/lib/python3.7/site-packages/ipykernel_launcher.py:59: DataConversionWarning: A column-vector y was passed when a 1d array was expected. Please change the shape of y to (n_samples,), for example using ravel().\n"
     ]
    },
    {
     "name": "stdout",
     "output_type": "stream",
     "text": [
      "Mean Absolute Error: 116.13007341502974\n",
      "Mean Squared Error: 35477.916672860454\n",
      "Root Mean Squared Error: 188.35582463215852\n",
      "Variance test: 0.028716663540604204\n"
     ]
    },
    {
     "name": "stderr",
     "output_type": "stream",
     "text": [
      "/Users/mark/.pyenv/versions/3.7.4/lib/python3.7/site-packages/ipykernel_launcher.py:59: DataConversionWarning: A column-vector y was passed when a 1d array was expected. Please change the shape of y to (n_samples,), for example using ravel().\n"
     ]
    },
    {
     "name": "stdout",
     "output_type": "stream",
     "text": [
      "Mean Absolute Error: 113.16736118204562\n",
      "Mean Squared Error: 34064.782507601005\n",
      "Root Mean Squared Error: 184.56647178618604\n",
      "Variance test: 0.06740421330724311\n"
     ]
    },
    {
     "name": "stderr",
     "output_type": "stream",
     "text": [
      "/Users/mark/.pyenv/versions/3.7.4/lib/python3.7/site-packages/ipykernel_launcher.py:59: DataConversionWarning: A column-vector y was passed when a 1d array was expected. Please change the shape of y to (n_samples,), for example using ravel().\n"
     ]
    },
    {
     "name": "stdout",
     "output_type": "stream",
     "text": [
      "Mean Absolute Error: 113.48369255077287\n",
      "Mean Squared Error: 34225.07693600704\n",
      "Root Mean Squared Error: 185.0002079350373\n",
      "Variance test: 0.06301581280803448\n"
     ]
    },
    {
     "name": "stderr",
     "output_type": "stream",
     "text": [
      "/Users/mark/.pyenv/versions/3.7.4/lib/python3.7/site-packages/ipykernel_launcher.py:59: DataConversionWarning: A column-vector y was passed when a 1d array was expected. Please change the shape of y to (n_samples,), for example using ravel().\n"
     ]
    },
    {
     "name": "stdout",
     "output_type": "stream",
     "text": [
      "Mean Absolute Error: 113.1529337932199\n",
      "Mean Squared Error: 34019.078834235486\n",
      "Root Mean Squared Error: 184.4426166433221\n",
      "Variance test: 0.06865544845625826\n"
     ]
    },
    {
     "name": "stderr",
     "output_type": "stream",
     "text": [
      "/Users/mark/.pyenv/versions/3.7.4/lib/python3.7/site-packages/ipykernel_launcher.py:59: DataConversionWarning: A column-vector y was passed when a 1d array was expected. Please change the shape of y to (n_samples,), for example using ravel().\n"
     ]
    },
    {
     "name": "stdout",
     "output_type": "stream",
     "text": [
      "Mean Absolute Error: 113.48170365488015\n",
      "Mean Squared Error: 34220.0439152673\n",
      "Root Mean Squared Error: 184.98660469144056\n",
      "Variance test: 0.06315360244268631\n"
     ]
    },
    {
     "name": "stderr",
     "output_type": "stream",
     "text": [
      "/Users/mark/.pyenv/versions/3.7.4/lib/python3.7/site-packages/ipykernel_launcher.py:59: DataConversionWarning: A column-vector y was passed when a 1d array was expected. Please change the shape of y to (n_samples,), for example using ravel().\n"
     ]
    },
    {
     "name": "stdout",
     "output_type": "stream",
     "text": [
      "Mean Absolute Error: 115.55035856087697\n",
      "Mean Squared Error: 35278.097091404\n",
      "Root Mean Squared Error: 187.82464452622824\n",
      "Variance test: 0.03418714906985765\n"
     ]
    },
    {
     "name": "stderr",
     "output_type": "stream",
     "text": [
      "/Users/mark/.pyenv/versions/3.7.4/lib/python3.7/site-packages/ipykernel_launcher.py:59: DataConversionWarning: A column-vector y was passed when a 1d array was expected. Please change the shape of y to (n_samples,), for example using ravel().\n"
     ]
    },
    {
     "name": "stdout",
     "output_type": "stream",
     "text": [
      "Mean Absolute Error: 115.74444470450841\n",
      "Mean Squared Error: 35399.36846045396\n",
      "Root Mean Squared Error: 188.14719891737417\n",
      "Variance test: 0.03086708771918789\n"
     ]
    },
    {
     "name": "stderr",
     "output_type": "stream",
     "text": [
      "/Users/mark/.pyenv/versions/3.7.4/lib/python3.7/site-packages/ipykernel_launcher.py:59: DataConversionWarning: A column-vector y was passed when a 1d array was expected. Please change the shape of y to (n_samples,), for example using ravel().\n"
     ]
    },
    {
     "name": "stdout",
     "output_type": "stream",
     "text": [
      "Mean Absolute Error: 115.53319630442158\n",
      "Mean Squared Error: 35276.42801022302\n",
      "Root Mean Squared Error: 187.82020128362927\n",
      "Variance test: 0.03423284371290081\n"
     ]
    },
    {
     "name": "stderr",
     "output_type": "stream",
     "text": [
      "/Users/mark/.pyenv/versions/3.7.4/lib/python3.7/site-packages/ipykernel_launcher.py:59: DataConversionWarning: A column-vector y was passed when a 1d array was expected. Please change the shape of y to (n_samples,), for example using ravel().\n"
     ]
    },
    {
     "name": "stdout",
     "output_type": "stream",
     "text": [
      "Mean Absolute Error: 115.70729852517823\n",
      "Mean Squared Error: 35365.4898724229\n",
      "Root Mean Squared Error: 188.057145230972\n",
      "Variance test: 0.03179458603654306\n"
     ]
    },
    {
     "name": "stderr",
     "output_type": "stream",
     "text": [
      "/Users/mark/.pyenv/versions/3.7.4/lib/python3.7/site-packages/ipykernel_launcher.py:59: DataConversionWarning: A column-vector y was passed when a 1d array was expected. Please change the shape of y to (n_samples,), for example using ravel().\n"
     ]
    },
    {
     "name": "stdout",
     "output_type": "stream",
     "text": [
      "Mean Absolute Error: 113.08588193308488\n",
      "Mean Squared Error: 34028.677094942606\n",
      "Root Mean Squared Error: 184.4686344475467\n",
      "Variance test: 0.06839267567932816\n"
     ]
    },
    {
     "name": "stderr",
     "output_type": "stream",
     "text": [
      "/Users/mark/.pyenv/versions/3.7.4/lib/python3.7/site-packages/ipykernel_launcher.py:59: DataConversionWarning: A column-vector y was passed when a 1d array was expected. Please change the shape of y to (n_samples,), for example using ravel().\n"
     ]
    },
    {
     "name": "stdout",
     "output_type": "stream",
     "text": [
      "Mean Absolute Error: 113.46927902948423\n",
      "Mean Squared Error: 34203.16973523227\n",
      "Root Mean Squared Error: 184.9409898730735\n",
      "Variance test: 0.06361556896782272\n"
     ]
    },
    {
     "name": "stderr",
     "output_type": "stream",
     "text": [
      "/Users/mark/.pyenv/versions/3.7.4/lib/python3.7/site-packages/ipykernel_launcher.py:59: DataConversionWarning: A column-vector y was passed when a 1d array was expected. Please change the shape of y to (n_samples,), for example using ravel().\n"
     ]
    },
    {
     "name": "stdout",
     "output_type": "stream",
     "text": [
      "Mean Absolute Error: 113.12036628166513\n",
      "Mean Squared Error: 34010.03898134225\n",
      "Root Mean Squared Error: 184.41810914696597\n",
      "Variance test: 0.06890293363302902\n"
     ]
    },
    {
     "name": "stderr",
     "output_type": "stream",
     "text": [
      "/Users/mark/.pyenv/versions/3.7.4/lib/python3.7/site-packages/ipykernel_launcher.py:59: DataConversionWarning: A column-vector y was passed when a 1d array was expected. Please change the shape of y to (n_samples,), for example using ravel().\n"
     ]
    },
    {
     "name": "stdout",
     "output_type": "stream",
     "text": [
      "Mean Absolute Error: 113.46388010635087\n",
      "Mean Squared Error: 34190.22765662771\n",
      "Root Mean Squared Error: 184.90599681088688\n",
      "Variance test: 0.06396988586313745\n"
     ]
    },
    {
     "name": "stderr",
     "output_type": "stream",
     "text": [
      "/Users/mark/.pyenv/versions/3.7.4/lib/python3.7/site-packages/ipykernel_launcher.py:59: DataConversionWarning: A column-vector y was passed when a 1d array was expected. Please change the shape of y to (n_samples,), for example using ravel().\n"
     ]
    },
    {
     "name": "stdout",
     "output_type": "stream",
     "text": [
      "Mean Absolute Error: 115.48239599958302\n",
      "Mean Squared Error: 35264.71746865703\n",
      "Root Mean Squared Error: 187.78902382369697\n",
      "Variance test: 0.03455344466556798\n"
     ]
    },
    {
     "name": "stderr",
     "output_type": "stream",
     "text": [
      "/Users/mark/.pyenv/versions/3.7.4/lib/python3.7/site-packages/ipykernel_launcher.py:59: DataConversionWarning: A column-vector y was passed when a 1d array was expected. Please change the shape of y to (n_samples,), for example using ravel().\n"
     ]
    },
    {
     "name": "stdout",
     "output_type": "stream",
     "text": [
      "Mean Absolute Error: 115.68315081576816\n",
      "Mean Squared Error: 35370.55159303685\n",
      "Root Mean Squared Error: 188.07060268164415\n",
      "Variance test: 0.031656010681866076\n"
     ]
    },
    {
     "name": "stderr",
     "output_type": "stream",
     "text": [
      "/Users/mark/.pyenv/versions/3.7.4/lib/python3.7/site-packages/ipykernel_launcher.py:59: DataConversionWarning: A column-vector y was passed when a 1d array was expected. Please change the shape of y to (n_samples,), for example using ravel().\n"
     ]
    },
    {
     "name": "stdout",
     "output_type": "stream",
     "text": [
      "Mean Absolute Error: 115.50760998219451\n",
      "Mean Squared Error: 35265.13552475987\n",
      "Root Mean Squared Error: 187.79013692087204\n",
      "Variance test: 0.03454199949165493\n"
     ]
    },
    {
     "name": "stderr",
     "output_type": "stream",
     "text": [
      "/Users/mark/.pyenv/versions/3.7.4/lib/python3.7/site-packages/ipykernel_launcher.py:59: DataConversionWarning: A column-vector y was passed when a 1d array was expected. Please change the shape of y to (n_samples,), for example using ravel().\n"
     ]
    },
    {
     "name": "stdout",
     "output_type": "stream",
     "text": [
      "Mean Absolute Error: 115.70537675096185\n",
      "Mean Squared Error: 35377.78078371845\n",
      "Root Mean Squared Error: 188.0898210529173\n",
      "Variance test: 0.03145809622962026\n"
     ]
    },
    {
     "name": "stderr",
     "output_type": "stream",
     "text": [
      "/Users/mark/.pyenv/versions/3.7.4/lib/python3.7/site-packages/ipykernel_launcher.py:59: DataConversionWarning: A column-vector y was passed when a 1d array was expected. Please change the shape of y to (n_samples,), for example using ravel().\n"
     ]
    },
    {
     "name": "stdout",
     "output_type": "stream",
     "text": [
      "Mean Absolute Error: 113.34623300330361\n",
      "Mean Squared Error: 34123.550155735866\n",
      "Root Mean Squared Error: 184.72560774222902\n",
      "Variance test: 0.06579532409645228\n"
     ]
    },
    {
     "name": "stderr",
     "output_type": "stream",
     "text": [
      "/Users/mark/.pyenv/versions/3.7.4/lib/python3.7/site-packages/ipykernel_launcher.py:59: DataConversionWarning: A column-vector y was passed when a 1d array was expected. Please change the shape of y to (n_samples,), for example using ravel().\n"
     ]
    },
    {
     "name": "stdout",
     "output_type": "stream",
     "text": [
      "Mean Absolute Error: 113.70380404907752\n",
      "Mean Squared Error: 34343.89789540896\n",
      "Root Mean Squared Error: 185.32106705771193\n",
      "Variance test: 0.05976283662700943\n"
     ]
    },
    {
     "name": "stderr",
     "output_type": "stream",
     "text": [
      "/Users/mark/.pyenv/versions/3.7.4/lib/python3.7/site-packages/ipykernel_launcher.py:59: DataConversionWarning: A column-vector y was passed when a 1d array was expected. Please change the shape of y to (n_samples,), for example using ravel().\n"
     ]
    },
    {
     "name": "stdout",
     "output_type": "stream",
     "text": [
      "Mean Absolute Error: 113.30055990741452\n",
      "Mean Squared Error: 34087.63940750719\n",
      "Root Mean Squared Error: 184.62838191217293\n",
      "Variance test: 0.06677845711623831\n"
     ]
    },
    {
     "name": "stderr",
     "output_type": "stream",
     "text": [
      "/Users/mark/.pyenv/versions/3.7.4/lib/python3.7/site-packages/ipykernel_launcher.py:59: DataConversionWarning: A column-vector y was passed when a 1d array was expected. Please change the shape of y to (n_samples,), for example using ravel().\n"
     ]
    },
    {
     "name": "stdout",
     "output_type": "stream",
     "text": [
      "Mean Absolute Error: 113.69314547565433\n",
      "Mean Squared Error: 34314.43837026518\n",
      "Root Mean Squared Error: 185.24156760906874\n",
      "Variance test: 0.06056935371018546\n"
     ]
    },
    {
     "name": "stderr",
     "output_type": "stream",
     "text": [
      "/Users/mark/.pyenv/versions/3.7.4/lib/python3.7/site-packages/ipykernel_launcher.py:59: DataConversionWarning: A column-vector y was passed when a 1d array was expected. Please change the shape of y to (n_samples,), for example using ravel().\n"
     ]
    },
    {
     "name": "stdout",
     "output_type": "stream",
     "text": [
      "Mean Absolute Error: 115.41015792436441\n",
      "Mean Squared Error: 35274.78668297591\n",
      "Root Mean Squared Error: 187.81583182196306\n",
      "Variance test: 0.03427777853304537\n"
     ]
    },
    {
     "name": "stderr",
     "output_type": "stream",
     "text": [
      "/Users/mark/.pyenv/versions/3.7.4/lib/python3.7/site-packages/ipykernel_launcher.py:59: DataConversionWarning: A column-vector y was passed when a 1d array was expected. Please change the shape of y to (n_samples,), for example using ravel().\n"
     ]
    },
    {
     "name": "stdout",
     "output_type": "stream",
     "text": [
      "Mean Absolute Error: 115.69771715488531\n",
      "Mean Squared Error: 35405.82015278306\n",
      "Root Mean Squared Error: 188.1643434681052\n",
      "Variance test: 0.030690458936021292\n"
     ]
    },
    {
     "name": "stderr",
     "output_type": "stream",
     "text": [
      "/Users/mark/.pyenv/versions/3.7.4/lib/python3.7/site-packages/ipykernel_launcher.py:59: DataConversionWarning: A column-vector y was passed when a 1d array was expected. Please change the shape of y to (n_samples,), for example using ravel().\n"
     ]
    },
    {
     "name": "stdout",
     "output_type": "stream",
     "text": [
      "Mean Absolute Error: 115.45017241648326\n",
      "Mean Squared Error: 35270.704068487656\n",
      "Root Mean Squared Error: 187.804962843072\n",
      "Variance test: 0.0343895487775665\n"
     ]
    },
    {
     "name": "stderr",
     "output_type": "stream",
     "text": [
      "/Users/mark/.pyenv/versions/3.7.4/lib/python3.7/site-packages/ipykernel_launcher.py:59: DataConversionWarning: A column-vector y was passed when a 1d array was expected. Please change the shape of y to (n_samples,), for example using ravel().\n"
     ]
    },
    {
     "name": "stdout",
     "output_type": "stream",
     "text": [
      "Mean Absolute Error: 115.72054725556147\n",
      "Mean Squared Error: 35419.019269803146\n",
      "Root Mean Squared Error: 188.19941357454636\n",
      "Variance test: 0.030329105068041873\n"
     ]
    },
    {
     "name": "stderr",
     "output_type": "stream",
     "text": [
      "/Users/mark/.pyenv/versions/3.7.4/lib/python3.7/site-packages/ipykernel_launcher.py:59: DataConversionWarning: A column-vector y was passed when a 1d array was expected. Please change the shape of y to (n_samples,), for example using ravel().\n"
     ]
    },
    {
     "name": "stdout",
     "output_type": "stream",
     "text": [
      "Mean Absolute Error: 113.29906807646697\n",
      "Mean Squared Error: 34099.28236204771\n",
      "Root Mean Squared Error: 184.6599100022734\n",
      "Variance test: 0.0664597065019722\n"
     ]
    },
    {
     "name": "stderr",
     "output_type": "stream",
     "text": [
      "/Users/mark/.pyenv/versions/3.7.4/lib/python3.7/site-packages/ipykernel_launcher.py:59: DataConversionWarning: A column-vector y was passed when a 1d array was expected. Please change the shape of y to (n_samples,), for example using ravel().\n"
     ]
    },
    {
     "name": "stdout",
     "output_type": "stream",
     "text": [
      "Mean Absolute Error: 113.68283230755804\n",
      "Mean Squared Error: 34316.45680984735\n",
      "Root Mean Squared Error: 185.24701565706084\n",
      "Variance test: 0.060514094638750016\n"
     ]
    },
    {
     "name": "stderr",
     "output_type": "stream",
     "text": [
      "/Users/mark/.pyenv/versions/3.7.4/lib/python3.7/site-packages/ipykernel_launcher.py:59: DataConversionWarning: A column-vector y was passed when a 1d array was expected. Please change the shape of y to (n_samples,), for example using ravel().\n"
     ]
    },
    {
     "name": "stdout",
     "output_type": "stream",
     "text": [
      "Mean Absolute Error: 113.27845947016061\n",
      "Mean Squared Error: 34095.18229501403\n",
      "Root Mean Squared Error: 184.6488079978152\n",
      "Variance test: 0.06657195454699971\n"
     ]
    },
    {
     "name": "stderr",
     "output_type": "stream",
     "text": [
      "/Users/mark/.pyenv/versions/3.7.4/lib/python3.7/site-packages/ipykernel_launcher.py:59: DataConversionWarning: A column-vector y was passed when a 1d array was expected. Please change the shape of y to (n_samples,), for example using ravel().\n"
     ]
    },
    {
     "name": "stdout",
     "output_type": "stream",
     "text": [
      "Mean Absolute Error: 113.75367556888865\n",
      "Mean Squared Error: 34349.38197892781\n",
      "Root Mean Squared Error: 185.33586263572363\n",
      "Variance test: 0.059612698190563806\n"
     ]
    },
    {
     "name": "stderr",
     "output_type": "stream",
     "text": [
      "/Users/mark/.pyenv/versions/3.7.4/lib/python3.7/site-packages/ipykernel_launcher.py:59: DataConversionWarning: A column-vector y was passed when a 1d array was expected. Please change the shape of y to (n_samples,), for example using ravel().\n"
     ]
    },
    {
     "name": "stdout",
     "output_type": "stream",
     "text": [
      "Mean Absolute Error: 115.37495380118938\n",
      "Mean Squared Error: 35263.60997367525\n",
      "Root Mean Squared Error: 187.78607502601264\n",
      "Variance test: 0.03458376469340185\n"
     ]
    },
    {
     "name": "stderr",
     "output_type": "stream",
     "text": [
      "/Users/mark/.pyenv/versions/3.7.4/lib/python3.7/site-packages/ipykernel_launcher.py:59: DataConversionWarning: A column-vector y was passed when a 1d array was expected. Please change the shape of y to (n_samples,), for example using ravel().\n"
     ]
    },
    {
     "name": "stdout",
     "output_type": "stream",
     "text": [
      "Mean Absolute Error: 115.66445630509502\n",
      "Mean Squared Error: 35408.80182575771\n",
      "Root Mean Squared Error: 188.17226635654288\n",
      "Variance test: 0.030608829304220708\n"
     ]
    },
    {
     "name": "stderr",
     "output_type": "stream",
     "text": [
      "/Users/mark/.pyenv/versions/3.7.4/lib/python3.7/site-packages/ipykernel_launcher.py:59: DataConversionWarning: A column-vector y was passed when a 1d array was expected. Please change the shape of y to (n_samples,), for example using ravel().\n"
     ]
    },
    {
     "name": "stdout",
     "output_type": "stream",
     "text": [
      "Mean Absolute Error: 115.40284107268818\n",
      "Mean Squared Error: 35267.69272844432\n",
      "Root Mean Squared Error: 187.79694547155\n",
      "Variance test: 0.03447199060839534\n"
     ]
    },
    {
     "name": "stderr",
     "output_type": "stream",
     "text": [
      "/Users/mark/.pyenv/versions/3.7.4/lib/python3.7/site-packages/ipykernel_launcher.py:59: DataConversionWarning: A column-vector y was passed when a 1d array was expected. Please change the shape of y to (n_samples,), for example using ravel().\n"
     ]
    },
    {
     "name": "stdout",
     "output_type": "stream",
     "text": [
      "Mean Absolute Error: 115.64981745964126\n",
      "Mean Squared Error: 35390.14150198679\n",
      "Root Mean Squared Error: 188.12267673512088\n",
      "Variance test: 0.0311196953085231\n"
     ]
    },
    {
     "name": "stderr",
     "output_type": "stream",
     "text": [
      "/Users/mark/.pyenv/versions/3.7.4/lib/python3.7/site-packages/ipykernel_launcher.py:59: DataConversionWarning: A column-vector y was passed when a 1d array was expected. Please change the shape of y to (n_samples,), for example using ravel().\n"
     ]
    },
    {
     "name": "stdout",
     "output_type": "stream",
     "text": [
      "Mean Absolute Error: 113.02495723506185\n",
      "Mean Squared Error: 33955.98284727219\n",
      "Root Mean Squared Error: 184.27149222620463\n",
      "Variance test: 0.0703828351373873\n"
     ]
    },
    {
     "name": "stderr",
     "output_type": "stream",
     "text": [
      "/Users/mark/.pyenv/versions/3.7.4/lib/python3.7/site-packages/ipykernel_launcher.py:59: DataConversionWarning: A column-vector y was passed when a 1d array was expected. Please change the shape of y to (n_samples,), for example using ravel().\n"
     ]
    },
    {
     "name": "stdout",
     "output_type": "stream",
     "text": [
      "Mean Absolute Error: 113.39880056269092\n",
      "Mean Squared Error: 34204.016785605934\n",
      "Root Mean Squared Error: 184.94327991469692\n",
      "Variance test: 0.06359237916441163\n"
     ]
    },
    {
     "name": "stderr",
     "output_type": "stream",
     "text": [
      "/Users/mark/.pyenv/versions/3.7.4/lib/python3.7/site-packages/ipykernel_launcher.py:59: DataConversionWarning: A column-vector y was passed when a 1d array was expected. Please change the shape of y to (n_samples,), for example using ravel().\n"
     ]
    },
    {
     "name": "stdout",
     "output_type": "stream",
     "text": [
      "Mean Absolute Error: 113.00105054514283\n",
      "Mean Squared Error: 33974.76234081389\n",
      "Root Mean Squared Error: 184.32244122953094\n",
      "Variance test: 0.06986870660745181\n"
     ]
    },
    {
     "name": "stderr",
     "output_type": "stream",
     "text": [
      "/Users/mark/.pyenv/versions/3.7.4/lib/python3.7/site-packages/ipykernel_launcher.py:59: DataConversionWarning: A column-vector y was passed when a 1d array was expected. Please change the shape of y to (n_samples,), for example using ravel().\n"
     ]
    },
    {
     "name": "stdout",
     "output_type": "stream",
     "text": [
      "Mean Absolute Error: 113.40926792174768\n",
      "Mean Squared Error: 34200.444393512116\n",
      "Root Mean Squared Error: 184.93362158761752\n",
      "Variance test: 0.06369018098699375\n"
     ]
    },
    {
     "name": "stderr",
     "output_type": "stream",
     "text": [
      "/Users/mark/.pyenv/versions/3.7.4/lib/python3.7/site-packages/ipykernel_launcher.py:59: DataConversionWarning: A column-vector y was passed when a 1d array was expected. Please change the shape of y to (n_samples,), for example using ravel().\n"
     ]
    },
    {
     "name": "stdout",
     "output_type": "stream",
     "text": [
      "Mean Absolute Error: 115.61840668817219\n",
      "Mean Squared Error: 35242.87735351149\n",
      "Root Mean Squared Error: 187.7308641473519\n",
      "Variance test: 0.03515136421374265\n"
     ]
    },
    {
     "name": "stderr",
     "output_type": "stream",
     "text": [
      "/Users/mark/.pyenv/versions/3.7.4/lib/python3.7/site-packages/ipykernel_launcher.py:59: DataConversionWarning: A column-vector y was passed when a 1d array was expected. Please change the shape of y to (n_samples,), for example using ravel().\n"
     ]
    },
    {
     "name": "stdout",
     "output_type": "stream",
     "text": [
      "Mean Absolute Error: 115.8581257307323\n",
      "Mean Squared Error: 35412.08797243269\n",
      "Root Mean Squared Error: 188.18099790476373\n",
      "Variance test: 0.030518864058065143\n"
     ]
    },
    {
     "name": "stderr",
     "output_type": "stream",
     "text": [
      "/Users/mark/.pyenv/versions/3.7.4/lib/python3.7/site-packages/ipykernel_launcher.py:59: DataConversionWarning: A column-vector y was passed when a 1d array was expected. Please change the shape of y to (n_samples,), for example using ravel().\n"
     ]
    },
    {
     "name": "stdout",
     "output_type": "stream",
     "text": [
      "Mean Absolute Error: 115.54158136778851\n",
      "Mean Squared Error: 35237.0928616176\n",
      "Root Mean Squared Error: 187.71545717286472\n",
      "Variance test: 0.035309726967627686\n"
     ]
    },
    {
     "name": "stderr",
     "output_type": "stream",
     "text": [
      "/Users/mark/.pyenv/versions/3.7.4/lib/python3.7/site-packages/ipykernel_launcher.py:59: DataConversionWarning: A column-vector y was passed when a 1d array was expected. Please change the shape of y to (n_samples,), for example using ravel().\n"
     ]
    },
    {
     "name": "stdout",
     "output_type": "stream",
     "text": [
      "Mean Absolute Error: 115.87527473024998\n",
      "Mean Squared Error: 35407.998266948605\n",
      "Root Mean Squared Error: 188.17013117641335\n",
      "Variance test: 0.03063082843366083\n"
     ]
    },
    {
     "name": "stderr",
     "output_type": "stream",
     "text": [
      "/Users/mark/.pyenv/versions/3.7.4/lib/python3.7/site-packages/ipykernel_launcher.py:59: DataConversionWarning: A column-vector y was passed when a 1d array was expected. Please change the shape of y to (n_samples,), for example using ravel().\n"
     ]
    },
    {
     "name": "stdout",
     "output_type": "stream",
     "text": [
      "Mean Absolute Error: 113.06317440215673\n",
      "Mean Squared Error: 33981.85697403317\n",
      "Root Mean Squared Error: 184.34168539435993\n",
      "Variance test: 0.06967447595158416\n"
     ]
    },
    {
     "name": "stderr",
     "output_type": "stream",
     "text": [
      "/Users/mark/.pyenv/versions/3.7.4/lib/python3.7/site-packages/ipykernel_launcher.py:59: DataConversionWarning: A column-vector y was passed when a 1d array was expected. Please change the shape of y to (n_samples,), for example using ravel().\n"
     ]
    },
    {
     "name": "stdout",
     "output_type": "stream",
     "text": [
      "Mean Absolute Error: 113.39851745277949\n",
      "Mean Squared Error: 34137.83580629307\n",
      "Root Mean Squared Error: 184.7642709137594\n",
      "Variance test: 0.06540422406471602\n"
     ]
    },
    {
     "name": "stderr",
     "output_type": "stream",
     "text": [
      "/Users/mark/.pyenv/versions/3.7.4/lib/python3.7/site-packages/ipykernel_launcher.py:59: DataConversionWarning: A column-vector y was passed when a 1d array was expected. Please change the shape of y to (n_samples,), for example using ravel().\n"
     ]
    },
    {
     "name": "stdout",
     "output_type": "stream",
     "text": [
      "Mean Absolute Error: 112.99622010997155\n",
      "Mean Squared Error: 33947.66079157475\n",
      "Root Mean Squared Error: 184.24890987893184\n",
      "Variance test: 0.07061066909107028\n"
     ]
    },
    {
     "name": "stderr",
     "output_type": "stream",
     "text": [
      "/Users/mark/.pyenv/versions/3.7.4/lib/python3.7/site-packages/ipykernel_launcher.py:59: DataConversionWarning: A column-vector y was passed when a 1d array was expected. Please change the shape of y to (n_samples,), for example using ravel().\n"
     ]
    },
    {
     "name": "stdout",
     "output_type": "stream",
     "text": [
      "Mean Absolute Error: 113.37756986053046\n",
      "Mean Squared Error: 34170.80949412562\n",
      "Root Mean Squared Error: 184.8534811523051\n",
      "Variance test: 0.06450149931262061\n"
     ]
    },
    {
     "name": "stderr",
     "output_type": "stream",
     "text": [
      "/Users/mark/.pyenv/versions/3.7.4/lib/python3.7/site-packages/ipykernel_launcher.py:59: DataConversionWarning: A column-vector y was passed when a 1d array was expected. Please change the shape of y to (n_samples,), for example using ravel().\n"
     ]
    },
    {
     "name": "stdout",
     "output_type": "stream",
     "text": [
      "Mean Absolute Error: 115.56643257805412\n",
      "Mean Squared Error: 35223.885365624585\n",
      "Root Mean Squared Error: 187.68027431145924\n",
      "Variance test: 0.03567131022779091\n"
     ]
    },
    {
     "name": "stderr",
     "output_type": "stream",
     "text": [
      "/Users/mark/.pyenv/versions/3.7.4/lib/python3.7/site-packages/ipykernel_launcher.py:59: DataConversionWarning: A column-vector y was passed when a 1d array was expected. Please change the shape of y to (n_samples,), for example using ravel().\n"
     ]
    },
    {
     "name": "stdout",
     "output_type": "stream",
     "text": [
      "Mean Absolute Error: 115.8798647595512\n",
      "Mean Squared Error: 35422.82207883703\n",
      "Root Mean Squared Error: 188.20951644068646\n",
      "Variance test: 0.03022499509223897\n"
     ]
    },
    {
     "name": "stderr",
     "output_type": "stream",
     "text": [
      "/Users/mark/.pyenv/versions/3.7.4/lib/python3.7/site-packages/ipykernel_launcher.py:59: DataConversionWarning: A column-vector y was passed when a 1d array was expected. Please change the shape of y to (n_samples,), for example using ravel().\n"
     ]
    },
    {
     "name": "stdout",
     "output_type": "stream",
     "text": [
      "Mean Absolute Error: 115.54631239406702\n",
      "Mean Squared Error: 35197.60418428489\n",
      "Root Mean Squared Error: 187.61024541395625\n",
      "Variance test: 0.0363908133974129\n"
     ]
    },
    {
     "name": "stderr",
     "output_type": "stream",
     "text": [
      "/Users/mark/.pyenv/versions/3.7.4/lib/python3.7/site-packages/ipykernel_launcher.py:59: DataConversionWarning: A column-vector y was passed when a 1d array was expected. Please change the shape of y to (n_samples,), for example using ravel().\n"
     ]
    },
    {
     "name": "stdout",
     "output_type": "stream",
     "text": [
      "Mean Absolute Error: 115.93962424401333\n",
      "Mean Squared Error: 35443.080168801105\n",
      "Root Mean Squared Error: 188.2633266698565\n",
      "Variance test: 0.029670386844183216\n"
     ]
    },
    {
     "name": "stderr",
     "output_type": "stream",
     "text": [
      "/Users/mark/.pyenv/versions/3.7.4/lib/python3.7/site-packages/ipykernel_launcher.py:59: DataConversionWarning: A column-vector y was passed when a 1d array was expected. Please change the shape of y to (n_samples,), for example using ravel().\n"
     ]
    },
    {
     "name": "stdout",
     "output_type": "stream",
     "text": [
      "Mean Absolute Error: 113.20376576242104\n",
      "Mean Squared Error: 34047.82888294963\n",
      "Root Mean Squared Error: 184.5205378350866\n",
      "Variance test: 0.06786835479752029\n"
     ]
    },
    {
     "name": "stderr",
     "output_type": "stream",
     "text": [
      "/Users/mark/.pyenv/versions/3.7.4/lib/python3.7/site-packages/ipykernel_launcher.py:59: DataConversionWarning: A column-vector y was passed when a 1d array was expected. Please change the shape of y to (n_samples,), for example using ravel().\n"
     ]
    },
    {
     "name": "stdout",
     "output_type": "stream",
     "text": [
      "Mean Absolute Error: 113.61678583780159\n",
      "Mean Squared Error: 34292.7957940959\n",
      "Root Mean Squared Error: 185.18314122537154\n",
      "Variance test: 0.06116186520924305\n"
     ]
    },
    {
     "name": "stderr",
     "output_type": "stream",
     "text": [
      "/Users/mark/.pyenv/versions/3.7.4/lib/python3.7/site-packages/ipykernel_launcher.py:59: DataConversionWarning: A column-vector y was passed when a 1d array was expected. Please change the shape of y to (n_samples,), for example using ravel().\n"
     ]
    },
    {
     "name": "stdout",
     "output_type": "stream",
     "text": [
      "Mean Absolute Error: 113.25126193878204\n",
      "Mean Squared Error: 34070.29513531622\n",
      "Root Mean Squared Error: 184.58140517212513\n",
      "Variance test: 0.06725329341278419\n"
     ]
    },
    {
     "name": "stderr",
     "output_type": "stream",
     "text": [
      "/Users/mark/.pyenv/versions/3.7.4/lib/python3.7/site-packages/ipykernel_launcher.py:59: DataConversionWarning: A column-vector y was passed when a 1d array was expected. Please change the shape of y to (n_samples,), for example using ravel().\n"
     ]
    },
    {
     "name": "stdout",
     "output_type": "stream",
     "text": [
      "Mean Absolute Error: 113.66150996426214\n",
      "Mean Squared Error: 34331.03162797643\n",
      "Root Mean Squared Error: 185.28635035527154\n",
      "Variance test: 0.06011507803044025\n"
     ]
    },
    {
     "name": "stderr",
     "output_type": "stream",
     "text": [
      "/Users/mark/.pyenv/versions/3.7.4/lib/python3.7/site-packages/ipykernel_launcher.py:59: DataConversionWarning: A column-vector y was passed when a 1d array was expected. Please change the shape of y to (n_samples,), for example using ravel().\n"
     ]
    },
    {
     "name": "stdout",
     "output_type": "stream",
     "text": [
      "Mean Absolute Error: 115.4523622336676\n",
      "Mean Squared Error: 35218.99627771255\n",
      "Root Mean Squared Error: 187.66724881479067\n",
      "Variance test: 0.035805159395520536\n"
     ]
    },
    {
     "name": "stderr",
     "output_type": "stream",
     "text": [
      "/Users/mark/.pyenv/versions/3.7.4/lib/python3.7/site-packages/ipykernel_launcher.py:59: DataConversionWarning: A column-vector y was passed when a 1d array was expected. Please change the shape of y to (n_samples,), for example using ravel().\n"
     ]
    },
    {
     "name": "stdout",
     "output_type": "stream",
     "text": [
      "Mean Absolute Error: 115.98276618664234\n",
      "Mean Squared Error: 35469.548904843105\n",
      "Root Mean Squared Error: 188.33361066162115\n",
      "Variance test: 0.02894574896615365\n"
     ]
    },
    {
     "name": "stderr",
     "output_type": "stream",
     "text": [
      "/Users/mark/.pyenv/versions/3.7.4/lib/python3.7/site-packages/ipykernel_launcher.py:59: DataConversionWarning: A column-vector y was passed when a 1d array was expected. Please change the shape of y to (n_samples,), for example using ravel().\n"
     ]
    },
    {
     "name": "stdout",
     "output_type": "stream",
     "text": [
      "Mean Absolute Error: 115.42593560423737\n",
      "Mean Squared Error: 35220.90773098429\n",
      "Root Mean Squared Error: 187.6723414117922\n",
      "Variance test: 0.03575282930160939\n"
     ]
    },
    {
     "name": "stderr",
     "output_type": "stream",
     "text": [
      "/Users/mark/.pyenv/versions/3.7.4/lib/python3.7/site-packages/ipykernel_launcher.py:59: DataConversionWarning: A column-vector y was passed when a 1d array was expected. Please change the shape of y to (n_samples,), for example using ravel().\n"
     ]
    },
    {
     "name": "stdout",
     "output_type": "stream",
     "text": [
      "Mean Absolute Error: 115.95235251953761\n",
      "Mean Squared Error: 35461.882987414756\n",
      "Root Mean Squared Error: 188.313257598648\n",
      "Variance test: 0.029155619740852345\n"
     ]
    },
    {
     "name": "stderr",
     "output_type": "stream",
     "text": [
      "/Users/mark/.pyenv/versions/3.7.4/lib/python3.7/site-packages/ipykernel_launcher.py:59: DataConversionWarning: A column-vector y was passed when a 1d array was expected. Please change the shape of y to (n_samples,), for example using ravel().\n"
     ]
    },
    {
     "name": "stdout",
     "output_type": "stream",
     "text": [
      "Mean Absolute Error: 113.20866330861556\n",
      "Mean Squared Error: 34055.23435571884\n",
      "Root Mean Squared Error: 184.5406035421984\n",
      "Variance test: 0.06766561424864126\n"
     ]
    },
    {
     "name": "stderr",
     "output_type": "stream",
     "text": [
      "/Users/mark/.pyenv/versions/3.7.4/lib/python3.7/site-packages/ipykernel_launcher.py:59: DataConversionWarning: A column-vector y was passed when a 1d array was expected. Please change the shape of y to (n_samples,), for example using ravel().\n"
     ]
    },
    {
     "name": "stdout",
     "output_type": "stream",
     "text": [
      "Mean Absolute Error: 113.71590837906088\n",
      "Mean Squared Error: 34300.24569877051\n",
      "Root Mean Squared Error: 185.20325509766428\n",
      "Variance test: 0.06095790824256486\n"
     ]
    },
    {
     "name": "stderr",
     "output_type": "stream",
     "text": [
      "/Users/mark/.pyenv/versions/3.7.4/lib/python3.7/site-packages/ipykernel_launcher.py:59: DataConversionWarning: A column-vector y was passed when a 1d array was expected. Please change the shape of y to (n_samples,), for example using ravel().\n"
     ]
    },
    {
     "name": "stdout",
     "output_type": "stream",
     "text": [
      "Mean Absolute Error: 113.27561562387518\n",
      "Mean Squared Error: 34062.31138916819\n",
      "Root Mean Squared Error: 184.5597772787131\n",
      "Variance test: 0.06747186542386374\n"
     ]
    },
    {
     "name": "stderr",
     "output_type": "stream",
     "text": [
      "/Users/mark/.pyenv/versions/3.7.4/lib/python3.7/site-packages/ipykernel_launcher.py:59: DataConversionWarning: A column-vector y was passed when a 1d array was expected. Please change the shape of y to (n_samples,), for example using ravel().\n"
     ]
    },
    {
     "name": "stdout",
     "output_type": "stream",
     "text": [
      "Mean Absolute Error: 113.67504156982079\n",
      "Mean Squared Error: 34267.666198909654\n",
      "Root Mean Squared Error: 185.11527813476027\n",
      "Variance test: 0.061849841261541694\n"
     ]
    },
    {
     "name": "stderr",
     "output_type": "stream",
     "text": [
      "/Users/mark/.pyenv/versions/3.7.4/lib/python3.7/site-packages/ipykernel_launcher.py:59: DataConversionWarning: A column-vector y was passed when a 1d array was expected. Please change the shape of y to (n_samples,), for example using ravel().\n"
     ]
    },
    {
     "name": "stdout",
     "output_type": "stream",
     "text": [
      "Mean Absolute Error: 115.4077925035675\n",
      "Mean Squared Error: 35206.28409647914\n",
      "Root Mean Squared Error: 187.63337681894217\n",
      "Variance test: 0.036153182361917335\n"
     ]
    },
    {
     "name": "stderr",
     "output_type": "stream",
     "text": [
      "/Users/mark/.pyenv/versions/3.7.4/lib/python3.7/site-packages/ipykernel_launcher.py:59: DataConversionWarning: A column-vector y was passed when a 1d array was expected. Please change the shape of y to (n_samples,), for example using ravel().\n"
     ]
    },
    {
     "name": "stdout",
     "output_type": "stream",
     "text": [
      "Mean Absolute Error: 115.94824158435333\n",
      "Mean Squared Error: 35467.27994663181\n",
      "Root Mean Squared Error: 188.3275867912925\n",
      "Variance test: 0.029007866517250958\n"
     ]
    },
    {
     "name": "stderr",
     "output_type": "stream",
     "text": [
      "/Users/mark/.pyenv/versions/3.7.4/lib/python3.7/site-packages/ipykernel_launcher.py:59: DataConversionWarning: A column-vector y was passed when a 1d array was expected. Please change the shape of y to (n_samples,), for example using ravel().\n"
     ]
    },
    {
     "name": "stdout",
     "output_type": "stream",
     "text": [
      "Mean Absolute Error: 115.406942025674\n",
      "Mean Squared Error: 35202.15249301683\n",
      "Root Mean Squared Error: 187.62236671840816\n",
      "Variance test: 0.036266293783673076\n"
     ]
    },
    {
     "name": "stderr",
     "output_type": "stream",
     "text": [
      "/Users/mark/.pyenv/versions/3.7.4/lib/python3.7/site-packages/ipykernel_launcher.py:59: DataConversionWarning: A column-vector y was passed when a 1d array was expected. Please change the shape of y to (n_samples,), for example using ravel().\n"
     ]
    },
    {
     "name": "stdout",
     "output_type": "stream",
     "text": [
      "Mean Absolute Error: 116.00673576873199\n",
      "Mean Squared Error: 35466.527286731885\n",
      "Root Mean Squared Error: 188.3255885075947\n",
      "Variance test: 0.02902847218092497\n"
     ]
    },
    {
     "name": "stderr",
     "output_type": "stream",
     "text": [
      "/Users/mark/.pyenv/versions/3.7.4/lib/python3.7/site-packages/ipykernel_launcher.py:59: DataConversionWarning: A column-vector y was passed when a 1d array was expected. Please change the shape of y to (n_samples,), for example using ravel().\n"
     ]
    },
    {
     "name": "stdout",
     "output_type": "stream",
     "text": [
      "Mean Absolute Error: 113.1040037579266\n",
      "Mean Squared Error: 33987.79307206345\n",
      "Root Mean Squared Error: 184.3577854934894\n",
      "Variance test: 0.06951196265765103\n"
     ]
    },
    {
     "name": "stderr",
     "output_type": "stream",
     "text": [
      "/Users/mark/.pyenv/versions/3.7.4/lib/python3.7/site-packages/ipykernel_launcher.py:59: DataConversionWarning: A column-vector y was passed when a 1d array was expected. Please change the shape of y to (n_samples,), for example using ravel().\n"
     ]
    },
    {
     "name": "stdout",
     "output_type": "stream",
     "text": [
      "Mean Absolute Error: 113.44758058621302\n",
      "Mean Squared Error: 34170.28958691722\n",
      "Root Mean Squared Error: 184.8520748785829\n",
      "Variance test: 0.06451573287691581\n"
     ]
    },
    {
     "name": "stderr",
     "output_type": "stream",
     "text": [
      "/Users/mark/.pyenv/versions/3.7.4/lib/python3.7/site-packages/ipykernel_launcher.py:59: DataConversionWarning: A column-vector y was passed when a 1d array was expected. Please change the shape of y to (n_samples,), for example using ravel().\n"
     ]
    },
    {
     "name": "stdout",
     "output_type": "stream",
     "text": [
      "Mean Absolute Error: 113.08857344143314\n",
      "Mean Squared Error: 33958.59074632958\n",
      "Root Mean Squared Error: 184.27856833156042\n",
      "Variance test: 0.07031143836059905\n"
     ]
    },
    {
     "name": "stderr",
     "output_type": "stream",
     "text": [
      "/Users/mark/.pyenv/versions/3.7.4/lib/python3.7/site-packages/ipykernel_launcher.py:59: DataConversionWarning: A column-vector y was passed when a 1d array was expected. Please change the shape of y to (n_samples,), for example using ravel().\n"
     ]
    },
    {
     "name": "stdout",
     "output_type": "stream",
     "text": [
      "Mean Absolute Error: 113.46431538238276\n",
      "Mean Squared Error: 34194.77988485494\n",
      "Root Mean Squared Error: 184.91830597551706\n",
      "Variance test: 0.06384525894488724\n"
     ]
    },
    {
     "name": "stderr",
     "output_type": "stream",
     "text": [
      "/Users/mark/.pyenv/versions/3.7.4/lib/python3.7/site-packages/ipykernel_launcher.py:59: DataConversionWarning: A column-vector y was passed when a 1d array was expected. Please change the shape of y to (n_samples,), for example using ravel().\n"
     ]
    },
    {
     "name": "stdout",
     "output_type": "stream",
     "text": [
      "Mean Absolute Error: 115.49300985153445\n",
      "Mean Squared Error: 35200.27341978189\n",
      "Root Mean Squared Error: 187.61735905768927\n",
      "Variance test: 0.036317737405289985\n"
     ]
    },
    {
     "name": "stderr",
     "output_type": "stream",
     "text": [
      "/Users/mark/.pyenv/versions/3.7.4/lib/python3.7/site-packages/ipykernel_launcher.py:59: DataConversionWarning: A column-vector y was passed when a 1d array was expected. Please change the shape of y to (n_samples,), for example using ravel().\n"
     ]
    },
    {
     "name": "stdout",
     "output_type": "stream",
     "text": [
      "Mean Absolute Error: 115.75081529624279\n",
      "Mean Squared Error: 35358.96149013252\n",
      "Root Mean Squared Error: 188.03978698704304\n",
      "Variance test: 0.03197331437031625\n"
     ]
    },
    {
     "name": "stderr",
     "output_type": "stream",
     "text": [
      "/Users/mark/.pyenv/versions/3.7.4/lib/python3.7/site-packages/ipykernel_launcher.py:59: DataConversionWarning: A column-vector y was passed when a 1d array was expected. Please change the shape of y to (n_samples,), for example using ravel().\n"
     ]
    },
    {
     "name": "stdout",
     "output_type": "stream",
     "text": [
      "Mean Absolute Error: 115.49430497462325\n",
      "Mean Squared Error: 35221.46429040498\n",
      "Root Mean Squared Error: 187.67382420147192\n",
      "Variance test: 0.03573759230514051\n"
     ]
    },
    {
     "name": "stderr",
     "output_type": "stream",
     "text": [
      "/Users/mark/.pyenv/versions/3.7.4/lib/python3.7/site-packages/ipykernel_launcher.py:59: DataConversionWarning: A column-vector y was passed when a 1d array was expected. Please change the shape of y to (n_samples,), for example using ravel().\n"
     ]
    },
    {
     "name": "stdout",
     "output_type": "stream",
     "text": [
      "Mean Absolute Error: 115.74351174731251\n",
      "Mean Squared Error: 35365.42293993436\n",
      "Root Mean Squared Error: 188.05696727304297\n",
      "Variance test: 0.03179641845560477\n"
     ]
    },
    {
     "name": "stderr",
     "output_type": "stream",
     "text": [
      "/Users/mark/.pyenv/versions/3.7.4/lib/python3.7/site-packages/ipykernel_launcher.py:59: DataConversionWarning: A column-vector y was passed when a 1d array was expected. Please change the shape of y to (n_samples,), for example using ravel().\n"
     ]
    },
    {
     "name": "stdout",
     "output_type": "stream",
     "text": [
      "Mean Absolute Error: 113.07344483731524\n",
      "Mean Squared Error: 33954.91663708439\n",
      "Root Mean Squared Error: 184.26859916188755\n",
      "Variance test: 0.07041202490628284\n"
     ]
    },
    {
     "name": "stderr",
     "output_type": "stream",
     "text": [
      "/Users/mark/.pyenv/versions/3.7.4/lib/python3.7/site-packages/ipykernel_launcher.py:59: DataConversionWarning: A column-vector y was passed when a 1d array was expected. Please change the shape of y to (n_samples,), for example using ravel().\n"
     ]
    },
    {
     "name": "stdout",
     "output_type": "stream",
     "text": [
      "Mean Absolute Error: 113.45475546670758\n",
      "Mean Squared Error: 34152.59109246962\n",
      "Root Mean Squared Error: 184.80419663110905\n",
      "Variance test: 0.0650002667602293\n"
     ]
    },
    {
     "name": "stderr",
     "output_type": "stream",
     "text": [
      "/Users/mark/.pyenv/versions/3.7.4/lib/python3.7/site-packages/ipykernel_launcher.py:59: DataConversionWarning: A column-vector y was passed when a 1d array was expected. Please change the shape of y to (n_samples,), for example using ravel().\n"
     ]
    },
    {
     "name": "stdout",
     "output_type": "stream",
     "text": [
      "Mean Absolute Error: 113.06557800418831\n",
      "Mean Squared Error: 33965.036434802874\n",
      "Root Mean Squared Error: 184.29605648196295\n",
      "Variance test: 0.07013497394573909\n"
     ]
    },
    {
     "name": "stderr",
     "output_type": "stream",
     "text": [
      "/Users/mark/.pyenv/versions/3.7.4/lib/python3.7/site-packages/ipykernel_launcher.py:59: DataConversionWarning: A column-vector y was passed when a 1d array was expected. Please change the shape of y to (n_samples,), for example using ravel().\n"
     ]
    },
    {
     "name": "stdout",
     "output_type": "stream",
     "text": [
      "Mean Absolute Error: 113.48807641575416\n",
      "Mean Squared Error: 34170.955690808245\n",
      "Root Mean Squared Error: 184.8538765912369\n",
      "Variance test: 0.06449749686786066\n"
     ]
    },
    {
     "name": "stderr",
     "output_type": "stream",
     "text": [
      "/Users/mark/.pyenv/versions/3.7.4/lib/python3.7/site-packages/ipykernel_launcher.py:59: DataConversionWarning: A column-vector y was passed when a 1d array was expected. Please change the shape of y to (n_samples,), for example using ravel().\n"
     ]
    },
    {
     "name": "stdout",
     "output_type": "stream",
     "text": [
      "Mean Absolute Error: 115.47893170442826\n",
      "Mean Squared Error: 35214.38516243181\n",
      "Root Mean Squared Error: 187.6549630636819\n",
      "Variance test: 0.03593139847195703\n"
     ]
    },
    {
     "name": "stderr",
     "output_type": "stream",
     "text": [
      "/Users/mark/.pyenv/versions/3.7.4/lib/python3.7/site-packages/ipykernel_launcher.py:59: DataConversionWarning: A column-vector y was passed when a 1d array was expected. Please change the shape of y to (n_samples,), for example using ravel().\n"
     ]
    },
    {
     "name": "stdout",
     "output_type": "stream",
     "text": [
      "Mean Absolute Error: 115.74055489089908\n",
      "Mean Squared Error: 35361.520585498314\n",
      "Root Mean Squared Error: 188.04659152853134\n",
      "Variance test: 0.0319032536982613\n"
     ]
    },
    {
     "name": "stderr",
     "output_type": "stream",
     "text": [
      "/Users/mark/.pyenv/versions/3.7.4/lib/python3.7/site-packages/ipykernel_launcher.py:59: DataConversionWarning: A column-vector y was passed when a 1d array was expected. Please change the shape of y to (n_samples,), for example using ravel().\n"
     ]
    },
    {
     "name": "stdout",
     "output_type": "stream",
     "text": [
      "Mean Absolute Error: 115.42244652835133\n",
      "Mean Squared Error: 35181.04250006701\n",
      "Root Mean Squared Error: 187.5661016816925\n",
      "Variance test: 0.03684422468570436\n"
     ]
    },
    {
     "name": "stderr",
     "output_type": "stream",
     "text": [
      "/Users/mark/.pyenv/versions/3.7.4/lib/python3.7/site-packages/ipykernel_launcher.py:59: DataConversionWarning: A column-vector y was passed when a 1d array was expected. Please change the shape of y to (n_samples,), for example using ravel().\n"
     ]
    },
    {
     "name": "stdout",
     "output_type": "stream",
     "text": [
      "Mean Absolute Error: 115.68356731711903\n",
      "Mean Squared Error: 35342.68812847062\n",
      "Root Mean Squared Error: 187.99651094759875\n",
      "Variance test: 0.03241883221613917\n"
     ]
    },
    {
     "name": "stderr",
     "output_type": "stream",
     "text": [
      "/Users/mark/.pyenv/versions/3.7.4/lib/python3.7/site-packages/ipykernel_launcher.py:59: DataConversionWarning: A column-vector y was passed when a 1d array was expected. Please change the shape of y to (n_samples,), for example using ravel().\n"
     ]
    },
    {
     "name": "stdout",
     "output_type": "stream",
     "text": [
      "Mean Absolute Error: 113.26102274393746\n",
      "Mean Squared Error: 34054.02393010548\n",
      "Root Mean Squared Error: 184.5373239485863\n",
      "Variance test: 0.0676987522211755\n"
     ]
    },
    {
     "name": "stderr",
     "output_type": "stream",
     "text": [
      "/Users/mark/.pyenv/versions/3.7.4/lib/python3.7/site-packages/ipykernel_launcher.py:59: DataConversionWarning: A column-vector y was passed when a 1d array was expected. Please change the shape of y to (n_samples,), for example using ravel().\n"
     ]
    },
    {
     "name": "stdout",
     "output_type": "stream",
     "text": [
      "Mean Absolute Error: 113.6878629129854\n",
      "Mean Squared Error: 34311.595455410614\n",
      "Root Mean Squared Error: 185.2338939163419\n",
      "Variance test: 0.06064718454367768\n"
     ]
    },
    {
     "name": "stderr",
     "output_type": "stream",
     "text": [
      "/Users/mark/.pyenv/versions/3.7.4/lib/python3.7/site-packages/ipykernel_launcher.py:59: DataConversionWarning: A column-vector y was passed when a 1d array was expected. Please change the shape of y to (n_samples,), for example using ravel().\n"
     ]
    },
    {
     "name": "stdout",
     "output_type": "stream",
     "text": [
      "Mean Absolute Error: 113.2500051332403\n",
      "Mean Squared Error: 34058.202913954425\n",
      "Root Mean Squared Error: 184.54864647012295\n",
      "Variance test: 0.06758434366068322\n"
     ]
    },
    {
     "name": "stderr",
     "output_type": "stream",
     "text": [
      "/Users/mark/.pyenv/versions/3.7.4/lib/python3.7/site-packages/ipykernel_launcher.py:59: DataConversionWarning: A column-vector y was passed when a 1d array was expected. Please change the shape of y to (n_samples,), for example using ravel().\n"
     ]
    },
    {
     "name": "stdout",
     "output_type": "stream",
     "text": [
      "Mean Absolute Error: 113.61880171179645\n",
      "Mean Squared Error: 34266.15142950624\n",
      "Root Mean Squared Error: 185.11118666765182\n",
      "Variance test: 0.06189131129186176\n"
     ]
    },
    {
     "name": "stderr",
     "output_type": "stream",
     "text": [
      "/Users/mark/.pyenv/versions/3.7.4/lib/python3.7/site-packages/ipykernel_launcher.py:59: DataConversionWarning: A column-vector y was passed when a 1d array was expected. Please change the shape of y to (n_samples,), for example using ravel().\n"
     ]
    },
    {
     "name": "stdout",
     "output_type": "stream",
     "text": [
      "Mean Absolute Error: 115.37504278107973\n",
      "Mean Squared Error: 35209.807257744666\n",
      "Root Mean Squared Error: 187.6427650023967\n",
      "Variance test: 0.036056728337843014\n"
     ]
    },
    {
     "name": "stderr",
     "output_type": "stream",
     "text": [
      "/Users/mark/.pyenv/versions/3.7.4/lib/python3.7/site-packages/ipykernel_launcher.py:59: DataConversionWarning: A column-vector y was passed when a 1d array was expected. Please change the shape of y to (n_samples,), for example using ravel().\n"
     ]
    },
    {
     "name": "stdout",
     "output_type": "stream",
     "text": [
      "Mean Absolute Error: 115.72277041317508\n",
      "Mean Squared Error: 35392.013108268155\n",
      "Root Mean Squared Error: 188.12765109964073\n",
      "Variance test: 0.03106845611062259\n"
     ]
    },
    {
     "name": "stderr",
     "output_type": "stream",
     "text": [
      "/Users/mark/.pyenv/versions/3.7.4/lib/python3.7/site-packages/ipykernel_launcher.py:59: DataConversionWarning: A column-vector y was passed when a 1d array was expected. Please change the shape of y to (n_samples,), for example using ravel().\n"
     ]
    },
    {
     "name": "stdout",
     "output_type": "stream",
     "text": [
      "Mean Absolute Error: 115.43228802081491\n",
      "Mean Squared Error: 35225.35763679629\n",
      "Root Mean Squared Error: 187.68419655580033\n",
      "Variance test: 0.03563100367684513\n"
     ]
    },
    {
     "name": "stderr",
     "output_type": "stream",
     "text": [
      "/Users/mark/.pyenv/versions/3.7.4/lib/python3.7/site-packages/ipykernel_launcher.py:59: DataConversionWarning: A column-vector y was passed when a 1d array was expected. Please change the shape of y to (n_samples,), for example using ravel().\n"
     ]
    },
    {
     "name": "stdout",
     "output_type": "stream",
     "text": [
      "Mean Absolute Error: 115.72948699675963\n",
      "Mean Squared Error: 35385.86112325665\n",
      "Root Mean Squared Error: 188.1112998287361\n",
      "Variance test: 0.031236879769286796\n"
     ]
    },
    {
     "name": "stderr",
     "output_type": "stream",
     "text": [
      "/Users/mark/.pyenv/versions/3.7.4/lib/python3.7/site-packages/ipykernel_launcher.py:59: DataConversionWarning: A column-vector y was passed when a 1d array was expected. Please change the shape of y to (n_samples,), for example using ravel().\n"
     ]
    },
    {
     "name": "stdout",
     "output_type": "stream",
     "text": [
      "Mean Absolute Error: 113.23195718832046\n",
      "Mean Squared Error: 34037.268110687764\n",
      "Root Mean Squared Error: 184.49191882217434\n",
      "Variance test: 0.06815747837297359\n"
     ]
    },
    {
     "name": "stderr",
     "output_type": "stream",
     "text": [
      "/Users/mark/.pyenv/versions/3.7.4/lib/python3.7/site-packages/ipykernel_launcher.py:59: DataConversionWarning: A column-vector y was passed when a 1d array was expected. Please change the shape of y to (n_samples,), for example using ravel().\n"
     ]
    },
    {
     "name": "stdout",
     "output_type": "stream",
     "text": [
      "Mean Absolute Error: 113.66590380068196\n",
      "Mean Squared Error: 34267.28128402186\n",
      "Root Mean Squared Error: 185.11423846917305\n",
      "Variance test: 0.06186037912428932\n"
     ]
    },
    {
     "name": "stderr",
     "output_type": "stream",
     "text": [
      "/Users/mark/.pyenv/versions/3.7.4/lib/python3.7/site-packages/ipykernel_launcher.py:59: DataConversionWarning: A column-vector y was passed when a 1d array was expected. Please change the shape of y to (n_samples,), for example using ravel().\n"
     ]
    },
    {
     "name": "stdout",
     "output_type": "stream",
     "text": [
      "Mean Absolute Error: 113.28922946521456\n",
      "Mean Squared Error: 34077.71855536663\n",
      "Root Mean Squared Error: 184.601512873992\n",
      "Variance test: 0.0670500615189561\n"
     ]
    },
    {
     "name": "stderr",
     "output_type": "stream",
     "text": [
      "/Users/mark/.pyenv/versions/3.7.4/lib/python3.7/site-packages/ipykernel_launcher.py:59: DataConversionWarning: A column-vector y was passed when a 1d array was expected. Please change the shape of y to (n_samples,), for example using ravel().\n"
     ]
    },
    {
     "name": "stdout",
     "output_type": "stream",
     "text": [
      "Mean Absolute Error: 113.71811752232865\n",
      "Mean Squared Error: 34274.28784838771\n",
      "Root Mean Squared Error: 185.13316247606127\n",
      "Variance test: 0.06166855954037376\n"
     ]
    },
    {
     "name": "stderr",
     "output_type": "stream",
     "text": [
      "/Users/mark/.pyenv/versions/3.7.4/lib/python3.7/site-packages/ipykernel_launcher.py:59: DataConversionWarning: A column-vector y was passed when a 1d array was expected. Please change the shape of y to (n_samples,), for example using ravel().\n"
     ]
    },
    {
     "name": "stdout",
     "output_type": "stream",
     "text": [
      "Mean Absolute Error: 115.3561624799164\n",
      "Mean Squared Error: 35172.42412888195\n",
      "Root Mean Squared Error: 187.5431260507352\n",
      "Variance test: 0.03708017090533877\n"
     ]
    },
    {
     "name": "stderr",
     "output_type": "stream",
     "text": [
      "/Users/mark/.pyenv/versions/3.7.4/lib/python3.7/site-packages/ipykernel_launcher.py:59: DataConversionWarning: A column-vector y was passed when a 1d array was expected. Please change the shape of y to (n_samples,), for example using ravel().\n"
     ]
    },
    {
     "name": "stdout",
     "output_type": "stream",
     "text": [
      "Mean Absolute Error: 115.6563253879072\n",
      "Mean Squared Error: 35376.3039675559\n",
      "Root Mean Squared Error: 188.08589518503481\n",
      "Variance test: 0.03149852720934587\n"
     ]
    },
    {
     "name": "stderr",
     "output_type": "stream",
     "text": [
      "/Users/mark/.pyenv/versions/3.7.4/lib/python3.7/site-packages/ipykernel_launcher.py:59: DataConversionWarning: A column-vector y was passed when a 1d array was expected. Please change the shape of y to (n_samples,), for example using ravel().\n"
     ]
    },
    {
     "name": "stdout",
     "output_type": "stream",
     "text": [
      "Mean Absolute Error: 115.31859160719578\n",
      "Mean Squared Error: 35188.61241294801\n",
      "Root Mean Squared Error: 187.58627991659733\n",
      "Variance test: 0.036636982239436566\n"
     ]
    },
    {
     "name": "stderr",
     "output_type": "stream",
     "text": [
      "/Users/mark/.pyenv/versions/3.7.4/lib/python3.7/site-packages/ipykernel_launcher.py:59: DataConversionWarning: A column-vector y was passed when a 1d array was expected. Please change the shape of y to (n_samples,), for example using ravel().\n"
     ]
    },
    {
     "name": "stdout",
     "output_type": "stream",
     "text": [
      "Mean Absolute Error: 115.67024480461438\n",
      "Mean Squared Error: 35380.93513383232\n",
      "Root Mean Squared Error: 188.09820608882032\n",
      "Variance test: 0.031371739194307136\n"
     ]
    },
    {
     "name": "stderr",
     "output_type": "stream",
     "text": [
      "/Users/mark/.pyenv/versions/3.7.4/lib/python3.7/site-packages/ipykernel_launcher.py:59: DataConversionWarning: A column-vector y was passed when a 1d array was expected. Please change the shape of y to (n_samples,), for example using ravel().\n"
     ]
    },
    {
     "name": "stdout",
     "output_type": "stream",
     "text": [
      "Mean Absolute Error: 113.12906273476004\n",
      "Mean Squared Error: 33943.873013849756\n",
      "Root Mean Squared Error: 184.23863062303127\n",
      "Variance test: 0.07071436755286054\n"
     ]
    },
    {
     "name": "stderr",
     "output_type": "stream",
     "text": [
      "/Users/mark/.pyenv/versions/3.7.4/lib/python3.7/site-packages/ipykernel_launcher.py:59: DataConversionWarning: A column-vector y was passed when a 1d array was expected. Please change the shape of y to (n_samples,), for example using ravel().\n"
     ]
    },
    {
     "name": "stdout",
     "output_type": "stream",
     "text": [
      "Mean Absolute Error: 113.52370121720212\n",
      "Mean Squared Error: 34195.14489147675\n",
      "Root Mean Squared Error: 184.91929291308887\n",
      "Variance test: 0.063835266113213\n"
     ]
    },
    {
     "name": "stderr",
     "output_type": "stream",
     "text": [
      "/Users/mark/.pyenv/versions/3.7.4/lib/python3.7/site-packages/ipykernel_launcher.py:59: DataConversionWarning: A column-vector y was passed when a 1d array was expected. Please change the shape of y to (n_samples,), for example using ravel().\n"
     ]
    },
    {
     "name": "stdout",
     "output_type": "stream",
     "text": [
      "Mean Absolute Error: 113.14723731550036\n",
      "Mean Squared Error: 33961.10251941478\n",
      "Root Mean Squared Error: 184.28538335802648\n",
      "Variance test: 0.07024267323650446\n"
     ]
    },
    {
     "name": "stderr",
     "output_type": "stream",
     "text": [
      "/Users/mark/.pyenv/versions/3.7.4/lib/python3.7/site-packages/ipykernel_launcher.py:59: DataConversionWarning: A column-vector y was passed when a 1d array was expected. Please change the shape of y to (n_samples,), for example using ravel().\n"
     ]
    },
    {
     "name": "stdout",
     "output_type": "stream",
     "text": [
      "Mean Absolute Error: 113.51947246265247\n",
      "Mean Squared Error: 34172.7671580946\n",
      "Root Mean Squared Error: 184.85877625391387\n",
      "Variance test: 0.06444790410270496\n"
     ]
    },
    {
     "name": "stderr",
     "output_type": "stream",
     "text": [
      "/Users/mark/.pyenv/versions/3.7.4/lib/python3.7/site-packages/ipykernel_launcher.py:59: DataConversionWarning: A column-vector y was passed when a 1d array was expected. Please change the shape of y to (n_samples,), for example using ravel().\n"
     ]
    },
    {
     "name": "stdout",
     "output_type": "stream",
     "text": [
      "Mean Absolute Error: 115.64814820562391\n",
      "Mean Squared Error: 35200.96152527928\n",
      "Root Mean Squared Error: 187.61919284891746\n",
      "Variance test: 0.03629889905552175\n"
     ]
    },
    {
     "name": "stderr",
     "output_type": "stream",
     "text": [
      "/Users/mark/.pyenv/versions/3.7.4/lib/python3.7/site-packages/ipykernel_launcher.py:59: DataConversionWarning: A column-vector y was passed when a 1d array was expected. Please change the shape of y to (n_samples,), for example using ravel().\n"
     ]
    },
    {
     "name": "stdout",
     "output_type": "stream",
     "text": [
      "Mean Absolute Error: 115.9859886277012\n",
      "Mean Squared Error: 35400.59071160351\n",
      "Root Mean Squared Error: 188.1504470140943\n",
      "Variance test: 0.030833625997478964\n"
     ]
    },
    {
     "name": "stderr",
     "output_type": "stream",
     "text": [
      "/Users/mark/.pyenv/versions/3.7.4/lib/python3.7/site-packages/ipykernel_launcher.py:59: DataConversionWarning: A column-vector y was passed when a 1d array was expected. Please change the shape of y to (n_samples,), for example using ravel().\n"
     ]
    },
    {
     "name": "stdout",
     "output_type": "stream",
     "text": [
      "Mean Absolute Error: 115.62967907012651\n",
      "Mean Squared Error: 35193.37931166842\n",
      "Root Mean Squared Error: 187.59898536950678\n",
      "Variance test: 0.03650647826040043\n"
     ]
    },
    {
     "name": "stderr",
     "output_type": "stream",
     "text": [
      "/Users/mark/.pyenv/versions/3.7.4/lib/python3.7/site-packages/ipykernel_launcher.py:59: DataConversionWarning: A column-vector y was passed when a 1d array was expected. Please change the shape of y to (n_samples,), for example using ravel().\n"
     ]
    },
    {
     "name": "stdout",
     "output_type": "stream",
     "text": [
      "Mean Absolute Error: 115.99755592845025\n",
      "Mean Squared Error: 35414.72775087405\n",
      "Root Mean Squared Error: 188.18801170870066\n",
      "Variance test: 0.030446594515417424\n"
     ]
    },
    {
     "name": "stderr",
     "output_type": "stream",
     "text": [
      "/Users/mark/.pyenv/versions/3.7.4/lib/python3.7/site-packages/ipykernel_launcher.py:59: DataConversionWarning: A column-vector y was passed when a 1d array was expected. Please change the shape of y to (n_samples,), for example using ravel().\n"
     ]
    },
    {
     "name": "stdout",
     "output_type": "stream",
     "text": [
      "Mean Absolute Error: 113.15151981224996\n",
      "Mean Squared Error: 33976.49304203388\n",
      "Root Mean Squared Error: 184.32713593509197\n",
      "Variance test: 0.0698213249849381\n"
     ]
    },
    {
     "name": "stderr",
     "output_type": "stream",
     "text": [
      "/Users/mark/.pyenv/versions/3.7.4/lib/python3.7/site-packages/ipykernel_launcher.py:59: DataConversionWarning: A column-vector y was passed when a 1d array was expected. Please change the shape of y to (n_samples,), for example using ravel().\n"
     ]
    },
    {
     "name": "stdout",
     "output_type": "stream",
     "text": [
      "Mean Absolute Error: 113.55647363270006\n",
      "Mean Squared Error: 34187.319035628694\n",
      "Root Mean Squared Error: 184.89813150929538\n",
      "Variance test: 0.06404951554191674\n"
     ]
    },
    {
     "name": "stderr",
     "output_type": "stream",
     "text": [
      "/Users/mark/.pyenv/versions/3.7.4/lib/python3.7/site-packages/ipykernel_launcher.py:59: DataConversionWarning: A column-vector y was passed when a 1d array was expected. Please change the shape of y to (n_samples,), for example using ravel().\n"
     ]
    },
    {
     "name": "stdout",
     "output_type": "stream",
     "text": [
      "Mean Absolute Error: 113.0827351983185\n",
      "Mean Squared Error: 33947.38237014097\n",
      "Root Mean Squared Error: 184.24815431949642\n",
      "Variance test: 0.07061829146928489\n"
     ]
    },
    {
     "name": "stderr",
     "output_type": "stream",
     "text": [
      "/Users/mark/.pyenv/versions/3.7.4/lib/python3.7/site-packages/ipykernel_launcher.py:59: DataConversionWarning: A column-vector y was passed when a 1d array was expected. Please change the shape of y to (n_samples,), for example using ravel().\n"
     ]
    },
    {
     "name": "stdout",
     "output_type": "stream",
     "text": [
      "Mean Absolute Error: 113.47559243454104\n",
      "Mean Squared Error: 34152.56611707327\n",
      "Root Mean Squared Error: 184.8041290585069\n",
      "Variance test: 0.06500095051476096\n"
     ]
    },
    {
     "name": "stderr",
     "output_type": "stream",
     "text": [
      "/Users/mark/.pyenv/versions/3.7.4/lib/python3.7/site-packages/ipykernel_launcher.py:59: DataConversionWarning: A column-vector y was passed when a 1d array was expected. Please change the shape of y to (n_samples,), for example using ravel().\n"
     ]
    },
    {
     "name": "stdout",
     "output_type": "stream",
     "text": [
      "Mean Absolute Error: 115.55826801879708\n",
      "Mean Squared Error: 35162.840755338344\n",
      "Root Mean Squared Error: 187.51757452393187\n",
      "Variance test: 0.03734253611454197\n"
     ]
    },
    {
     "name": "stderr",
     "output_type": "stream",
     "text": [
      "/Users/mark/.pyenv/versions/3.7.4/lib/python3.7/site-packages/ipykernel_launcher.py:59: DataConversionWarning: A column-vector y was passed when a 1d array was expected. Please change the shape of y to (n_samples,), for example using ravel().\n"
     ]
    },
    {
     "name": "stdout",
     "output_type": "stream",
     "text": [
      "Mean Absolute Error: 115.9665442483877\n",
      "Mean Squared Error: 35424.35983182536\n",
      "Root Mean Squared Error: 188.2136016121719\n",
      "Variance test: 0.030182895837456702\n"
     ]
    },
    {
     "name": "stderr",
     "output_type": "stream",
     "text": [
      "/Users/mark/.pyenv/versions/3.7.4/lib/python3.7/site-packages/ipykernel_launcher.py:59: DataConversionWarning: A column-vector y was passed when a 1d array was expected. Please change the shape of y to (n_samples,), for example using ravel().\n"
     ]
    },
    {
     "name": "stdout",
     "output_type": "stream",
     "text": [
      "Mean Absolute Error: 115.64154399941913\n",
      "Mean Squared Error: 35175.3886241623\n",
      "Root Mean Squared Error: 187.55102938710385\n",
      "Variance test: 0.03699901154941143\n"
     ]
    },
    {
     "name": "stderr",
     "output_type": "stream",
     "text": [
      "/Users/mark/.pyenv/versions/3.7.4/lib/python3.7/site-packages/ipykernel_launcher.py:59: DataConversionWarning: A column-vector y was passed when a 1d array was expected. Please change the shape of y to (n_samples,), for example using ravel().\n"
     ]
    },
    {
     "name": "stdout",
     "output_type": "stream",
     "text": [
      "Mean Absolute Error: 116.0270608645482\n",
      "Mean Squared Error: 35430.52095192865\n",
      "Root Mean Squared Error: 188.22996826204016\n",
      "Variance test: 0.03001422208624882\n"
     ]
    },
    {
     "name": "stderr",
     "output_type": "stream",
     "text": [
      "/Users/mark/.pyenv/versions/3.7.4/lib/python3.7/site-packages/ipykernel_launcher.py:59: DataConversionWarning: A column-vector y was passed when a 1d array was expected. Please change the shape of y to (n_samples,), for example using ravel().\n"
     ]
    },
    {
     "name": "stdout",
     "output_type": "stream",
     "text": [
      "Mean Absolute Error: 113.33071275836784\n",
      "Mean Squared Error: 34021.96548040531\n",
      "Root Mean Squared Error: 184.4504418005154\n",
      "Variance test: 0.06857642038511025\n"
     ]
    },
    {
     "name": "stderr",
     "output_type": "stream",
     "text": [
      "/Users/mark/.pyenv/versions/3.7.4/lib/python3.7/site-packages/ipykernel_launcher.py:59: DataConversionWarning: A column-vector y was passed when a 1d array was expected. Please change the shape of y to (n_samples,), for example using ravel().\n"
     ]
    },
    {
     "name": "stdout",
     "output_type": "stream",
     "text": [
      "Mean Absolute Error: 113.84271115172254\n",
      "Mean Squared Error: 34335.23551163608\n",
      "Root Mean Squared Error: 185.2976942965996\n",
      "Variance test: 0.05999998778473381\n"
     ]
    },
    {
     "name": "stderr",
     "output_type": "stream",
     "text": [
      "/Users/mark/.pyenv/versions/3.7.4/lib/python3.7/site-packages/ipykernel_launcher.py:59: DataConversionWarning: A column-vector y was passed when a 1d array was expected. Please change the shape of y to (n_samples,), for example using ravel().\n"
     ]
    },
    {
     "name": "stdout",
     "output_type": "stream",
     "text": [
      "Mean Absolute Error: 113.33805894669159\n",
      "Mean Squared Error: 34040.8292913864\n",
      "Root Mean Squared Error: 184.5015698886771\n",
      "Variance test: 0.0680599834861515\n"
     ]
    },
    {
     "name": "stderr",
     "output_type": "stream",
     "text": [
      "/Users/mark/.pyenv/versions/3.7.4/lib/python3.7/site-packages/ipykernel_launcher.py:59: DataConversionWarning: A column-vector y was passed when a 1d array was expected. Please change the shape of y to (n_samples,), for example using ravel().\n"
     ]
    },
    {
     "name": "stdout",
     "output_type": "stream",
     "text": [
      "Mean Absolute Error: 113.84591342463759\n",
      "Mean Squared Error: 34357.65055301593\n",
      "Root Mean Squared Error: 185.3581682932153\n",
      "Variance test: 0.05938632840954983\n"
     ]
    },
    {
     "name": "stderr",
     "output_type": "stream",
     "text": [
      "/Users/mark/.pyenv/versions/3.7.4/lib/python3.7/site-packages/ipykernel_launcher.py:59: DataConversionWarning: A column-vector y was passed when a 1d array was expected. Please change the shape of y to (n_samples,), for example using ravel().\n"
     ]
    },
    {
     "name": "stdout",
     "output_type": "stream",
     "text": [
      "Mean Absolute Error: 115.57464148829379\n",
      "Mean Squared Error: 35221.41913269894\n",
      "Root Mean Squared Error: 187.67370389241785\n",
      "Variance test: 0.035738828593274374\n"
     ]
    },
    {
     "name": "stderr",
     "output_type": "stream",
     "text": [
      "/Users/mark/.pyenv/versions/3.7.4/lib/python3.7/site-packages/ipykernel_launcher.py:59: DataConversionWarning: A column-vector y was passed when a 1d array was expected. Please change the shape of y to (n_samples,), for example using ravel().\n"
     ]
    },
    {
     "name": "stdout",
     "output_type": "stream",
     "text": [
      "Mean Absolute Error: 116.12512163468269\n",
      "Mean Squared Error: 35477.126592663866\n",
      "Root Mean Squared Error: 188.35372731290417\n",
      "Variance test: 0.02873829366439329\n"
     ]
    },
    {
     "name": "stderr",
     "output_type": "stream",
     "text": [
      "/Users/mark/.pyenv/versions/3.7.4/lib/python3.7/site-packages/ipykernel_launcher.py:59: DataConversionWarning: A column-vector y was passed when a 1d array was expected. Please change the shape of y to (n_samples,), for example using ravel().\n"
     ]
    },
    {
     "name": "stdout",
     "output_type": "stream",
     "text": [
      "Mean Absolute Error: 115.49516629950627\n",
      "Mean Squared Error: 35198.21048366509\n",
      "Root Mean Squared Error: 187.61186125526575\n",
      "Variance test: 0.03637421466388746\n"
     ]
    },
    {
     "name": "stderr",
     "output_type": "stream",
     "text": [
      "/Users/mark/.pyenv/versions/3.7.4/lib/python3.7/site-packages/ipykernel_launcher.py:59: DataConversionWarning: A column-vector y was passed when a 1d array was expected. Please change the shape of y to (n_samples,), for example using ravel().\n"
     ]
    },
    {
     "name": "stdout",
     "output_type": "stream",
     "text": [
      "Mean Absolute Error: 116.13458279759013\n",
      "Mean Squared Error: 35477.435328193154\n",
      "Root Mean Squared Error: 188.3545468742211\n",
      "Variance test: 0.028729841373416498\n"
     ]
    },
    {
     "name": "stderr",
     "output_type": "stream",
     "text": [
      "/Users/mark/.pyenv/versions/3.7.4/lib/python3.7/site-packages/ipykernel_launcher.py:59: DataConversionWarning: A column-vector y was passed when a 1d array was expected. Please change the shape of y to (n_samples,), for example using ravel().\n"
     ]
    },
    {
     "name": "stdout",
     "output_type": "stream",
     "text": [
      "Mean Absolute Error: 113.28830390364085\n",
      "Mean Squared Error: 33997.829454134764\n",
      "Root Mean Squared Error: 184.385003333066\n",
      "Variance test: 0.06923719537765272\n"
     ]
    },
    {
     "name": "stderr",
     "output_type": "stream",
     "text": [
      "/Users/mark/.pyenv/versions/3.7.4/lib/python3.7/site-packages/ipykernel_launcher.py:59: DataConversionWarning: A column-vector y was passed when a 1d array was expected. Please change the shape of y to (n_samples,), for example using ravel().\n"
     ]
    },
    {
     "name": "stdout",
     "output_type": "stream",
     "text": [
      "Mean Absolute Error: 113.80220836165664\n",
      "Mean Squared Error: 34295.71289505134\n",
      "Root Mean Squared Error: 185.19101731739406\n",
      "Variance test: 0.061082003373642224\n"
     ]
    },
    {
     "name": "stderr",
     "output_type": "stream",
     "text": [
      "/Users/mark/.pyenv/versions/3.7.4/lib/python3.7/site-packages/ipykernel_launcher.py:59: DataConversionWarning: A column-vector y was passed when a 1d array was expected. Please change the shape of y to (n_samples,), for example using ravel().\n"
     ]
    },
    {
     "name": "stdout",
     "output_type": "stream",
     "text": [
      "Mean Absolute Error: 113.28543285441312\n",
      "Mean Squared Error: 34005.117241131426\n",
      "Root Mean Squared Error: 184.40476469205296\n",
      "Variance test: 0.06903767672680305\n"
     ]
    },
    {
     "name": "stderr",
     "output_type": "stream",
     "text": [
      "/Users/mark/.pyenv/versions/3.7.4/lib/python3.7/site-packages/ipykernel_launcher.py:59: DataConversionWarning: A column-vector y was passed when a 1d array was expected. Please change the shape of y to (n_samples,), for example using ravel().\n"
     ]
    },
    {
     "name": "stdout",
     "output_type": "stream",
     "text": [
      "Mean Absolute Error: 113.8789161312334\n",
      "Mean Squared Error: 34338.05327304516\n",
      "Root Mean Squared Error: 185.30529747701536\n",
      "Variance test: 0.05992284558024663\n"
     ]
    },
    {
     "name": "stderr",
     "output_type": "stream",
     "text": [
      "/Users/mark/.pyenv/versions/3.7.4/lib/python3.7/site-packages/ipykernel_launcher.py:59: DataConversionWarning: A column-vector y was passed when a 1d array was expected. Please change the shape of y to (n_samples,), for example using ravel().\n"
     ]
    },
    {
     "name": "stdout",
     "output_type": "stream",
     "text": [
      "Mean Absolute Error: 115.47166610715682\n",
      "Mean Squared Error: 35183.3214203324\n",
      "Root Mean Squared Error: 187.57217656233667\n",
      "Variance test: 0.036781834402213054\n"
     ]
    },
    {
     "name": "stderr",
     "output_type": "stream",
     "text": [
      "/Users/mark/.pyenv/versions/3.7.4/lib/python3.7/site-packages/ipykernel_launcher.py:59: DataConversionWarning: A column-vector y was passed when a 1d array was expected. Please change the shape of y to (n_samples,), for example using ravel().\n"
     ]
    },
    {
     "name": "stdout",
     "output_type": "stream",
     "text": [
      "Mean Absolute Error: 116.19389574119006\n",
      "Mean Squared Error: 35509.01639854294\n",
      "Root Mean Squared Error: 188.43836233246918\n",
      "Variance test: 0.027865242483319785\n"
     ]
    },
    {
     "name": "stderr",
     "output_type": "stream",
     "text": [
      "/Users/mark/.pyenv/versions/3.7.4/lib/python3.7/site-packages/ipykernel_launcher.py:59: DataConversionWarning: A column-vector y was passed when a 1d array was expected. Please change the shape of y to (n_samples,), for example using ravel().\n"
     ]
    },
    {
     "name": "stdout",
     "output_type": "stream",
     "text": [
      "Mean Absolute Error: 115.44376123536225\n",
      "Mean Squared Error: 35158.33087275469\n",
      "Root Mean Squared Error: 187.50554891190473\n",
      "Variance test: 0.03746600373084208\n"
     ]
    },
    {
     "name": "stderr",
     "output_type": "stream",
     "text": [
      "/Users/mark/.pyenv/versions/3.7.4/lib/python3.7/site-packages/ipykernel_launcher.py:59: DataConversionWarning: A column-vector y was passed when a 1d array was expected. Please change the shape of y to (n_samples,), for example using ravel().\n"
     ]
    },
    {
     "name": "stdout",
     "output_type": "stream",
     "text": [
      "Mean Absolute Error: 116.17227898950294\n",
      "Mean Squared Error: 35494.155686885104\n",
      "Root Mean Squared Error: 188.3989269791235\n",
      "Variance test: 0.02827208603431719\n"
     ]
    }
   ],
   "source": [
    "station_num_id=3\n",
    "\n",
    "results=[RunRF(station_num_id,EVENT_FLAG,SNOW_YN_FLAG,\n",
    "          RAIN_YN_FLAG,WEEKDAY_FLAG,PRECIP_TYP_FLAG,PEAK_FLAG,DELAY_FLAG,SEASON_FLAG) \n",
    "         for EVENT_FLAG in {0,1}\n",
    "         for SNOW_YN_FLAG in {0,1}\n",
    "         for RAIN_YN_FLAG in {0,1}\n",
    "         for WEEKDAY_FLAG in {0,1}\n",
    "         for PRECIP_TYP_FLAG in {0,1}\n",
    "         for PEAK_FLAG in {0,1}\n",
    "         for DELAY_FLAG in {0,1}\n",
    "         for SEASON_FLAG in {0,1}\n",
    "        ]\n"
   ]
  },
  {
   "cell_type": "code",
   "execution_count": 62,
   "metadata": {},
   "outputs": [],
   "source": [
    "flag_list=[[EVENT_FLAG,SNOW_YN_FLAG,\n",
    "          RAIN_YN_FLAG,WEEKDAY_FLAG,PRECIP_TYP_FLAG,PEAK_FLAG,DELAY_FLAG,SEASON_FLAG]\n",
    "         for EVENT_FLAG in {0,1}\n",
    "         for SNOW_YN_FLAG in {0,1}\n",
    "         for RAIN_YN_FLAG in {0,1}\n",
    "         for WEEKDAY_FLAG in {0,1}\n",
    "         for PRECIP_TYP_FLAG in {0,1}\n",
    "         for PEAK_FLAG in {0,1}\n",
    "         for DELAY_FLAG in {0,1}\n",
    "         for SEASON_FLAG in {0,1}\n",
    "        ]"
   ]
  },
  {
   "cell_type": "code",
   "execution_count": 72,
   "metadata": {},
   "outputs": [
    {
     "data": {
      "text/plain": [
       "array([0.00000000e+00, 0.00000000e+00, 0.00000000e+00, 0.00000000e+00,\n",
       "       0.00000000e+00, 0.00000000e+00, 0.00000000e+00, 0.00000000e+00,\n",
       "       1.13162890e+02, 3.40329885e+04, 1.84480320e+02, 6.82746425e-02])"
      ]
     },
     "execution_count": 72,
     "metadata": {},
     "output_type": "execute_result"
    }
   ],
   "source": [
    "full_res=np.append(flag_list,results,axis=1)\n",
    "full_res[0]"
   ]
  },
  {
   "cell_type": "code",
   "execution_count": 84,
   "metadata": {},
   "outputs": [
    {
     "name": "stdout",
     "output_type": "stream",
     "text": [
      "(array([42]), array([8]))\n",
      "(array([106]), array([9]))\n",
      "(array([106]), array([10]))\n",
      "(array([106]), array([11]))\n"
     ]
    }
   ],
   "source": [
    "mae_min=np.min(full_res[:,8])\n",
    "mse_min=np.min(full_res[:,9])\n",
    "rmse_min=np.min(full_res[:,10])\n",
    "vt_max=np.max(full_res[:,11])\n",
    "\n",
    "print(np.where(full_res==mae_min))\n",
    "print(np.where(full_res==mse_min))\n",
    "print(np.where(full_res==rmse_min))\n",
    "print(np.where(full_res==vt_max))"
   ]
  },
  {
   "cell_type": "code",
   "execution_count": 85,
   "metadata": {},
   "outputs": [
    {
     "name": "stdout",
     "output_type": "stream",
     "text": [
      "[0.00000000e+00 0.00000000e+00 1.00000000e+00 0.00000000e+00\n",
      " 1.00000000e+00 0.00000000e+00 1.00000000e+00 0.00000000e+00\n",
      " 1.12974454e+02 3.39562713e+04 1.84272275e+02 7.03749379e-02]\n",
      "[0.00000000e+00 1.00000000e+00 1.00000000e+00 0.00000000e+00\n",
      " 1.00000000e+00 0.00000000e+00 1.00000000e+00 0.00000000e+00\n",
      " 1.13042184e+02 3.39143987e+04 1.84158624e+02 7.15212908e-02]\n"
     ]
    }
   ],
   "source": [
    "print(full_res[42])\n",
    "print(full_res[106])"
   ]
  },
  {
   "cell_type": "code",
   "execution_count": 86,
   "metadata": {},
   "outputs": [],
   "source": [
    "f_combo_1=[0,0,1,0,1,0,1,0]\n",
    "f_combo_2=[0,1,1,0,1,0,1,0]"
   ]
  },
  {
   "cell_type": "code",
   "execution_count": 87,
   "metadata": {},
   "outputs": [
    {
     "name": "stderr",
     "output_type": "stream",
     "text": [
      "/Users/mark/.pyenv/versions/3.7.4/lib/python3.7/site-packages/ipykernel_launcher.py:59: DataConversionWarning: A column-vector y was passed when a 1d array was expected. Please change the shape of y to (n_samples,), for example using ravel().\n"
     ]
    },
    {
     "name": "stdout",
     "output_type": "stream",
     "text": [
      "Mean Absolute Error: 113.1018591750359\n",
      "Mean Squared Error: 33949.266706383205\n",
      "Root Mean Squared Error: 184.2532678309484\n",
      "Variance test: 0.07056670376166252\n"
     ]
    },
    {
     "data": {
      "text/plain": [
       "(113.1018591750359, 33949.266706383205, 184.2532678309484, 0.07056670376166252)"
      ]
     },
     "execution_count": 87,
     "metadata": {},
     "output_type": "execute_result"
    }
   ],
   "source": []
  },
  {
   "cell_type": "code",
   "execution_count": 89,
   "metadata": {},
   "outputs": [
    {
     "data": {
      "text/plain": [
       "[<matplotlib.lines.Line2D at 0x12947b610>]"
      ]
     },
     "execution_count": 89,
     "metadata": {},
     "output_type": "execute_result"
    },
    {
     "data": {
      "image/png": "[encoded data removed]",
      "text/plain": [
       "<Figure size 432x288 with 1 Axes>"
      ]
     },
     "metadata": {
      "needs_background": "light"
     },
     "output_type": "display_data"
    }
   ],
   "source": [
    "plt.plot(np.arange(0,len(ydiff),1),ydiff)"
   ]
  },
  {
   "cell_type": "code",
   "execution_count": 13,
   "metadata": {},
   "outputs": [],
   "source": [
    "# def rfr_model(X, y):\n",
    "# # Perform Grid-Search\n",
    "#     gsc = GridSearchCV(\n",
    "#         estimator=RandomForestRegressor(),\n",
    "#         param_grid={\n",
    "#             'max_depth': range(3,7),\n",
    "#             'n_estimators': (10, 50, 100, 1000),\n",
    "#         },\n",
    "#         cv=5, scoring='neg_mean_squared_error', verbose=0,n_jobs=-1)\n",
    "    \n",
    "#     grid_result = gsc.fit(X, y)\n",
    "#     best_params = grid_result.best_params_\n",
    "    \n",
    "#     rfr = RandomForestRegressor(max_depth=best_params[\"max_depth\"], n_estimators=best_params[\"n_estimators\"],                               \n",
    "#                                 random_state=False, verbose=False)\n",
    "#     # Perform K-Fold CV\n",
    "#     scores = cross_val_score(rfr, X, y, cv=10, scoring='neg_mean_absolute_error')\n",
    "\n",
    "#     return scores"
   ]
  },
  {
   "cell_type": "code",
   "execution_count": 67,
   "metadata": {},
   "outputs": [
    {
     "name": "stdout",
     "output_type": "stream",
     "text": [
      "{'n_estimators': [200, 400, 600, 800, 1000, 1200, 1400, 1600, 1800, 2000], 'max_features': ['auto', 'sqrt'], 'max_depth': [10, 20, 30, 40, 50, 60, 70, 80, 90, 100, 110, None], 'min_samples_split': [2, 5, 10], 'min_samples_leaf': [1, 2, 4], 'bootstrap': [True, False]}\n"
     ]
    }
   ],
   "source": [
    "# # Number of trees in random forest\n",
    "# n_estimators = [int(x) for x in np.linspace(start = 200, stop = 2000, num = 10)]\n",
    "# # Number of features to consider at every split\n",
    "# max_features = ['auto', 'sqrt']\n",
    "# # Maximum number of levels in tree\n",
    "# max_depth = [int(x) for x in np.linspace(10, 110, num = 11)]\n",
    "# max_depth.append(None)\n",
    "# # Minimum number of samples required to split a node\n",
    "# min_samples_split = [2, 5, 10]\n",
    "# # Minimum number of samples required at each leaf node\n",
    "# min_samples_leaf = [1, 2, 4]\n",
    "# # Method of selecting samples for training each tree\n",
    "# bootstrap = [True, False]\n",
    "# # Create the random grid\n",
    "# random_grid = {'n_estimators': n_estimators,\n",
    "#                'max_features': max_features,\n",
    "#                'max_depth': max_depth,\n",
    "#                'min_samples_split': min_samples_split,\n",
    "#                'min_samples_leaf': min_samples_leaf,\n",
    "#                'bootstrap': bootstrap}\n",
    "# print(random_grid)"
   ]
  },
  {
   "cell_type": "code",
   "execution_count": 70,
   "metadata": {},
   "outputs": [
    {
     "name": "stdout",
     "output_type": "stream",
     "text": [
      "Fitting 3 folds for each of 100 candidates, totalling 300 fits\n"
     ]
    },
    {
     "name": "stderr",
     "output_type": "stream",
     "text": [
      "[Parallel(n_jobs=-1)]: Using backend LokyBackend with 4 concurrent workers.\n",
      "[Parallel(n_jobs=-1)]: Done  33 tasks      | elapsed:  5.8min\n",
      "[Parallel(n_jobs=-1)]: Done 154 tasks      | elapsed: 30.6min\n",
      "[Parallel(n_jobs=-1)]: Done 300 out of 300 | elapsed: 57.0min finished\n",
      "/Users/mark/.pyenv/versions/3.7.4/lib/python3.7/site-packages/sklearn/model_selection/_search.py:715: DataConversionWarning: A column-vector y was passed when a 1d array was expected. Please change the shape of y to (n_samples,), for example using ravel().\n",
      "  self.best_estimator_.fit(X, y, **fit_params)\n"
     ]
    },
    {
     "data": {
      "text/plain": [
       "RandomizedSearchCV(cv=3, error_score='raise-deprecating',\n",
       "                   estimator=RandomForestRegressor(bootstrap=True,\n",
       "                                                   criterion='mse',\n",
       "                                                   max_depth=None,\n",
       "                                                   max_features='auto',\n",
       "                                                   max_leaf_nodes=None,\n",
       "                                                   min_impurity_decrease=0.0,\n",
       "                                                   min_impurity_split=None,\n",
       "                                                   min_samples_leaf=1,\n",
       "                                                   min_samples_split=2,\n",
       "                                                   min_weight_fraction_leaf=0.0,\n",
       "                                                   n_estimators='warn',\n",
       "                                                   n_jobs=None, oob_score=False,\n",
       "                                                   random_sta...\n",
       "                   param_distributions={'bootstrap': [True, False],\n",
       "                                        'max_depth': [10, 20, 30, 40, 50, 60,\n",
       "                                                      70, 80, 90, 100, 110,\n",
       "                                                      None],\n",
       "                                        'max_features': ['auto', 'sqrt'],\n",
       "                                        'min_samples_leaf': [1, 2, 4],\n",
       "                                        'min_samples_split': [2, 5, 10],\n",
       "                                        'n_estimators': [200, 400, 600, 800,\n",
       "                                                         1000, 1200, 1400, 1600,\n",
       "                                                         1800, 2000]},\n",
       "                   pre_dispatch='2*n_jobs', random_state=42, refit=True,\n",
       "                   return_train_score=False, scoring=None, verbose=2)"
      ]
     },
     "execution_count": 70,
     "metadata": {},
     "output_type": "execute_result"
    }
   ],
   "source": [
    "# Use the random grid to search for best hyperparameters\n",
    "# First create the base model to tune\n",
    "rf = RandomForestRegressor()\n",
    "# Random search of parameters, using 3 fold cross validation, \n",
    "# search across 100 different combinations, and use all available cores\n",
    "rf_random = RandomizedSearchCV(estimator = rf, param_distributions = random_grid, n_iter = 100, cv = 3, verbose=2, random_state=42, n_jobs = -1)\n",
    "# Fit the random search model\n",
    "rf_random.fit(x_train, y_train)\n"
   ]
  },
  {
   "cell_type": "code",
   "execution_count": 90,
   "metadata": {},
   "outputs": [
    {
     "data": {
      "text/plain": [
       "{'n_estimators': 1000,\n",
       " 'min_samples_split': 5,\n",
       " 'min_samples_leaf': 2,\n",
       " 'max_features': 'sqrt',\n",
       " 'max_depth': 10,\n",
       " 'bootstrap': True}"
      ]
     },
     "execution_count": 90,
     "metadata": {},
     "output_type": "execute_result"
    }
   ],
   "source": [
    "rf_random.best_params_"
   ]
  },
  {
   "cell_type": "code",
   "execution_count": 91,
   "metadata": {},
   "outputs": [],
   "source": [
    "# THIS TOOK A LONG TIME TO COMPILE #\n",
    "# {'n_estimators': 1000,\n",
    "#  'min_samples_split': 5,\n",
    "#  'min_samples_leaf': 2,\n",
    "#  'max_features': 'sqrt',\n",
    "#  'max_depth': 10,\n",
    "#  'bootstrap': True}"
   ]
  },
  {
   "cell_type": "code",
   "execution_count": 92,
   "metadata": {},
   "outputs": [],
   "source": [
    "def evaluate(model, test_features, test_labels):\n",
    "    predictions = model.predict(test_features)\n",
    "    errors = abs(predictions - test_labels)\n",
    "    mape = 100 * np.mean(errors / test_labels)\n",
    "    accuracy = 100 - mape\n",
    "    print('Model Performance')\n",
    "    print('Average Error: {:0.4f} degrees.'.format(np.mean(errors)))\n",
    "    print('Accuracy = {:0.2f}%.'.format(accuracy))\n",
    "    \n",
    "    return accuracy\n"
   ]
  },
  {
   "cell_type": "code",
   "execution_count": 93,
   "metadata": {},
   "outputs": [
    {
     "name": "stderr",
     "output_type": "stream",
     "text": [
      "/Users/mark/.pyenv/versions/3.7.4/lib/python3.7/site-packages/ipykernel_launcher.py:2: DataConversionWarning: A column-vector y was passed when a 1d array was expected. Please change the shape of y to (n_samples,), for example using ravel().\n",
      "  \n"
     ]
    },
    {
     "name": "stdout",
     "output_type": "stream",
     "text": [
      "Model Performance\n",
      "Average Error: 141.8708 degrees.\n",
      "Accuracy = -inf%.\n"
     ]
    },
    {
     "name": "stderr",
     "output_type": "stream",
     "text": [
      "/Users/mark/.pyenv/versions/3.7.4/lib/python3.7/site-packages/ipykernel_launcher.py:4: RuntimeWarning: divide by zero encountered in true_divide\n",
      "  after removing the cwd from sys.path.\n"
     ]
    }
   ],
   "source": [
    "base_model = RandomForestRegressor(n_estimators = 10, random_state = 42)\n",
    "base_model.fit(x_train, y_train)\n",
    "base_accuracy = evaluate(base_model, x_test, y_test)\n"
   ]
  },
  {
   "cell_type": "code",
   "execution_count": 94,
   "metadata": {},
   "outputs": [
    {
     "name": "stdout",
     "output_type": "stream",
     "text": [
      "Model Performance\n",
      "Average Error: 119.4564 degrees.\n",
      "Accuracy = -inf%.\n"
     ]
    },
    {
     "name": "stderr",
     "output_type": "stream",
     "text": [
      "/Users/mark/.pyenv/versions/3.7.4/lib/python3.7/site-packages/ipykernel_launcher.py:4: RuntimeWarning: divide by zero encountered in true_divide\n",
      "  after removing the cwd from sys.path.\n"
     ]
    }
   ],
   "source": [
    "best_random = rf_random.best_estimator_\n",
    "random_accuracy = evaluate(best_random, x_test, y_test)\n"
   ]
  },
  {
   "cell_type": "code",
   "execution_count": 95,
   "metadata": {},
   "outputs": [
    {
     "name": "stdout",
     "output_type": "stream",
     "text": [
      "Improvement of nan%.\n"
     ]
    },
    {
     "name": "stderr",
     "output_type": "stream",
     "text": [
      "/Users/mark/.pyenv/versions/3.7.4/lib/python3.7/site-packages/ipykernel_launcher.py:1: RuntimeWarning: invalid value encountered in double_scalars\n",
      "  \"\"\"Entry point for launching an IPython kernel.\n"
     ]
    }
   ],
   "source": [
    "print('Improvement of {:0.2f}%.'.format( 100 * (random_accuracy - base_accuracy) / base_accuracy))\n"
   ]
  },
  {
   "cell_type": "code",
   "execution_count": 99,
   "metadata": {},
   "outputs": [],
   "source": [
    "from sklearn.model_selection import GridSearchCV\n",
    "# Create the parameter grid based on the results of random search \n",
    "param_grid = {\n",
    "    'bootstrap': [True],\n",
    "    'max_depth': [10, 15],\n",
    "    'max_features': [2, 3],\n",
    "    'min_samples_leaf': [2,3],\n",
    "    'min_samples_split': [10, 12],\n",
    "    'n_estimators': [1000, 1200]\n",
    "}\n",
    "# Create a based model\n",
    "rf = RandomForestRegressor()\n",
    "# Instantiate the grid search model\n",
    "grid_search = GridSearchCV(estimator = rf, param_grid = param_grid,cv = 3, n_jobs = -1, verbose = 2)\n"
   ]
  },
  {
   "cell_type": "code",
   "execution_count": 102,
   "metadata": {},
   "outputs": [
    {
     "name": "stdout",
     "output_type": "stream",
     "text": [
      "Fitting 3 folds for each of 32 candidates, totalling 96 fits\n"
     ]
    },
    {
     "name": "stderr",
     "output_type": "stream",
     "text": [
      "[Parallel(n_jobs=-1)]: Using backend LokyBackend with 4 concurrent workers.\n",
      "[Parallel(n_jobs=-1)]: Done  33 tasks      | elapsed:  2.6min\n",
      "[Parallel(n_jobs=-1)]: Done  96 out of  96 | elapsed:  8.2min finished\n",
      "/Users/mark/.pyenv/versions/3.7.4/lib/python3.7/site-packages/sklearn/model_selection/_search.py:715: DataConversionWarning: A column-vector y was passed when a 1d array was expected. Please change the shape of y to (n_samples,), for example using ravel().\n",
      "  self.best_estimator_.fit(X, y, **fit_params)\n"
     ]
    },
    {
     "name": "stdout",
     "output_type": "stream",
     "text": [
      "Model Performance\n",
      "Average Error: 123.4753 degrees.\n",
      "Accuracy = -inf%.\n"
     ]
    },
    {
     "name": "stderr",
     "output_type": "stream",
     "text": [
      "/Users/mark/.pyenv/versions/3.7.4/lib/python3.7/site-packages/ipykernel_launcher.py:4: RuntimeWarning: divide by zero encountered in true_divide\n",
      "  after removing the cwd from sys.path.\n"
     ]
    }
   ],
   "source": [
    "# Fit the grid search to the data\n",
    "grid_search.fit(x_train, y_train)\n",
    "\n",
    "best_grid = grid_search.best_estimator_\n",
    "grid_accuracy = evaluate(best_grid, x_test, y_test)\n"
   ]
  },
  {
   "cell_type": "code",
   "execution_count": 96,
   "metadata": {},
   "outputs": [
    {
     "data": {
      "image/png": "[encoded data removed]",
      "text/plain": [
       "<Figure size 432x288 with 1 Axes>"
      ]
     },
     "metadata": {
      "needs_background": "light"
     },
     "output_type": "display_data"
    },
    {
     "name": "stdout",
     "output_type": "stream",
     "text": [
      "glb_max  2549.0  glb_min  -1308.0\n"
     ]
    }
   ],
   "source": [
    "# PLOT OF DELAY TIMES\n",
    "\n",
    "# GET DATA\n",
    "glb_max=0.0\n",
    "glb_min=0.0\n",
    "\n",
    "for station_num_id in range(len(MBTdelay_df)):  \n",
    "    test_df=MBTdelay_df[station_num_id][2]\n",
    "    loc_max=np.max(test_df['HEAD_GAP'])\n",
    "    loc_min=np.min(test_df['HEAD_GAP'])\n",
    "    if(loc_max>glb_max):\n",
    "        glb_max=loc_max\n",
    "    if(loc_min<glb_min):\n",
    "        glb_min=loc_min\n",
    "    plt.hist(test_df['HEAD_GAP'],bins=50,alpha=0.6)\n",
    "\n",
    "plt.xlabel('Delay [s]',fontsize=14)\n",
    "plt.ylabel('Counts',fontsize=14)\n",
    "plt.xlim([-1000,1600])\n",
    "plt.tight_layout()\n",
    "plt.savefig(\"PLOTS/hist_all_stat.pdf\")\n",
    "plt.show()\n",
    "print(\"glb_max \",glb_max,\" glb_min \",glb_min)"
   ]
  },
  {
   "cell_type": "code",
   "execution_count": 109,
   "metadata": {},
   "outputs": [
    {
     "name": "stdout",
     "output_type": "stream",
     "text": [
      "Mean squared error: 4690.38\n",
      "Variance score: 0.03\n",
      "Mean squared error: 23916.85\n",
      "Variance score: 0.12\n",
      "Mean squared error: 4089.67\n",
      "Variance score: 0.08\n",
      "Mean squared error: 32194.94\n",
      "Variance score: 0.07\n",
      "Mean squared error: 19191.61\n",
      "Variance score: 0.09\n",
      "Mean squared error: 11545.31\n",
      "Variance score: 0.07\n",
      "Mean squared error: 9663.26\n",
      "Variance score: 0.16\n",
      "Mean squared error: 32945.83\n",
      "Variance score: 0.04\n",
      "Mean squared error: 18536.61\n",
      "Variance score: 0.08\n",
      "Mean squared error: 27572.06\n",
      "Variance score: 0.04\n",
      "Mean squared error: 32315.73\n",
      "Variance score: 0.09\n",
      "Mean squared error: 15680.82\n",
      "Variance score: 0.14\n",
      "Mean squared error: 29752.62\n",
      "Variance score: 0.10\n",
      "Mean squared error: 6284.34\n",
      "Variance score: 0.22\n",
      "Mean squared error: 5649.98\n",
      "Variance score: 0.20\n",
      "Mean squared error: 25963.18\n",
      "Variance score: 0.31\n",
      "Mean squared error: 742.69\n",
      "Variance score: 0.08\n",
      "Mean squared error: 3612.01\n",
      "Variance score: 0.14\n",
      "Mean squared error: 38380.75\n",
      "Variance score: 0.04\n",
      "Mean squared error: 21250.35\n",
      "Variance score: 0.09\n",
      "Mean squared error: 1021.86\n",
      "Variance score: 0.06\n",
      "Mean squared error: 24472.47\n",
      "Variance score: 0.11\n",
      "Mean squared error: 29559.21\n",
      "Variance score: 0.11\n",
      "Mean squared error: 33153.06\n",
      "Variance score: 0.21\n",
      "Mean squared error: 23504.08\n",
      "Variance score: 0.24\n",
      "Mean squared error: 13339.25\n",
      "Variance score: 0.09\n",
      "Mean squared error: 13612.55\n",
      "Variance score: 0.07\n",
      "Mean squared error: 11830.69\n",
      "Variance score: 0.02\n",
      "Mean squared error: 48243.10\n",
      "Variance score: 0.07\n",
      "Mean squared error: 24540.84\n",
      "Variance score: 0.20\n",
      "Mean squared error: 6325.67\n",
      "Variance score: 0.53\n",
      "Mean squared error: 3935.02\n",
      "Variance score: 0.17\n",
      "Mean squared error: 1118.42\n",
      "Variance score: 0.06\n",
      "Mean squared error: 1387.81\n",
      "Variance score: 0.11\n",
      "Mean squared error: 31668.27\n",
      "Variance score: 0.11\n",
      "Mean squared error: 33355.89\n",
      "Variance score: 0.10\n",
      "Mean squared error: 32537.74\n",
      "Variance score: 0.06\n",
      "Mean squared error: 19322.46\n",
      "Variance score: 0.07\n",
      "Mean squared error: 10764.62\n",
      "Variance score: 0.52\n",
      "Mean squared error: 19575.48\n",
      "Variance score: 0.10\n",
      "Mean squared error: 12038.73\n",
      "Variance score: 0.05\n",
      "Mean squared error: 41806.04\n",
      "Variance score: 0.04\n",
      "Mean squared error: 20968.84\n",
      "Variance score: 0.08\n",
      "Mean squared error: 16355.82\n",
      "Variance score: 0.09\n",
      "Mean squared error: 28740.84\n",
      "Variance score: 0.29\n",
      "Mean squared error: 2136.84\n",
      "Variance score: 0.08\n",
      "Mean squared error: 27183.42\n",
      "Variance score: 0.13\n",
      "Mean squared error: 29331.23\n",
      "Variance score: 0.16\n",
      "Mean squared error: 89095.73\n",
      "Variance score: 0.06\n"
     ]
    }
   ],
   "source": [
    "loss_stats=[]\n",
    "\n",
    "GAP_RES=[]\n",
    "\n",
    "prod_regr = RandomForestRegressor(n_estimators=1000,\n",
    " min_samples_split=5,\n",
    " min_samples_leaf=2,\n",
    " max_features=\"sqrt\",\n",
    " max_depth=10,\n",
    " bootstrap=True)\n",
    "\n",
    "# GET DATA\n",
    "for station_num_id in range(len(MBTdelay_df)):\n",
    "    station_name=MBTdelay_df[station_num_id][0]\n",
    "    station_id=MBTdelay_df[station_num_id][1]\n",
    "    \n",
    "    test_df=MBTdelay_df[station_num_id][2]\n",
    "\n",
    "    test_df=MBTdelay_df[station_num_id][2]\n",
    "    test_df['HEAD_GAP']=test_df['HEAD_GAP'].fillna(0)\n",
    "    # ONE HOT ENCODE EVENT 1-yes 0-no\n",
    "    test_df['event']=test_df['event'].apply(lambda x: ohe_event(x))\n",
    "\n",
    "    gap_mode=stats.mode(test_df['HEAD_GAP'].values)\n",
    "    gap_mean=np.mean(test_df['HEAD_GAP'])\n",
    "    gap_mean_unc=np.std(test_df['HEAD_GAP'])/np.sqrt(len(test_df['HEAD_GAP']))\n",
    "    \n",
    "    GAP_RES.append([station_name,station_id,\n",
    "                    gap_mode,\n",
    "                    gap_mean,\n",
    "                    gap_mean_unc\n",
    "                    ])\n",
    "    \n",
    "    lr_df=test_df[np.isfinite(test_df['TEMP'])]\n",
    "\n",
    "    all_x=np.transpose(np.array([ \n",
    "                                    lr_df['HOUR_BIN'],  \n",
    "                                    lr_df['MONTH_BIN'],\n",
    "                                    lr_df['DOW'],\n",
    "                                    lr_df['event'],\n",
    "                                    lr_df['PRECIP_PRO'],\n",
    "                                    lr_df['PRECIP_INT'], \n",
    "                                    lr_df['PRECIP_ACC'], \n",
    "                                    lr_df['TEMP']],dtype=np.float32))\n",
    "\n",
    "    all_y=np.transpose(np.array([lr_df['HEAD_GAP']],dtype=np.float32))\n",
    "    all_y=np.transpose(all_y)[0]\n",
    "\n",
    "    x_train, x_test, y_train, y_test = train_test_split(all_x, all_y, test_size=0.2, random_state=42)\n",
    "    \n",
    "\n",
    "    # Train the model using the training sets\n",
    "    prod_regr.fit(x_train, y_train)\n",
    "\n",
    "    # Make predictions using the testing set\n",
    "    y_pred = prod_regr.predict(x_test)\n",
    "\n",
    "    # The mean squared error\n",
    "    mse_loc=mean_squared_error(y_test,y_pred)\n",
    "    print(\"Mean squared error: %.2f\" % mse_loc)\n",
    "    # Explained variance score: 1 is perfect prediction\n",
    "    r2_loc=r2_score(y_test,y_pred)\n",
    "    print('Variance score: %.2f' % r2_score(y_test,y_pred))\n",
    "    \n",
    "    loss_stats.append([mse_loc,r2_loc])\n",
    "    pickle.dump(prod_regr, open('RF_MODEL/'+station_name+'_'+station_id+'.pk', 'wb'))\n",
    "    \n",
    "#     plt.hist(test_df['HEAD_GAP'],bins=50)\n",
    "\n",
    "# plt.show()\n"
   ]
  },
  {
   "cell_type": "code",
   "execution_count": 110,
   "metadata": {},
   "outputs": [],
   "source": [
    "    \n",
    "GAP_RES=np.array(GAP_RES) \n",
    "with open('MODELS/DH_RES.csv', mode='w') as dh_file:\n",
    "    dh_file=csv.writer(dh_file, delimiter=',', quotechar='\"', quoting=csv.QUOTE_MINIMAL)\n",
    "    dh_file.writerow([\"station_name\",\"station_id\",\"MEAN_GAP\",\"UNC_MEAN_GAP\"])\n",
    "    for line in range(len(GAP_RES)):\n",
    "        dh_file.writerow([GAP_RES[line,0],GAP_RES[line,1],GAP_RES[line,2],GAP_RES[line,3]])\n",
    "\n",
    "# print(\"OVERALL MEAN GAP=\",np.mean(np.mean(GAP_RES[:,2].astype(float).round(2))),np.mean(np.mean(GAP_RES[:,3].astype(float))))\n",
    "                                 "
   ]
  },
  {
   "cell_type": "code",
   "execution_count": 111,
   "metadata": {},
   "outputs": [
    {
     "data": {
      "text/plain": [
       "ModeResult(mode=array([8.]), count=array([15014]))"
      ]
     },
     "execution_count": 111,
     "metadata": {},
     "output_type": "execute_result"
    }
   ],
   "source": [
    "\n",
    "all_delays=[]\n",
    "for i in range(len(MBTdelay_df[:,2])):\n",
    "    all_delays.append(MBTdelay_df[:,2][i]['HEAD_GAP'].values)\n",
    "\n",
    "all_delays=[round(val,0) for sublist in all_delays for val in sublist] \n",
    "stats.mode(all_delays)"
   ]
  },
  {
   "cell_type": "code",
   "execution_count": 112,
   "metadata": {},
   "outputs": [
    {
     "name": "stderr",
     "output_type": "stream",
     "text": [
      "No handles with labels found to put in legend.\n"
     ]
    },
    {
     "data": {
      "image/png": "[encoded data removed]",
      "text/plain": [
       "<Figure size 432x288 with 1 Axes>"
      ]
     },
     "metadata": {},
     "output_type": "display_data"
    }
   ],
   "source": [
    "loss_stats=np.array(loss_stats)\n",
    "plt.scatter(loss_stats[:,0],loss_stats[:,1])\n",
    "plt.title(\"All stations\")\n",
    "plt.xlabel(\"Training loss (MSE)\")\n",
    "plt.ylabel(\"Variance score\")\n",
    "# xr=np.arange(0,250000)\n",
    "# plt.plot(xr,xr,label=\"1:1\",color=\"C1\")\n",
    "plt.legend()\n",
    "plt.tight_layout()\n",
    "plt.savefig(\"train_test_err.pdf\")"
   ]
  },
  {
   "cell_type": "code",
   "execution_count": 121,
   "metadata": {},
   "outputs": [
    {
     "name": "stderr",
     "output_type": "stream",
     "text": [
      "No handles with labels found to put in legend.\n"
     ]
    },
    {
     "data": {
      "image/png": "[encoded data removed]",
      "text/plain": [
       "<Figure size 432x288 with 1 Axes>"
      ]
     },
     "metadata": {},
     "output_type": "display_data"
    }
   ],
   "source": [
    "loss_stats=np.array(loss_stats)\n",
    "plt.scatter(np.sqrt(loss_stats[:,0]),loss_stats[:,1])\n",
    "plt.title(\"All stations\")\n",
    "plt.xlabel(\"Training loss (RMSE)\")\n",
    "plt.ylabel(\"Variance score\")\n",
    "# xr=np.arange(0,250000)\n",
    "# plt.plot(xr,xr,label=\"1:1\",color=\"C1\")\n",
    "plt.legend()\n",
    "plt.tight_layout()\n",
    "plt.savefig(\"train_test_err.pdf\")"
   ]
  },
  {
   "cell_type": "code",
   "execution_count": 116,
   "metadata": {},
   "outputs": [
    {
     "data": {
      "image/png": "[encoded data removed]",
      "text/plain": [
       "<Figure size 432x288 with 1 Axes>"
      ]
     },
     "metadata": {},
     "output_type": "display_data"
    }
   ],
   "source": [
    "# plt.subplots(figsize=(5, 10))\n",
    "plt.style.use('fivethirtyeight')\n",
    "\n",
    "loss_stats=np.array(loss_stats)\n",
    "\n",
    "all_dat=[ [MBTdelay_df[i][0],loss_stats[:,1][i]] for i in range(len(MBTdelay_df[:,2]))]\n",
    "all_dat=np.array(all_dat)\n",
    "results=[]\n",
    "for x in np.unique(all_dat[:,0]):\n",
    "    \n",
    "    results.append([x,np.average(all_dat[np.where(all_dat[:,0]==x)][:,1].astype(float))])\n",
    "    \n",
    "results=np.array(results)\n",
    "\n",
    "xnames=[MBTdelay_df[i][0] for i in range(len(MBTdelay_df[:,2]))]\n",
    "plt.scatter(results[:,0],results[:,1].astype(float))\n",
    "# plt.title(\"All stations\")\n",
    "# plt.xlabel(\"Training loss (MSE)\")\n",
    "plt.ylabel(\"Variance score\")\n",
    "# xr=np.arange(0,250000)\n",
    "# plt.plot(xr,xr,label=\"1:1\",color=\"C1\")\n",
    "plt.xticks(xnames, rotation='vertical')\n",
    "\n",
    "# plt.legend()\n",
    "# plt.tight_layout\n",
    "\n",
    "plt.savefig(\"FIGS/RF_train_test_err.pdf\")"
   ]
  },
  {
   "cell_type": "code",
   "execution_count": 122,
   "metadata": {},
   "outputs": [],
   "source": [
    "def get_cv_score_rf_model(X, yin):\n",
    "    LModel = RandomForestRegressor(n_estimators=1000,\n",
    "     min_samples_split=5,\n",
    "     min_samples_leaf=2,\n",
    "     max_features=\"sqrt\",\n",
    "     max_depth=10,\n",
    "     bootstrap=True)\n",
    "    scaler = RobustScaler()\n",
    "    pipe = Pipeline(steps=[('scaler', scaler), ('linear', LModel)])\n",
    "    cv_results = cross_validate(pipe, X, yin, cv = 5, n_jobs = -1,\n",
    "                                scoring = ('r2', 'neg_mean_absolute_error'),\n",
    "                                verbose = 0)\n",
    "    mae_mean_score = -cv_results['test_neg_mean_absolute_error'].mean()\n",
    "    r2_mean_score = -cv_results['test_r2'].mean()\n",
    "    regr = RandomForestRegressor(n_estimators=1000,\n",
    "     min_samples_split=5,\n",
    "     min_samples_leaf=2,\n",
    "     max_features=\"sqrt\",\n",
    "     max_depth=10,\n",
    "     bootstrap=True)\n",
    "    pipe = Pipeline(steps=[('scaler', scaler), ('linear', regr)])\n",
    "    pipe.fit(X, yin)\n",
    "\n",
    "    return mae_mean_score, r2_mean_score, pipe"
   ]
  },
  {
   "cell_type": "code",
   "execution_count": 124,
   "metadata": {},
   "outputs": [],
   "source": [
    "mae_mean_score_loc, r2_mean_score_loc, pipe_loc=get_cv_score_rf_model(x_train,y_train)"
   ]
  },
  {
   "cell_type": "code",
   "execution_count": 129,
   "metadata": {},
   "outputs": [
    {
     "data": {
      "text/plain": [
       "array([249.59656924, 340.78661084, 322.91119868, ..., 364.05589999,\n",
       "       262.69468495, 275.41093543])"
      ]
     },
     "execution_count": 129,
     "metadata": {},
     "output_type": "execute_result"
    }
   ],
   "source": []
  },
  {
   "cell_type": "code",
   "execution_count": null,
   "metadata": {},
   "outputs": [],
   "source": [
    "loss_stats=[]\n",
    "\n",
    "GAP_RES=[]\n",
    "\n",
    "prod_regr = RandomForestRegressor(n_estimators=1000,\n",
    " min_samples_split=5,\n",
    " min_samples_leaf=2,\n",
    " max_features=\"sqrt\",\n",
    " max_depth=10,\n",
    " bootstrap=True)\n",
    "\n",
    "# GET DATA\n",
    "for station_num_id in range(len(MBTdelay_df)):\n",
    "    station_name=MBTdelay_df[station_num_id][0]\n",
    "    station_id=MBTdelay_df[station_num_id][1]\n",
    "    \n",
    "    test_df=MBTdelay_df[station_num_id][2]\n",
    "\n",
    "    test_df=MBTdelay_df[station_num_id][2]\n",
    "    test_df['HEAD_GAP']=test_df['HEAD_GAP'].fillna(0)\n",
    "    # ONE HOT ENCODE EVENT 1-yes 0-no\n",
    "    test_df['event']=test_df['event'].apply(lambda x: ohe_event(x))\n",
    "\n",
    "    gap_mode=stats.mode(test_df['HEAD_GAP'].values)\n",
    "    gap_mean=np.mean(test_df['HEAD_GAP'])\n",
    "    gap_mean_unc=np.std(test_df['HEAD_GAP'])/np.sqrt(len(test_df['HEAD_GAP']))\n",
    "    \n",
    "    GAP_RES.append([station_name,station_id,\n",
    "                    gap_mode,\n",
    "                    gap_mean,\n",
    "                    gap_mean_unc\n",
    "                    ])\n",
    "    \n",
    "    lr_df=test_df[np.isfinite(test_df['TEMP'])]\n",
    "\n",
    "    all_x=np.transpose(np.array([ \n",
    "                                    lr_df['HOUR_BIN'],  \n",
    "                                    lr_df['MONTH_BIN'],\n",
    "                                    lr_df['DOW'],\n",
    "                                    lr_df['event'],\n",
    "                                    lr_df['PRECIP_PRO'],\n",
    "                                    lr_df['PRECIP_INT'], \n",
    "                                    lr_df['PRECIP_ACC'], \n",
    "                                    lr_df['TEMP']],dtype=np.float32))\n",
    "\n",
    "    all_y=np.transpose(np.array([lr_df['HEAD_GAP']],dtype=np.float32))\n",
    "    all_y=np.transpose(all_y)[0]\n",
    "\n",
    "    x_train, x_test, y_train, y_test = train_test_split(all_x, all_y, test_size=0.2, random_state=42)\n",
    "    \n",
    "    # Train the model using the training sets\n",
    "    mae_mean_score, r2_mean_score, pipe=get_cv_score_rf_model(x_train,y_train)\n",
    "    \n",
    "    # Make predictions using the testing set\n",
    "    y_pred = prod_regr.predict(x_test)\n",
    "\n",
    "    # The mean squared error\n",
    "    mse_loc=mean_squared_error(y_test,y_pred)\n",
    "    print(\"Mean squared error: %.2f\" % mse_loc)\n",
    "    # Explained variance score: 1 is perfect prediction\n",
    "    r2_loc=r2_score(y_test,y_pred)\n",
    "    print('Variance score: %.2f' % r2_score(y_test,y_pred))\n",
    "    \n",
    "    loss_stats.append([mse_loc,r2_loc])\n",
    "    pickle.dump(prod_regr, open('RF_MODEL/'+station_name+'_'+station_id+'.pk', 'wb'))\n",
    "    \n",
    "#     plt.hist(test_df['HEAD_GAP'],bins=50)\n",
    "\n",
    "# plt.show()\n"
   ]
  }
 ],
 "metadata": {
  "kernelspec": {
   "display_name": "Python 3",
   "language": "python",
   "name": "python3"
  },
  "language_info": {
   "codemirror_mode": {
    "name": "ipython",
    "version": 3
   },
   "file_extension": ".py",
   "mimetype": "text/x-python",
   "name": "python",
   "nbconvert_exporter": "python",
   "pygments_lexer": "ipython3",
   "version": "3.7.4"
  }
 },
 "nbformat": 4,
 "nbformat_minor": 2
}
